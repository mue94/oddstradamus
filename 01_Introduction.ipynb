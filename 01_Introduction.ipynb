{
 "cells": [
  {
   "cell_type": "markdown",
   "id": "cd37e259",
   "metadata": {},
   "source": [
    "# Oddstradamus\n",
    "### Good odds and where to find them"
   ]
  },
  {
   "cell_type": "markdown",
   "id": "816ae09a",
   "metadata": {},
   "source": [
    "### Introduction"
   ]
  },
  {
   "cell_type": "markdown",
   "id": "ec2f8043",
   "metadata": {},
   "source": [
    "In the long run, the bookmaker always wins. The aim of this project is to disprove exactly this. We are in the football sports betting market and are trying to develop a strategy that is profitable in the long term and which will make the bookmaker leave the pitch as the loser. There are three aspects to this strategy that need to be optimised. \n",
    "\n",
    "These are:\n",
    "\n",
    "- the selection of suitable football matches\n",
    "- the prediction of the corresponding outcome\n",
    "- and the determination of the optimal stake per bet.\n",
    "\n",
    "In order to achieve this goal, a data set is compiled containing data from almost 60,000 football matches from 22 different leagues. This data set is processed, evaluated and then used to develop the long-term strategy with the help of selected machine learning algorithms. \n",
    "\n",
    "The data comes from the following source: [Data source](https://www.football-data.co.uk/downloadm.php)"
   ]
  },
  {
   "cell_type": "markdown",
   "id": "dfb99971",
   "metadata": {},
   "source": [
    "### Merging the data"
   ]
  },
  {
   "cell_type": "markdown",
   "id": "a1ad25a9",
   "metadata": {},
   "source": [
    "The first step is to read the data from 264 .csv files and combine them appropriately. Before the data set is saved, an additional column with information about the season of the match is created to ensure a unique allocation."
   ]
  },
  {
   "cell_type": "code",
   "execution_count": 1,
   "id": "f1e150b0",
   "metadata": {},
   "outputs": [],
   "source": [
    "# import packages\n",
    "import glob\n",
    "import os\n",
    "import pandas as pd"
   ]
  },
  {
   "cell_type": "code",
   "execution_count": 2,
   "id": "e042f431",
   "metadata": {},
   "outputs": [],
   "source": [
    "# loading the individual datasets of the different seasons\n",
    "file_type = 'csv'\n",
    "seperator =','\n",
    "df_20_21 = pd.concat([pd.read_csv(f, sep=seperator) for f in glob.glob('20:21' + \"/*.\"+file_type)],ignore_index=True)\n",
    "df_19_20 = pd.concat([pd.read_csv(f, sep=seperator) for f in glob.glob('19:20' + \"/*.\"+file_type)],ignore_index=True)\n",
    "df_18_19 = pd.concat([pd.read_csv(f, sep=seperator) for f in glob.glob('18:19' + \"/*.\"+file_type)],ignore_index=True)\n",
    "df_17_18 = pd.concat([pd.read_csv(f, sep=seperator) for f in glob.glob('17:18' + \"/*.\"+file_type)],ignore_index=True)\n",
    "df_16_17 = pd.concat([pd.read_csv(f, sep=seperator) for f in glob.glob('16:17' + \"/*.\"+file_type)],ignore_index=True)\n",
    "df_15_16 = pd.concat([pd.read_csv(f, sep=seperator) for f in glob.glob('15:16' + \"/*.\"+file_type)],ignore_index=True)\n",
    "df_14_15 = pd.concat([pd.read_csv(f, sep=seperator) for f in glob.glob('14:15' + \"/*.\"+file_type)],ignore_index=True)\n",
    "df_13_14 = pd.concat([pd.read_csv(f, sep=seperator) for f in glob.glob('13:14' + \"/*.\"+file_type)],ignore_index=True)"
   ]
  },
  {
   "cell_type": "code",
   "execution_count": 3,
   "id": "5aced934",
   "metadata": {},
   "outputs": [],
   "source": [
    "# add a column of the season for clear assignment\n",
    "df_20_21['Season'] = '20/21'\n",
    "df_19_20['Season'] = '19/20'\n",
    "df_18_19['Season'] = '18/19'\n",
    "df_17_18['Season'] = '17/18'\n",
    "df_16_17['Season'] = '16/17'\n",
    "df_15_16['Season'] = '15/16'\n",
    "df_14_15['Season'] = '14/15'\n",
    "df_13_14['Season'] = '13/14'"
   ]
  },
  {
   "cell_type": "code",
   "execution_count": 4,
   "id": "45a941ff",
   "metadata": {},
   "outputs": [],
   "source": [
    "# combining the individual datasets into one\n",
    "dfs = [df_14_15, df_15_16, df_16_17, df_17_18, df_18_19, df_19_20, df_20_21]\n",
    "results = df_13_14.append(dfs, sort=False)"
   ]
  },
  {
   "cell_type": "code",
   "execution_count": 5,
   "id": "63e83e9b",
   "metadata": {},
   "outputs": [],
   "source": [
    "# saving the merged dataframe for processing\n",
    "results.to_csv(\"Data/Results2013_2021.csv\")"
   ]
  },
  {
   "cell_type": "markdown",
   "id": "123a3945",
   "metadata": {},
   "source": [
    "### Quick Overview"
   ]
  },
  {
   "cell_type": "code",
   "execution_count": 6,
   "id": "ff6a8b7d",
   "metadata": {},
   "outputs": [
    {
     "data": {
      "text/plain": [
       "(59415, 133)"
      ]
     },
     "execution_count": 6,
     "metadata": {},
     "output_type": "execute_result"
    }
   ],
   "source": [
    "# output of the data shape\n",
    "results.shape"
   ]
  },
  {
   "cell_type": "markdown",
   "id": "d1060fcf",
   "metadata": {},
   "source": [
    "In its initial state, the data set comprises almost 60000 rows and 133 columns. In addition to information on league affiliation, the season of the match and the team constellation, information on the final result is available in the form of the number of goals, shots, shots on target, corners, fouls and yellow and red cards for home and away teams. In addition, the dataset contains information on betting odds from a large number of bookmakers.\n",
    "\n",
    "As a large proportion of the columns are only sporadically filled, especially with regard to the betting odds, those bookmakers whose odds are available for the 60,000 matches were filtered. This procedure alone reduced the data set from 133 to 31 columns. "
   ]
  },
  {
   "cell_type": "code",
   "execution_count": 7,
   "id": "6ffc86e0",
   "metadata": {},
   "outputs": [
    {
     "data": {
      "text/plain": [
       "(59415, 31)"
      ]
     },
     "execution_count": 7,
     "metadata": {},
     "output_type": "execute_result"
    }
   ],
   "source": [
    "# selecting the necessary columns of the original data set\n",
    "results = results[['Div', 'Season', 'HomeTeam','AwayTeam', 'FTHG', 'FTAG', 'FTR', 'HS', 'AS', 'HST', 'AST', 'HF', 'AF', 'HC',\n",
    "                   'AC', 'HY', 'AY', 'HR', 'AR','B365H','B365D','B365A', 'BWH','BWD','BWA', 'IWH', 'IWD', 'IWA', 'WHH', 'WHD', 'WHA']]\n",
    "results.shape"
   ]
  },
  {
   "cell_type": "markdown",
   "id": "5f59a47c",
   "metadata": {},
   "source": [
    "Die verbleibenden Spalten werden in der folgenden Tabelle kurz erläutert:\n",
    "\n",
    "| Column | Description |\n",
    "| - | - |\n",
    "| `Div` | League Division |\n",
    "| `Season` | Season in which the match took place |\n",
    "| `HomeTeam` | Home Team |\n",
    "| `AwayTeam` | Away Team |\n",
    "| `FTHG` | Full Time Home Team Goals |\n",
    "| `FTAG`| Full Time Away Team Goals |\n",
    "| `FTR` | Full Time Result (H=Home Win, D=Draw, A=Away Win) |\n",
    "| `HS` | Home Team Shots |\n",
    "| `AS` | Away Team Shots |\n",
    "| `HST` | Home Team Shots on Target |\n",
    "| `AST` | Away Team Shots on Target |\n",
    "| `HF` | Home Team Fouls Committed |\n",
    "| `AF` | Away Team Fouls Committed |\n",
    "| `HC` | Home Team Corners |\n",
    "| `AC` | Away Team Corners |\n",
    "| `HY` | Home Team Yellow Cards |\n",
    "| `AY` | Away Team Yellow Cards |\n",
    "| `HR`| Home Team Red Cards |\n",
    "| `AR` | Away Team Red Cards |\n",
    "| `B365H` | Bet365 Home Win Odds |\n",
    "| `B365D` | Bet365 Draw Odds |\n",
    "| `B365A` | Bet365 Away Win Odds |\n",
    "| `BWH` | Bet&Win Home Win Odds |\n",
    "| `BWD` | Bet&Win Draw Odds |\n",
    "| `BWA` | Bet&Win Away Win Odds |\n",
    "| `IWH` | Interwetten Home Win Odds |\n",
    "| `IWD` | Interwetten Draw Odds |\n",
    "| `IWA` | Interwetten Away Win Odds |\n",
    "| `WHH` | William Hill Home Win Odds |\n",
    "| `WHD` | William Hill Draw Odds |\n",
    "| `WHA` | William Hill Away Win Odds |"
   ]
  },
  {
   "cell_type": "markdown",
   "id": "f85a7281",
   "metadata": {},
   "source": [
    "Since one aspect of the objective is to use the data to predict football matches, it must be noted that, with the exception of the league, the season, the team constellation and the betting odds, this is exclusively information that only becomes known after the end of the match. Accordingly, the data in its present form cannot be used without further ado to predict the outcome of the match. In the following notebook, the corresponding data is processed and transformed in such a way that it can contribute to the prediction without hesitation and without data leakage."
   ]
  }
 ],
 "metadata": {
  "kernelspec": {
   "display_name": "Python 3",
   "language": "python",
   "name": "python3"
  },
  "language_info": {
   "codemirror_mode": {
    "name": "ipython",
    "version": 3
   },
   "file_extension": ".py",
   "mimetype": "text/x-python",
   "name": "python",
   "nbconvert_exporter": "python",
   "pygments_lexer": "ipython3",
   "version": "3.8.5"
  }
 },
 "nbformat": 4,
 "nbformat_minor": 5
}
