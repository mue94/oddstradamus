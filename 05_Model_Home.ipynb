{
 "cells": [
  {
   "cell_type": "markdown",
   "id": "9f4dfe7b",
   "metadata": {},
   "source": [
    "# Oddstradamus\n",
    "### Good odds and where to find them"
   ]
  },
  {
   "cell_type": "markdown",
   "id": "96d8031d",
   "metadata": {},
   "source": [
    "### Modelling (Home)"
   ]
  },
  {
   "cell_type": "markdown",
   "id": "00608b6a",
   "metadata": {},
   "source": [
    "Within this notebook, we finally get down to the modelling. As already mentioned, a total of 6 dataframes were prepared in this context to predict football matches in terms of the two-way outcome. In this notebook, 3 of the 6 dataframes are used to classify matches between home win and _double chance_ draw or away win. The aim is to develop a profitable long-term strategy that can beat the bookmaker in the long run. This includes the selection of suitable matches, the prediction of these matches and the determination of the optimal stake per match. The games have already been selected on the basis of the different data frames. Now it is a matter of finding out which data frame can achieve the best predictions. However, a high accuracy in connection with sports betting is not synonymous with a high profit. Since the latter is determined by the stake multiplied by the given betting odds. Let us briefly recall: The higher the probability of occurrence, the lower the odds and thus also the possible profit. Accordingly, the accuracy seems unsuitable for assessing the quality of the various machine learning algorithms. Therefore, we write our own metric without further ado, which takes this problem into account and reflects the profitability taking into account the stakes."
   ]
  },
  {
   "cell_type": "markdown",
   "id": "2a925d4a",
   "metadata": {},
   "source": [
    "This notebook, after defining the metric, additionally includes the application of the following algorithms to all 3 dataframes:"
   ]
  },
  {
   "cell_type": "markdown",
   "id": "3ecb73e7",
   "metadata": {},
   "source": [
    "| 1 Full-Dataframe | 2 50%-Dataframe | 3 Favorite-Dataframe |\n",
    "| - | - | - |\n",
    "| 1 Dummy Classifier | 1 Dummy Classifier | 1 Dummy Classifier |\n",
    "| 2 Logistic Regression | 2 Logistic Regression | 2 Logistic Regression |\n",
    "| 4 Logistic Regression (PCA) | 4 Logistic Regression (PCA) | 4 Logistic Regression (PCA) |\n",
    "| 5 Support Vector Machine (PCA) | 5 Support Vector Machine (PCA) | 5 Support Vector Machine (PCA) |\n",
    "| 6 Random Forest (PCA) | 6 Random Forest (PCA) | 6 Random Forest (PCA) |\n",
    "| 7 Extra Trees (PCA) | 7 Extra Trees (PCA) | 7 Extra Trees (PCA) |\n",
    "| 8 KNN (PCA) | 8 KNN (PCA) | 8 KNN (PCA) |\n",
    "| 9 AdaBoost (PCA) | 9 AdaBoost (PCA) | 9 AdaBoost (PCA) |\n",
    "| 10 XGBoost (PCA) | 10 XGBoost (PCA) | 10 XGBoost (PCA) |"
   ]
  },
  {
   "cell_type": "markdown",
   "id": "736d4869",
   "metadata": {},
   "source": [
    "For a better overview, the individual algorithms are numbered within the respective data frames. In the third step, a principal component analysis was performed. In addition, the more profitable metric per data frame is output within this notebook. Therefore, the first two data frames output the risk-averse profit and the last data frame the risk-averse profit."
   ]
  },
  {
   "cell_type": "code",
   "execution_count": 1,
   "id": "de5b1f6f",
   "metadata": {},
   "outputs": [],
   "source": [
    "# import packages\n",
    "# basic modules\n",
    "import pandas as pd\n",
    "import numpy as np\n",
    "import matplotlib.pyplot as plt\n",
    "import warnings\n",
    "from joblib import dump, load\n",
    "\n",
    "# scikit-learn\n",
    "from sklearn.dummy import DummyClassifier\n",
    "from sklearn.metrics import classification_report\n",
    "from sklearn.preprocessing import StandardScaler\n",
    "from sklearn.decomposition import PCA\n",
    "from sklearn.metrics import accuracy_score\n",
    "\n",
    "# models\n",
    "import xgboost as xgb\n",
    "from sklearn.linear_model import LogisticRegression\n",
    "from sklearn.svm import SVC\n",
    "from sklearn.neighbors import KNeighborsClassifier\n",
    "from sklearn.ensemble import AdaBoostClassifier, RandomForestClassifier, ExtraTreesClassifier\n",
    "\n",
    "#settings\n",
    "warnings.filterwarnings('ignore')"
   ]
  },
  {
   "cell_type": "markdown",
   "id": "5521eabb",
   "metadata": {},
   "source": [
    "### Metric"
   ]
  },
  {
   "cell_type": "markdown",
   "id": "a158e512",
   "metadata": {},
   "source": [
    "As already announced, we are writing our own metric to evaluate our models. Basically, the metric calculates the profit if one were to bet all games according to the prediction of the respective model. If the prediction is correct, the stake is multiplied by the corresponding odds and credited to the _account balance_ (here: the profit variable). If the prediction is wrong, the entire stake is deducted from the _account balance_.\n",
    "\n",
    "To determine the optimal stake, we have defined a risk-taking and a risk-averse variant. In the risk-taking variant, the stake per game is determined by the amount of the bet odds. For this purpose, the respective odds are converted into the probability of occurrence according to the known pattern ( 1 / odds). The probability of occurrence is then multiplied by the desired betting unit and the actual betting amount is obtained.\n",
    "In the risk-averse variant, the average odds for a home win are also included in the multiplication, so that a second _certainty_ is included."
   ]
  },
  {
   "cell_type": "code",
   "execution_count": 2,
   "id": "fe53bd97",
   "metadata": {},
   "outputs": [],
   "source": [
    "# defining the metrics\n",
    "\n",
    "# risk-averse\n",
    "def profit_metric(actual, predicted, home_odd, dc_odd, avg_odd_fav, avg_odd_out, insert=1):\n",
    "    profit = 0\n",
    "    for i in range(len(actual)):\n",
    "        if predicted[i] == '1':\n",
    "            if actual[i] == predicted[i]:\n",
    "                profit = profit + (((insert - (1/dc_odd[i])) * (1/avg_odd_fav[i])) * float(home_odd[i])) - ((insert - (1/dc_odd[i])) * (1/avg_odd_fav[i]))\n",
    "            else:\n",
    "                profit = profit - ((insert - (1/dc_odd[i])) * (1/avg_odd_fav[i]))\n",
    "        if predicted[i] == 'X2':\n",
    "            if actual [i] == predicted[i]:\n",
    "                profit = profit + (((insert - (1/home_odd[i])) * (1/avg_odd_out[i])) * float(dc_odd[i])) - ((insert - (1/home_odd[i])) * (1/avg_odd_out[i]))\n",
    "            else:\n",
    "                profit = profit - ((insert - (1/home_odd[i])) * (1/avg_odd_out[i]))\n",
    "    \n",
    "    print(round(profit,2),'units in',len(actual),'games')    \n",
    "                \n",
    "    return print(round(profit / len(actual)*100, 2),'% gain per game')\n",
    "\n",
    "# risk-taking\n",
    "def profit_metric_fav(actual, predicted, home_odd, dc_odd, insert=1):\n",
    "    profit = 0\n",
    "    for i in range(len(actual)):\n",
    "        if predicted[i] == '1':\n",
    "            if actual[i] == predicted[i]:\n",
    "                profit = profit + ((insert - (1/dc_odd[i])) * float((home_odd[i])) - (insert - (1/dc_odd[i])))\n",
    "            else:\n",
    "                profit = profit - (insert - (1/dc_odd[i]))\n",
    "        if predicted[i] == 'X2':\n",
    "            if actual [i] == predicted[i]:\n",
    "                profit = profit + (insert - (1/home_odd[i])) * float((dc_odd[i])) - (insert - (1/home_odd[i]))\n",
    "            else:\n",
    "                profit = profit - (insert - (1/home_odd[i]))\n",
    "    \n",
    "    print(round(profit,2),'units in',len(actual),'games')    \n",
    "                \n",
    "    return print(round(profit / len(actual)*100, 2),'% gain per game')"
   ]
  },
  {
   "cell_type": "markdown",
   "id": "956985b9",
   "metadata": {},
   "source": [
    "## 1 Full Dataframe"
   ]
  },
  {
   "cell_type": "code",
   "execution_count": 3,
   "id": "1ecd76df",
   "metadata": {},
   "outputs": [],
   "source": [
    "# loading the dataframe\n",
    "X_train_full = pd.read_csv('Data/model_home_csv/X_train_home_full.csv')\n",
    "X_test_full = pd.read_csv('Data/model_home_csv/X_test_home_full.csv')\n",
    "y_train_full = pd.read_csv('Data/model_home_csv/y_train_home_full.csv')\n",
    "y_test_full = pd.read_csv('Data/model_home_csv/y_test_home_full.csv')\n",
    "y_train_full = y_train_full['two_way_h_odd']\n",
    "y_test_full = y_test_full['two_way_h_odd']"
   ]
  },
  {
   "cell_type": "code",
   "execution_count": 4,
   "id": "e59be2a1",
   "metadata": {},
   "outputs": [],
   "source": [
    "# assigning the variables of the profit metric\n",
    "actual = y_test_full\n",
    "home_odd = X_test_full.MaxHome\n",
    "dc_odd = X_test_full.dc_away\n",
    "avg_odd_fav = X_test_full.homewin_avg_odd\n",
    "avg_odd_out = X_test_full.awaywin_avg_odd"
   ]
  },
  {
   "cell_type": "markdown",
   "id": "2d0eac2e",
   "metadata": {},
   "source": [
    "#### 1.1 Dummy Classifier"
   ]
  },
  {
   "cell_type": "code",
   "execution_count": 5,
   "id": "7d91ca33",
   "metadata": {},
   "outputs": [],
   "source": [
    "# create a Dummy-Model\n",
    "model_dummy_full = DummyClassifier(strategy = 'most_frequent')"
   ]
  },
  {
   "cell_type": "code",
   "execution_count": 6,
   "id": "cc52bbc6",
   "metadata": {},
   "outputs": [
    {
     "data": {
      "text/plain": [
       "DummyClassifier(strategy='most_frequent')"
      ]
     },
     "execution_count": 6,
     "metadata": {},
     "output_type": "execute_result"
    }
   ],
   "source": [
    "# fit the model\n",
    "model_dummy_full.fit(X_train_full, y_train_full)"
   ]
  },
  {
   "cell_type": "code",
   "execution_count": 7,
   "id": "99500d3a",
   "metadata": {},
   "outputs": [],
   "source": [
    "# predict the test data / assign the predicted-variable for the profit metric\n",
    "y_pred_dummy_full = model_dummy_full.predict(X_test_full)\n",
    "predicted = y_pred_dummy_full.tolist()"
   ]
  },
  {
   "cell_type": "code",
   "execution_count": 8,
   "id": "315e0360",
   "metadata": {},
   "outputs": [
    {
     "name": "stdout",
     "output_type": "stream",
     "text": [
      "              precision    recall  f1-score   support\n",
      "\n",
      "           1       0.00      0.00      0.00      5553\n",
      "          X2       0.56      1.00      0.72      7125\n",
      "\n",
      "    accuracy                           0.56     12678\n",
      "   macro avg       0.28      0.50      0.36     12678\n",
      "weighted avg       0.32      0.56      0.40     12678\n",
      "\n"
     ]
    }
   ],
   "source": [
    "# print the classification report\n",
    "print(classification_report(y_test_full, y_pred_dummy_full))"
   ]
  },
  {
   "cell_type": "code",
   "execution_count": 9,
   "id": "32c6691d",
   "metadata": {},
   "outputs": [
    {
     "name": "stdout",
     "output_type": "stream",
     "text": [
      "-143.59 units in 12678 games\n",
      "-1.13 % gain per game\n"
     ]
    }
   ],
   "source": [
    "# print the result of the profit metric\n",
    "profit_metric(actual, predicted, home_odd, dc_odd, avg_odd_fav, avg_odd_out)"
   ]
  },
  {
   "cell_type": "markdown",
   "id": "144300a2",
   "metadata": {},
   "source": [
    "#### 1.2 Logistic Regression"
   ]
  },
  {
   "cell_type": "code",
   "execution_count": 10,
   "id": "1d4a01b8",
   "metadata": {},
   "outputs": [
    {
     "data": {
      "text/plain": [
       "LogisticRegression()"
      ]
     },
     "execution_count": 10,
     "metadata": {},
     "output_type": "execute_result"
    }
   ],
   "source": [
    "# create a Logistic Regression Model / fit the model\n",
    "logreg_full = LogisticRegression()\n",
    "logreg_full.fit(X_train_full, y_train_full)"
   ]
  },
  {
   "cell_type": "code",
   "execution_count": 11,
   "id": "a19fd562",
   "metadata": {},
   "outputs": [],
   "source": [
    "# predict the test data / assign the predicted-variable for the profit metric\n",
    "y_pred_logreg_full = logreg_full.predict(X_test_full)\n",
    "predicted = y_pred_logreg_full.tolist()"
   ]
  },
  {
   "cell_type": "code",
   "execution_count": 12,
   "id": "dba75af9",
   "metadata": {},
   "outputs": [
    {
     "name": "stdout",
     "output_type": "stream",
     "text": [
      "              precision    recall  f1-score   support\n",
      "\n",
      "           1       0.62      0.41      0.49      5553\n",
      "          X2       0.64      0.80      0.71      7125\n",
      "\n",
      "    accuracy                           0.63     12678\n",
      "   macro avg       0.63      0.61      0.60     12678\n",
      "weighted avg       0.63      0.63      0.61     12678\n",
      "\n"
     ]
    }
   ],
   "source": [
    "# print the classification report\n",
    "print(classification_report(y_test_full, y_pred_logreg_full))"
   ]
  },
  {
   "cell_type": "code",
   "execution_count": 13,
   "id": "36581147",
   "metadata": {},
   "outputs": [
    {
     "name": "stdout",
     "output_type": "stream",
     "text": [
      "-73.9 units in 12678 games\n",
      "-0.58 % gain per game\n"
     ]
    }
   ],
   "source": [
    "# print the result of the profit metric\n",
    "profit_metric(actual, predicted, home_odd, dc_odd, avg_odd_fav, avg_odd_out)"
   ]
  },
  {
   "cell_type": "markdown",
   "id": "67e456a6",
   "metadata": {},
   "source": [
    "#### 1.3 Dimensionality Reduction"
   ]
  },
  {
   "cell_type": "markdown",
   "id": "157e6866",
   "metadata": {},
   "source": [
    "##### Data Scaling\n",
    "PCA requires scaling/normalization of the data to work properly."
   ]
  },
  {
   "cell_type": "code",
   "execution_count": 14,
   "id": "6caa2c16",
   "metadata": {},
   "outputs": [],
   "source": [
    "# assign the standard scaler\n",
    "scaler = StandardScaler()"
   ]
  },
  {
   "cell_type": "code",
   "execution_count": 15,
   "id": "e235c982",
   "metadata": {},
   "outputs": [],
   "source": [
    "# scale train data with standard scaler\n",
    "X_train_full_scaled = scaler.fit_transform(X_train_full)\n",
    "df_full_scaled = pd.DataFrame(data=X_train_full_scaled,columns=X_train_full.columns)"
   ]
  },
  {
   "cell_type": "markdown",
   "id": "e80fe213",
   "metadata": {},
   "source": [
    "##### Principal Componenent Analysis"
   ]
  },
  {
   "cell_type": "code",
   "execution_count": 16,
   "id": "b18e1253",
   "metadata": {},
   "outputs": [],
   "source": [
    "# create a PCA object\n",
    "pca_full = PCA(n_components=None)"
   ]
  },
  {
   "cell_type": "code",
   "execution_count": 17,
   "id": "35e37c45",
   "metadata": {},
   "outputs": [],
   "source": [
    "# fit the PCA object\n",
    "df_full_scaled_pca = pca_full.fit(df_full_scaled)"
   ]
  },
  {
   "cell_type": "code",
   "execution_count": 18,
   "id": "2d7b3ee5",
   "metadata": {},
   "outputs": [
    {
     "data": {
      "image/png": "[encoded data removed]",
      "text/plain": [
       "<Figure size 720x432 with 1 Axes>"
      ]
     },
     "metadata": {
      "needs_background": "light"
     },
     "output_type": "display_data"
    }
   ],
   "source": [
    "# plot the explained variance ratio for each principal component\n",
    "plt.figure(figsize=(10,6))\n",
    "plt.scatter(x=[i+1 for i in range(len(df_full_scaled_pca.explained_variance_ratio_))],\n",
    "            y=df_full_scaled_pca.explained_variance_ratio_,\n",
    "            s=200, alpha=0.75,c='orange',edgecolor='k')\n",
    "plt.grid(True)\n",
    "plt.title(\"Explained variance ratio of the \\nfitted principal component vector\\n\",fontsize=25)\n",
    "plt.xlabel(\"Principal components\",fontsize=15)\n",
    "plt.xticks([i+1 for i in range(len(df_full_scaled_pca.explained_variance_ratio_))],fontsize=15)\n",
    "plt.yticks(fontsize=15)\n",
    "plt.ylabel(\"Explained variance ratio\",fontsize=15)\n",
    "plt.show()"
   ]
  },
  {
   "cell_type": "code",
   "execution_count": 19,
   "id": "40aec1c6",
   "metadata": {},
   "outputs": [],
   "source": [
    "# transform the scaled data set using the fitted PCA object\n",
    "X_train_full_scaled_trans = pca_full.transform(df_full_scaled)"
   ]
  },
  {
   "cell_type": "code",
   "execution_count": 20,
   "id": "915029d7",
   "metadata": {},
   "outputs": [],
   "source": [
    "# put it in a data frame\n",
    "X_train_full_scaled_trans = pd.DataFrame(data=X_train_full_scaled_trans)"
   ]
  },
  {
   "cell_type": "code",
   "execution_count": 21,
   "id": "7cb33708",
   "metadata": {},
   "outputs": [],
   "source": [
    "# assign the most meaningful variables\n",
    "variables_full = [0,1,2,3,4,5,6]"
   ]
  },
  {
   "cell_type": "markdown",
   "id": "b2a4ba5c",
   "metadata": {},
   "source": [
    "#### 1.4 Logistic Regression (PCA)"
   ]
  },
  {
   "cell_type": "code",
   "execution_count": 22,
   "id": "ed2bff08",
   "metadata": {},
   "outputs": [
    {
     "data": {
      "text/plain": [
       "LogisticRegression()"
      ]
     },
     "execution_count": 22,
     "metadata": {},
     "output_type": "execute_result"
    }
   ],
   "source": [
    "# create a Logistic Regression Model / fit the model (PCA data)\n",
    "logreg_full_pca = LogisticRegression()\n",
    "logreg_full_pca.fit(X_train_full_scaled_trans[variables_full], y_train_full)"
   ]
  },
  {
   "cell_type": "code",
   "execution_count": 23,
   "id": "babb3a70",
   "metadata": {},
   "outputs": [],
   "source": [
    "# scale test data with standard scaler / transform the scaled data set using the fitted PCA object\n",
    "X_test_full_scaled = scaler.transform(X_test_full)\n",
    "X_test_full_scaled_trans = pca_full.transform(X_test_full_scaled)"
   ]
  },
  {
   "cell_type": "code",
   "execution_count": 24,
   "id": "fd859cfb",
   "metadata": {},
   "outputs": [],
   "source": [
    "# put it in a data frame\n",
    "X_test_full_scaled_trans = pd.DataFrame(data=X_test_full_scaled_trans)"
   ]
  },
  {
   "cell_type": "code",
   "execution_count": 25,
   "id": "55ce23e5",
   "metadata": {},
   "outputs": [],
   "source": [
    "# predict the test data / assign the predicted-variable for the profit metric\n",
    "y_pred_logreg_full_pca = logreg_full_pca.predict(X_test_full_scaled_trans[[0,1,2,3,4,5,6]])\n",
    "predicted = y_pred_logreg_full_pca.tolist()"
   ]
  },
  {
   "cell_type": "code",
   "execution_count": 26,
   "id": "361d72bf",
   "metadata": {},
   "outputs": [
    {
     "name": "stdout",
     "output_type": "stream",
     "text": [
      "              precision    recall  f1-score   support\n",
      "\n",
      "           1       0.64      0.40      0.49      5553\n",
      "          X2       0.64      0.83      0.72      7125\n",
      "\n",
      "    accuracy                           0.64     12678\n",
      "   macro avg       0.64      0.61      0.61     12678\n",
      "weighted avg       0.64      0.64      0.62     12678\n",
      "\n"
     ]
    }
   ],
   "source": [
    "# print the classification report\n",
    "print(classification_report(y_test_full, y_pred_logreg_full_pca))"
   ]
  },
  {
   "cell_type": "code",
   "execution_count": 27,
   "id": "968698de",
   "metadata": {},
   "outputs": [
    {
     "name": "stdout",
     "output_type": "stream",
     "text": [
      "-92.81 units in 12678 games\n",
      "-0.73 % gain per game\n"
     ]
    }
   ],
   "source": [
    "# print the result of the profit metric\n",
    "profit_metric(actual, predicted, home_odd, dc_odd, avg_odd_fav, avg_odd_out)"
   ]
  },
  {
   "cell_type": "markdown",
   "id": "f3600f81",
   "metadata": {},
   "source": [
    "#### 1.5 Support Vector Machine (PCA)"
   ]
  },
  {
   "cell_type": "code",
   "execution_count": 28,
   "id": "326d9255",
   "metadata": {},
   "outputs": [],
   "source": [
    "# create a SVM-Model\n",
    "model_full_svm_pca = SVC(kernel='linear', verbose = 1)"
   ]
  },
  {
   "cell_type": "code",
   "execution_count": 29,
   "id": "c4ce2c3a",
   "metadata": {},
   "outputs": [
    {
     "name": "stdout",
     "output_type": "stream",
     "text": [
      "[LibSVM]"
     ]
    },
    {
     "data": {
      "text/plain": [
       "SVC(kernel='linear', verbose=1)"
      ]
     },
     "execution_count": 29,
     "metadata": {},
     "output_type": "execute_result"
    }
   ],
   "source": [
    "# fit the model (PCA)\n",
    "model_full_svm_pca.fit(X_train_full_scaled_trans[variables_full], y_train_full)"
   ]
  },
  {
   "cell_type": "code",
   "execution_count": 30,
   "id": "357194be",
   "metadata": {},
   "outputs": [],
   "source": [
    "# predict the test data\n",
    "y_pred_full_svm_pca = model_full_svm_pca.predict(X_test_full_scaled_trans[[0,1,2,3,4,5,6]])"
   ]
  },
  {
   "cell_type": "code",
   "execution_count": 31,
   "id": "4568b678",
   "metadata": {},
   "outputs": [
    {
     "name": "stdout",
     "output_type": "stream",
     "text": [
      "              precision    recall  f1-score   support\n",
      "\n",
      "           1       0.72      0.22      0.34      5553\n",
      "          X2       0.61      0.93      0.74      7125\n",
      "\n",
      "    accuracy                           0.62     12678\n",
      "   macro avg       0.66      0.58      0.54     12678\n",
      "weighted avg       0.66      0.62      0.56     12678\n",
      "\n"
     ]
    }
   ],
   "source": [
    "# print the classification report\n",
    "print(classification_report(y_test_full, y_pred_full_svm_pca))"
   ]
  },
  {
   "cell_type": "code",
   "execution_count": 32,
   "id": "51b9509b",
   "metadata": {},
   "outputs": [
    {
     "name": "stdout",
     "output_type": "stream",
     "text": [
      "-110.06 units in 12678 games\n",
      "-0.87 % gain per game\n"
     ]
    }
   ],
   "source": [
    "# assign the predicted-variable for the profit metric / print the result of the profit metric\n",
    "predicted = y_pred_full_svm_pca\n",
    "profit_metric(actual, predicted, home_odd, dc_odd, avg_odd_fav, avg_odd_out)"
   ]
  },
  {
   "cell_type": "markdown",
   "id": "661ce2f5",
   "metadata": {},
   "source": [
    "#### 1.6 Random Forest (PCA)"
   ]
  },
  {
   "cell_type": "code",
   "execution_count": 33,
   "id": "c620ac88",
   "metadata": {},
   "outputs": [],
   "source": [
    "# create a Random Forest-Model\n",
    "model_full_rf_pca = RandomForestClassifier(n_estimators=120, \n",
    "                                           random_state=42, \n",
    "                                           max_features = 'sqrt',\n",
    "                                           n_jobs=-1, verbose = 1)"
   ]
  },
  {
   "cell_type": "code",
   "execution_count": 34,
   "id": "7768a730",
   "metadata": {},
   "outputs": [
    {
     "name": "stderr",
     "output_type": "stream",
     "text": [
      "[Parallel(n_jobs=-1)]: Using backend ThreadingBackend with 4 concurrent workers.\n",
      "[Parallel(n_jobs=-1)]: Done  42 tasks      | elapsed:    2.0s\n",
      "[Parallel(n_jobs=-1)]: Done 120 out of 120 | elapsed:    5.5s finished\n"
     ]
    },
    {
     "data": {
      "text/plain": [
       "RandomForestClassifier(max_features='sqrt', n_estimators=120, n_jobs=-1,\n",
       "                       random_state=42, verbose=1)"
      ]
     },
     "execution_count": 34,
     "metadata": {},
     "output_type": "execute_result"
    }
   ],
   "source": [
    "# fit the model (PCA)\n",
    "model_full_rf_pca.fit(X_train_full_scaled_trans[variables_full], y_train_full)"
   ]
  },
  {
   "cell_type": "code",
   "execution_count": 35,
   "id": "9422604c",
   "metadata": {},
   "outputs": [
    {
     "name": "stderr",
     "output_type": "stream",
     "text": [
      "[Parallel(n_jobs=4)]: Using backend ThreadingBackend with 4 concurrent workers.\n",
      "[Parallel(n_jobs=4)]: Done  42 tasks      | elapsed:    0.1s\n",
      "[Parallel(n_jobs=4)]: Done 120 out of 120 | elapsed:    0.1s finished\n"
     ]
    }
   ],
   "source": [
    "# predict the test data\n",
    "y_pred_full_rf_pca = model_full_rf_pca.predict(X_test_full_scaled_trans[[0,1,2,3,4,5,6]])"
   ]
  },
  {
   "cell_type": "code",
   "execution_count": 36,
   "id": "260ec516",
   "metadata": {},
   "outputs": [
    {
     "name": "stdout",
     "output_type": "stream",
     "text": [
      "              precision    recall  f1-score   support\n",
      "\n",
      "           1       0.58      0.46      0.52      5553\n",
      "          X2       0.64      0.74      0.69      7125\n",
      "\n",
      "    accuracy                           0.62     12678\n",
      "   macro avg       0.61      0.60      0.60     12678\n",
      "weighted avg       0.61      0.62      0.61     12678\n",
      "\n"
     ]
    }
   ],
   "source": [
    "# print the classification report\n",
    "print(classification_report(y_test_full, y_pred_full_rf_pca))"
   ]
  },
  {
   "cell_type": "code",
   "execution_count": 37,
   "id": "4a42867f",
   "metadata": {},
   "outputs": [
    {
     "name": "stdout",
     "output_type": "stream",
     "text": [
      "-90.82 units in 12678 games\n",
      "-0.72 % gain per game\n"
     ]
    }
   ],
   "source": [
    "# assign the predicted-variable for the profit metric / print the result of the profit metric\n",
    "predicted = y_pred_full_rf_pca\n",
    "profit_metric(actual, predicted, home_odd, dc_odd, avg_odd_fav, avg_odd_out)"
   ]
  },
  {
   "cell_type": "markdown",
   "id": "83e741b1",
   "metadata": {},
   "source": [
    "#### 1.7 Extra Trees (PCA)"
   ]
  },
  {
   "cell_type": "code",
   "execution_count": 38,
   "id": "4f982ee5",
   "metadata": {},
   "outputs": [],
   "source": [
    "# create a Extra Trees-Model\n",
    "model_full_extra_pca = ExtraTreesClassifier(n_estimators=100, random_state=42)"
   ]
  },
  {
   "cell_type": "code",
   "execution_count": 39,
   "id": "f81e0212",
   "metadata": {},
   "outputs": [
    {
     "data": {
      "text/plain": [
       "ExtraTreesClassifier(random_state=42)"
      ]
     },
     "execution_count": 39,
     "metadata": {},
     "output_type": "execute_result"
    }
   ],
   "source": [
    "# fit the model (PCA)\n",
    "model_full_extra_pca.fit(X_train_full_scaled_trans[variables_full], y_train_full)"
   ]
  },
  {
   "cell_type": "code",
   "execution_count": 40,
   "id": "02dae90c",
   "metadata": {},
   "outputs": [],
   "source": [
    "# predict the test data\n",
    "y_pred_full_extra_pca = model_full_extra_pca.predict(X_test_full_scaled_trans[[0,1,2,3,4,5,6]])"
   ]
  },
  {
   "cell_type": "code",
   "execution_count": 41,
   "id": "f72a3e3b",
   "metadata": {},
   "outputs": [
    {
     "name": "stdout",
     "output_type": "stream",
     "text": [
      "              precision    recall  f1-score   support\n",
      "\n",
      "           1       0.58      0.46      0.51      5553\n",
      "          X2       0.64      0.75      0.69      7125\n",
      "\n",
      "    accuracy                           0.62     12678\n",
      "   macro avg       0.61      0.60      0.60     12678\n",
      "weighted avg       0.62      0.62      0.61     12678\n",
      "\n"
     ]
    }
   ],
   "source": [
    "# print the classification report\n",
    "print(classification_report(y_test_full, y_pred_full_extra_pca))"
   ]
  },
  {
   "cell_type": "code",
   "execution_count": 42,
   "id": "72b20d7a",
   "metadata": {},
   "outputs": [
    {
     "name": "stdout",
     "output_type": "stream",
     "text": [
      "-83.51 units in 12678 games\n",
      "-0.66 % gain per game\n"
     ]
    }
   ],
   "source": [
    "# assign the predicted-variable for the profit metric / print the result of the profit metric\n",
    "predicted = y_pred_full_extra_pca\n",
    "profit_metric(actual, predicted, home_odd, dc_odd, avg_odd_fav, avg_odd_out)"
   ]
  },
  {
   "cell_type": "markdown",
   "id": "a6353e91",
   "metadata": {},
   "source": [
    "#### 1.8 KNN (PCA)"
   ]
  },
  {
   "cell_type": "code",
   "execution_count": 43,
   "id": "488a3d52",
   "metadata": {},
   "outputs": [],
   "source": [
    "# create a KNN-Model\n",
    "model_full_knn_pca = KNeighborsClassifier(n_neighbors=5, metric='minkowski', n_jobs=-1)"
   ]
  },
  {
   "cell_type": "code",
   "execution_count": 44,
   "id": "5c7acafb",
   "metadata": {},
   "outputs": [
    {
     "data": {
      "text/plain": [
       "KNeighborsClassifier(n_jobs=-1)"
      ]
     },
     "execution_count": 44,
     "metadata": {},
     "output_type": "execute_result"
    }
   ],
   "source": [
    "# fit the model (PCA)\n",
    "model_full_knn_pca.fit(X_train_full_scaled_trans[variables_full], y_train_full)"
   ]
  },
  {
   "cell_type": "code",
   "execution_count": 45,
   "id": "9c1f336d",
   "metadata": {},
   "outputs": [],
   "source": [
    "# predict the test data\n",
    "y_pred_full_knn_pca = model_full_knn_pca.predict(X_test_full_scaled_trans[[0,1,2,3,4,5,6]])"
   ]
  },
  {
   "cell_type": "code",
   "execution_count": 46,
   "id": "d7ccc76c",
   "metadata": {},
   "outputs": [
    {
     "name": "stdout",
     "output_type": "stream",
     "text": [
      "              precision    recall  f1-score   support\n",
      "\n",
      "           1       0.53      0.49      0.51      5553\n",
      "          X2       0.62      0.66      0.64      7125\n",
      "\n",
      "    accuracy                           0.59     12678\n",
      "   macro avg       0.58      0.58      0.58     12678\n",
      "weighted avg       0.58      0.59      0.58     12678\n",
      "\n"
     ]
    }
   ],
   "source": [
    "# print the classification report\n",
    "print(classification_report(y_test_full, y_pred_full_knn_pca))"
   ]
  },
  {
   "cell_type": "code",
   "execution_count": 47,
   "id": "9cfac33c",
   "metadata": {},
   "outputs": [
    {
     "name": "stdout",
     "output_type": "stream",
     "text": [
      "-91.57 units in 12678 games\n",
      "-0.72 % gain per game\n"
     ]
    }
   ],
   "source": [
    "# assign the predicted-variable for the profit metric / print the result of the profit metric\n",
    "predicted = y_pred_full_knn_pca\n",
    "profit_metric(actual, predicted, home_odd, dc_odd, avg_odd_fav, avg_odd_out)"
   ]
  },
  {
   "cell_type": "markdown",
   "id": "0c60ae30",
   "metadata": {},
   "source": [
    "#### 1.9 AdaBoost (PCA)"
   ]
  },
  {
   "cell_type": "code",
   "execution_count": 48,
   "id": "fb54000d",
   "metadata": {},
   "outputs": [],
   "source": [
    "# create a AdaBoost-Model\n",
    "model_full_ada_pca = AdaBoostClassifier()"
   ]
  },
  {
   "cell_type": "code",
   "execution_count": 49,
   "id": "b32a6a82",
   "metadata": {},
   "outputs": [
    {
     "data": {
      "text/plain": [
       "AdaBoostClassifier()"
      ]
     },
     "execution_count": 49,
     "metadata": {},
     "output_type": "execute_result"
    }
   ],
   "source": [
    "# fit the model (PCA)\n",
    "model_full_ada_pca.fit(X_train_full_scaled_trans[variables_full], y_train_full)"
   ]
  },
  {
   "cell_type": "code",
   "execution_count": 50,
   "id": "38abcb9e",
   "metadata": {},
   "outputs": [],
   "source": [
    "# predict the test data\n",
    "y_pred_full_ada_pca = model_full_ada_pca.predict(X_test_full_scaled_trans[[0,1,2,3,4,5,6]])"
   ]
  },
  {
   "cell_type": "code",
   "execution_count": 51,
   "id": "25e44860",
   "metadata": {},
   "outputs": [
    {
     "name": "stdout",
     "output_type": "stream",
     "text": [
      "              precision    recall  f1-score   support\n",
      "\n",
      "           1       0.63      0.41      0.50      5553\n",
      "          X2       0.64      0.81      0.72      7125\n",
      "\n",
      "    accuracy                           0.64     12678\n",
      "   macro avg       0.64      0.61      0.61     12678\n",
      "weighted avg       0.64      0.64      0.62     12678\n",
      "\n"
     ]
    }
   ],
   "source": [
    "# print the classification report\n",
    "print(classification_report(y_test_full, y_pred_full_ada_pca))"
   ]
  },
  {
   "cell_type": "code",
   "execution_count": 52,
   "id": "31d80258",
   "metadata": {},
   "outputs": [
    {
     "name": "stdout",
     "output_type": "stream",
     "text": [
      "-87.36 units in 12678 games\n",
      "-0.69 % gain per game\n"
     ]
    }
   ],
   "source": [
    "# assign the predicted-variable for the profit metric / print the result of the profit metric\n",
    "predicted = y_pred_full_ada_pca\n",
    "profit_metric(actual, predicted, home_odd, dc_odd, avg_odd_fav, avg_odd_out)"
   ]
  },
  {
   "cell_type": "markdown",
   "id": "896c7a74",
   "metadata": {},
   "source": [
    "#### 1.10 XGBoost (PCA)"
   ]
  },
  {
   "cell_type": "code",
   "execution_count": 53,
   "id": "7d983789",
   "metadata": {},
   "outputs": [],
   "source": [
    "# create a XGBoost-Model\n",
    "model_full_xgb_pca = xgb.XGBClassifier()"
   ]
  },
  {
   "cell_type": "code",
   "execution_count": 54,
   "id": "97d64971",
   "metadata": {},
   "outputs": [
    {
     "name": "stdout",
     "output_type": "stream",
     "text": [
      "[11:58:58] WARNING: /Users/travis/build/dmlc/xgboost/src/learner.cc:1095: Starting in XGBoost 1.3.0, the default evaluation metric used with the objective 'binary:logistic' was changed from 'error' to 'logloss'. Explicitly set eval_metric if you'd like to restore the old behavior.\n"
     ]
    },
    {
     "data": {
      "text/plain": [
       "XGBClassifier(base_score=0.5, booster='gbtree', colsample_bylevel=1,\n",
       "              colsample_bynode=1, colsample_bytree=1, gamma=0, gpu_id=-1,\n",
       "              importance_type='gain', interaction_constraints='',\n",
       "              learning_rate=0.300000012, max_delta_step=0, max_depth=6,\n",
       "              min_child_weight=1, missing=nan, monotone_constraints='()',\n",
       "              n_estimators=100, n_jobs=4, num_parallel_tree=1, random_state=0,\n",
       "              reg_alpha=0, reg_lambda=1, scale_pos_weight=1, subsample=1,\n",
       "              tree_method='exact', validate_parameters=1, verbosity=None)"
      ]
     },
     "execution_count": 54,
     "metadata": {},
     "output_type": "execute_result"
    }
   ],
   "source": [
    "# fit the model (PCA)\n",
    "model_full_xgb_pca.fit(X_train_full_scaled_trans[variables_full], y_train_full)"
   ]
  },
  {
   "cell_type": "code",
   "execution_count": 55,
   "id": "c8d012c0",
   "metadata": {},
   "outputs": [],
   "source": [
    "# predict the test data\n",
    "y_pred_full_xgb_pca = model_full_xgb_pca.predict(X_test_full_scaled_trans[[0,1,2,3,4,5,6]])"
   ]
  },
  {
   "cell_type": "code",
   "execution_count": 56,
   "id": "57aee4b2",
   "metadata": {},
   "outputs": [
    {
     "name": "stdout",
     "output_type": "stream",
     "text": [
      "              precision    recall  f1-score   support\n",
      "\n",
      "           1       0.59      0.45      0.51      5553\n",
      "          X2       0.64      0.76      0.69      7125\n",
      "\n",
      "    accuracy                           0.62     12678\n",
      "   macro avg       0.62      0.60      0.60     12678\n",
      "weighted avg       0.62      0.62      0.61     12678\n",
      "\n"
     ]
    }
   ],
   "source": [
    "# print the classification report\n",
    "print(classification_report(y_test_full, y_pred_full_xgb_pca))"
   ]
  },
  {
   "cell_type": "code",
   "execution_count": 57,
   "id": "0dff1385",
   "metadata": {},
   "outputs": [
    {
     "name": "stdout",
     "output_type": "stream",
     "text": [
      "-89.25 units in 12678 games\n",
      "-0.7 % gain per game\n"
     ]
    }
   ],
   "source": [
    "# assign the predicted-variable for the profit metric / print the result of the profit metric\n",
    "predicted = y_pred_full_xgb_pca\n",
    "profit_metric(actual, predicted, home_odd, dc_odd, avg_odd_fav, avg_odd_out)"
   ]
  },
  {
   "cell_type": "markdown",
   "id": "4a384f2a",
   "metadata": {},
   "source": [
    "###  2 50%-Dataframe"
   ]
  },
  {
   "cell_type": "code",
   "execution_count": 58,
   "id": "053a4111",
   "metadata": {},
   "outputs": [],
   "source": [
    "# loading the dataframe\n",
    "X_train_50 = pd.read_csv('Data/model_home_csv/X_train_home_50.csv')\n",
    "X_test_50 = pd.read_csv('Data/model_home_csv/X_test_home_50.csv')\n",
    "y_train_50 = pd.read_csv('Data/model_home_csv/y_train_home_50.csv')\n",
    "y_test_50 = pd.read_csv('Data/model_home_csv/y_test_home_50.csv')\n",
    "y_train_50 = y_train_50['two_way_h_odd']\n",
    "y_test_50 = y_test_50['two_way_h_odd']"
   ]
  },
  {
   "cell_type": "code",
   "execution_count": 59,
   "id": "d208dba4",
   "metadata": {},
   "outputs": [],
   "source": [
    "# assigning the variables of the profit metric\n",
    "actual = y_test_50\n",
    "home_odd = X_test_50.MaxHome\n",
    "dc_odd = X_test_50.dc_away\n",
    "avg_odd_fav = X_test_50.homewin_avg_odd\n",
    "avg_odd_out = X_test_50.awaywin_avg_odd"
   ]
  },
  {
   "cell_type": "markdown",
   "id": "1ece6a1b",
   "metadata": {},
   "source": [
    "#### 2.1 DummyClassifier"
   ]
  },
  {
   "cell_type": "code",
   "execution_count": 60,
   "id": "4e91776d",
   "metadata": {
    "tags": []
   },
   "outputs": [],
   "source": [
    "# create a Dummy-Model\n",
    "model_50_dummy = DummyClassifier(strategy = 'most_frequent')"
   ]
  },
  {
   "cell_type": "code",
   "execution_count": 61,
   "id": "de4e168a",
   "metadata": {
    "tags": []
   },
   "outputs": [
    {
     "data": {
      "text/plain": [
       "DummyClassifier(strategy='most_frequent')"
      ]
     },
     "execution_count": 61,
     "metadata": {},
     "output_type": "execute_result"
    }
   ],
   "source": [
    "# fit the model\n",
    "model_50_dummy.fit(X_train_50, y_train_50)"
   ]
  },
  {
   "cell_type": "code",
   "execution_count": 62,
   "id": "6be57195",
   "metadata": {
    "tags": []
   },
   "outputs": [],
   "source": [
    "# predict the test data / assign the predicted-variable for the profit metric\n",
    "y_pred_50_dummy = model_50_dummy.predict(X_test_50)\n",
    "predicted = y_pred_50_dummy.tolist()"
   ]
  },
  {
   "cell_type": "code",
   "execution_count": 63,
   "id": "c2f1655f",
   "metadata": {
    "tags": []
   },
   "outputs": [
    {
     "name": "stdout",
     "output_type": "stream",
     "text": [
      "              precision    recall  f1-score   support\n",
      "\n",
      "           1       0.64      1.00      0.78      2349\n",
      "          X2       0.00      0.00      0.00      1304\n",
      "\n",
      "    accuracy                           0.64      3653\n",
      "   macro avg       0.32      0.50      0.39      3653\n",
      "weighted avg       0.41      0.64      0.50      3653\n",
      "\n"
     ]
    }
   ],
   "source": [
    "# print the classification report\n",
    "print(classification_report(y_test_50, y_pred_50_dummy))"
   ]
  },
  {
   "cell_type": "code",
   "execution_count": 64,
   "id": "a7e9fb91",
   "metadata": {
    "tags": []
   },
   "outputs": [
    {
     "name": "stdout",
     "output_type": "stream",
     "text": [
      "8.98 units in 3653 games\n",
      "0.25 % gain per game\n"
     ]
    }
   ],
   "source": [
    "# print the result of the profit metric\n",
    "profit_metric(actual, predicted, home_odd, dc_odd, avg_odd_fav, avg_odd_out)"
   ]
  },
  {
   "cell_type": "markdown",
   "id": "f488056e",
   "metadata": {
    "tags": []
   },
   "source": [
    "#### 2.2 Logistic Regression"
   ]
  },
  {
   "cell_type": "code",
   "execution_count": 65,
   "id": "796a76d3",
   "metadata": {
    "tags": []
   },
   "outputs": [
    {
     "data": {
      "text/plain": [
       "LogisticRegression()"
      ]
     },
     "execution_count": 65,
     "metadata": {},
     "output_type": "execute_result"
    }
   ],
   "source": [
    "# create a Logistic Regression-Model / fit the model\n",
    "logreg_50 = LogisticRegression()\n",
    "logreg_50.fit(X_train_50, y_train_50)"
   ]
  },
  {
   "cell_type": "code",
   "execution_count": 66,
   "id": "5e2ce441",
   "metadata": {
    "tags": []
   },
   "outputs": [],
   "source": [
    "# predict the test data / assign the predicted-variable for the profit metric\n",
    "y_pred_logreg_50 = logreg_50.predict(X_test_50)\n",
    "predicted = y_pred_logreg_50.tolist()"
   ]
  },
  {
   "cell_type": "code",
   "execution_count": 67,
   "id": "dfc3b6ba",
   "metadata": {
    "tags": []
   },
   "outputs": [
    {
     "name": "stdout",
     "output_type": "stream",
     "text": [
      "              precision    recall  f1-score   support\n",
      "\n",
      "           1       0.64      0.98      0.78      2349\n",
      "          X2       0.46      0.02      0.05      1304\n",
      "\n",
      "    accuracy                           0.64      3653\n",
      "   macro avg       0.55      0.50      0.41      3653\n",
      "weighted avg       0.58      0.64      0.52      3653\n",
      "\n"
     ]
    }
   ],
   "source": [
    "# print the classification report\n",
    "print(classification_report(y_test_50, y_pred_logreg_50))"
   ]
  },
  {
   "cell_type": "code",
   "execution_count": 68,
   "id": "3f6a36e0",
   "metadata": {
    "tags": []
   },
   "outputs": [
    {
     "name": "stdout",
     "output_type": "stream",
     "text": [
      "8.2 units in 3653 games\n",
      "0.22 % gain per game\n"
     ]
    }
   ],
   "source": [
    "# print the result of the profit metric\n",
    "profit_metric(actual, predicted, home_odd, dc_odd, avg_odd_fav, avg_odd_out)"
   ]
  },
  {
   "cell_type": "markdown",
   "id": "3338d3cd",
   "metadata": {
    "tags": []
   },
   "source": [
    "#### 2.3 Dimensionality Reduction"
   ]
  },
  {
   "cell_type": "markdown",
   "id": "e6fc8571",
   "metadata": {
    "tags": []
   },
   "source": [
    "##### Data scaling\n",
    "PCA requires scaling/normalization of the data to work properly."
   ]
  },
  {
   "cell_type": "code",
   "execution_count": 69,
   "id": "470bc767",
   "metadata": {
    "tags": []
   },
   "outputs": [],
   "source": [
    "# scale train data with standard scaler\n",
    "X_train_50_scaled = scaler.fit_transform(X_train_50)\n",
    "df_50_scaled = pd.DataFrame(data=X_train_50_scaled,columns=X_train_50.columns)"
   ]
  },
  {
   "cell_type": "markdown",
   "id": "222e7f32",
   "metadata": {
    "tags": []
   },
   "source": [
    "##### Dimensionality Reduction"
   ]
  },
  {
   "cell_type": "code",
   "execution_count": 70,
   "id": "9cac8cbf",
   "metadata": {
    "tags": []
   },
   "outputs": [],
   "source": [
    "# create a PCA object\n",
    "pca_50 = PCA(n_components=None)"
   ]
  },
  {
   "cell_type": "code",
   "execution_count": 71,
   "id": "bc495981",
   "metadata": {
    "tags": []
   },
   "outputs": [],
   "source": [
    "# fit the PCA object\n",
    "df_50_scaled_pca = pca_50.fit(df_50_scaled)"
   ]
  },
  {
   "cell_type": "code",
   "execution_count": 72,
   "id": "bd1bbfdc",
   "metadata": {
    "tags": []
   },
   "outputs": [
    {
     "data": {
      "image/png": "[encoded data removed]",
      "text/plain": [
       "<Figure size 720x432 with 1 Axes>"
      ]
     },
     "metadata": {
      "needs_background": "light"
     },
     "output_type": "display_data"
    }
   ],
   "source": [
    "# plot the explained variance ratio for each principal component\n",
    "plt.figure(figsize=(10,6))\n",
    "plt.scatter(x=[i+1 for i in range(len(df_50_scaled_pca.explained_variance_ratio_))],\n",
    "            y=df_50_scaled_pca.explained_variance_ratio_,\n",
    "            s=200, alpha=0.75,c='orange',edgecolor='k')\n",
    "plt.grid(True)\n",
    "plt.title(\"Explained variance ratio of the \\nfitted principal component vector\\n\",fontsize=25)\n",
    "plt.xlabel(\"Principal components\",fontsize=15)\n",
    "plt.xticks([i+1 for i in range(len(df_50_scaled_pca.explained_variance_ratio_))],fontsize=15)\n",
    "plt.yticks(fontsize=15)\n",
    "plt.ylabel(\"Explained variance ratio\",fontsize=15)\n",
    "plt.show()"
   ]
  },
  {
   "cell_type": "code",
   "execution_count": 73,
   "id": "b5ebfc0d",
   "metadata": {
    "tags": []
   },
   "outputs": [],
   "source": [
    "# transform the scaled data set using the fitted PCA object\n",
    "X_train_50_scaled_trans = pca_50.transform(df_50_scaled)"
   ]
  },
  {
   "cell_type": "markdown",
   "id": "4a2e8f95",
   "metadata": {
    "tags": []
   },
   "source": [
    "##### Put it in a data frame"
   ]
  },
  {
   "cell_type": "code",
   "execution_count": 74,
   "id": "ab125c9e",
   "metadata": {
    "tags": []
   },
   "outputs": [],
   "source": [
    "# put it in a data frame\n",
    "X_train_50_scaled_trans = pd.DataFrame(data=X_train_50_scaled_trans)"
   ]
  },
  {
   "cell_type": "code",
   "execution_count": 75,
   "id": "90ef8851",
   "metadata": {
    "tags": []
   },
   "outputs": [],
   "source": [
    "# assign the most meaningful variables\n",
    "variables_50 = [0,1,2,3,4,5,6]"
   ]
  },
  {
   "cell_type": "markdown",
   "id": "9abc6402",
   "metadata": {
    "tags": []
   },
   "source": [
    "#### 2.4 Logistic Regression (PCA)"
   ]
  },
  {
   "cell_type": "code",
   "execution_count": 76,
   "id": "abcee38f",
   "metadata": {
    "tags": []
   },
   "outputs": [
    {
     "data": {
      "text/plain": [
       "LogisticRegression()"
      ]
     },
     "execution_count": 76,
     "metadata": {},
     "output_type": "execute_result"
    }
   ],
   "source": [
    "# create a Logistic Regression-Model / fit the model (PCA)\n",
    "logreg_50_pca = LogisticRegression()\n",
    "logreg_50_pca.fit(X_train_50_scaled_trans[variables_50], y_train_50)"
   ]
  },
  {
   "cell_type": "code",
   "execution_count": 77,
   "id": "a74e8455",
   "metadata": {
    "tags": []
   },
   "outputs": [],
   "source": [
    "# scale test data with standard scaler / transform the scaled data set using the fitted PCA object\n",
    "X_test_50_scaled = scaler.transform(X_test_50)\n",
    "X_test_50_scaled_trans = pca_50.transform(X_test_50_scaled)"
   ]
  },
  {
   "cell_type": "code",
   "execution_count": 78,
   "id": "1bd5221d",
   "metadata": {
    "tags": []
   },
   "outputs": [],
   "source": [
    "# put it in a data frame\n",
    "X_test_50_scaled_trans = pd.DataFrame(data=X_test_50_scaled_trans)"
   ]
  },
  {
   "cell_type": "code",
   "execution_count": 79,
   "id": "c013ac2d",
   "metadata": {
    "tags": []
   },
   "outputs": [],
   "source": [
    "# predict the test data / assign the predicted-variable for the profit metric\n",
    "y_pred_logreg_50_pca = logreg_50_pca.predict(X_test_50_scaled_trans[[0,1,2,3,4,5,6]])\n",
    "predicted = y_pred_logreg_50_pca.tolist()"
   ]
  },
  {
   "cell_type": "code",
   "execution_count": 80,
   "id": "e6ecd32a",
   "metadata": {
    "tags": []
   },
   "outputs": [
    {
     "name": "stdout",
     "output_type": "stream",
     "text": [
      "              precision    recall  f1-score   support\n",
      "\n",
      "           1       0.64      0.99      0.78      2349\n",
      "          X2       0.30      0.01      0.01      1304\n",
      "\n",
      "    accuracy                           0.64      3653\n",
      "   macro avg       0.47      0.50      0.40      3653\n",
      "weighted avg       0.52      0.64      0.51      3653\n",
      "\n"
     ]
    }
   ],
   "source": [
    "# print the classification report\n",
    "print(classification_report(y_test_50, y_pred_logreg_50_pca))"
   ]
  },
  {
   "cell_type": "code",
   "execution_count": 81,
   "id": "09e385bb",
   "metadata": {
    "tags": []
   },
   "outputs": [
    {
     "name": "stdout",
     "output_type": "stream",
     "text": [
      "6.51 units in 3653 games\n",
      "0.18 % gain per game\n"
     ]
    }
   ],
   "source": [
    "# print the result of the profit metric\n",
    "profit_metric(actual, predicted, home_odd, dc_odd, avg_odd_fav, avg_odd_out)"
   ]
  },
  {
   "cell_type": "markdown",
   "id": "f9842fc4",
   "metadata": {},
   "source": [
    "#### 2.5 Support Vector Machine (PCA)"
   ]
  },
  {
   "cell_type": "code",
   "execution_count": 82,
   "id": "ef2bfc8c",
   "metadata": {},
   "outputs": [],
   "source": [
    "# create a SVM-Model\n",
    "model_50_svm_pca = SVC(kernel='linear', verbose = 1)"
   ]
  },
  {
   "cell_type": "code",
   "execution_count": 83,
   "id": "8533a5a3",
   "metadata": {},
   "outputs": [
    {
     "name": "stdout",
     "output_type": "stream",
     "text": [
      "[LibSVM]"
     ]
    },
    {
     "data": {
      "text/plain": [
       "SVC(kernel='linear', verbose=1)"
      ]
     },
     "execution_count": 83,
     "metadata": {},
     "output_type": "execute_result"
    }
   ],
   "source": [
    "# fit the model (PCA)\n",
    "model_50_svm_pca.fit(X_train_50_scaled_trans[variables_50], y_train_50)"
   ]
  },
  {
   "cell_type": "code",
   "execution_count": 84,
   "id": "c631bec4",
   "metadata": {},
   "outputs": [],
   "source": [
    "# predict the test data\n",
    "y_pred_50_svm_pca = model_50_svm_pca.predict(X_test_50_scaled_trans[[0,1,2,3,4,5,6]])"
   ]
  },
  {
   "cell_type": "code",
   "execution_count": 85,
   "id": "e0e604b9",
   "metadata": {},
   "outputs": [
    {
     "name": "stdout",
     "output_type": "stream",
     "text": [
      "              precision    recall  f1-score   support\n",
      "\n",
      "           1       0.64      1.00      0.78      2349\n",
      "          X2       0.00      0.00      0.00      1304\n",
      "\n",
      "    accuracy                           0.64      3653\n",
      "   macro avg       0.32      0.50      0.39      3653\n",
      "weighted avg       0.41      0.64      0.50      3653\n",
      "\n"
     ]
    }
   ],
   "source": [
    "# print the classification report\n",
    "print(classification_report(y_test_50, y_pred_50_svm_pca))"
   ]
  },
  {
   "cell_type": "code",
   "execution_count": 86,
   "id": "64e3fd9d",
   "metadata": {},
   "outputs": [
    {
     "name": "stdout",
     "output_type": "stream",
     "text": [
      "8.98 units in 3653 games\n",
      "0.25 % gain per game\n"
     ]
    }
   ],
   "source": [
    "# assign the predicted-variable for the profit metric / print the result of the profit metric\n",
    "predicted = y_pred_50_svm_pca\n",
    "profit_metric(actual, predicted, home_odd, dc_odd, avg_odd_fav, avg_odd_out)"
   ]
  },
  {
   "cell_type": "markdown",
   "id": "b62341ed",
   "metadata": {},
   "source": [
    "#### 2.6 Random Forest (PCA)"
   ]
  },
  {
   "cell_type": "code",
   "execution_count": 87,
   "id": "d782247f",
   "metadata": {},
   "outputs": [],
   "source": [
    "# create a Random Forest-Model\n",
    "model_50_rf = RandomForestClassifier(n_estimators=120, \n",
    "                               random_state=42, \n",
    "                               max_features = 'sqrt',\n",
    "                               n_jobs=-1, verbose = 1)"
   ]
  },
  {
   "cell_type": "code",
   "execution_count": 88,
   "id": "29f40625",
   "metadata": {},
   "outputs": [
    {
     "name": "stderr",
     "output_type": "stream",
     "text": [
      "[Parallel(n_jobs=-1)]: Using backend ThreadingBackend with 4 concurrent workers.\n",
      "[Parallel(n_jobs=-1)]: Done  42 tasks      | elapsed:    0.3s\n",
      "[Parallel(n_jobs=-1)]: Done 120 out of 120 | elapsed:    0.9s finished\n"
     ]
    },
    {
     "data": {
      "text/plain": [
       "RandomForestClassifier(max_features='sqrt', n_estimators=120, n_jobs=-1,\n",
       "                       random_state=42, verbose=1)"
      ]
     },
     "execution_count": 88,
     "metadata": {},
     "output_type": "execute_result"
    }
   ],
   "source": [
    "# fit the model (PCA)\n",
    "model_50_rf.fit(X_train_50_scaled_trans[variables_50], y_train_50)"
   ]
  },
  {
   "cell_type": "code",
   "execution_count": 89,
   "id": "a2b395f6",
   "metadata": {},
   "outputs": [
    {
     "name": "stderr",
     "output_type": "stream",
     "text": [
      "[Parallel(n_jobs=4)]: Using backend ThreadingBackend with 4 concurrent workers.\n",
      "[Parallel(n_jobs=4)]: Done  42 tasks      | elapsed:    0.0s\n",
      "[Parallel(n_jobs=4)]: Done 120 out of 120 | elapsed:    0.1s finished\n"
     ]
    }
   ],
   "source": [
    "# predict the test data\n",
    "y_pred_50_rf = model_50_rf.predict(X_test_50_scaled_trans[[0,1,2,3,4,5,6]])"
   ]
  },
  {
   "cell_type": "code",
   "execution_count": 90,
   "id": "ddd74959",
   "metadata": {},
   "outputs": [
    {
     "name": "stdout",
     "output_type": "stream",
     "text": [
      "              precision    recall  f1-score   support\n",
      "\n",
      "           1       0.65      0.88      0.75      2349\n",
      "          X2       0.41      0.15      0.23      1304\n",
      "\n",
      "    accuracy                           0.62      3653\n",
      "   macro avg       0.53      0.52      0.49      3653\n",
      "weighted avg       0.57      0.62      0.56      3653\n",
      "\n"
     ]
    }
   ],
   "source": [
    "# print the classification report\n",
    "print(classification_report(y_test_50, y_pred_50_rf))"
   ]
  },
  {
   "cell_type": "code",
   "execution_count": 91,
   "id": "652662d2",
   "metadata": {},
   "outputs": [
    {
     "name": "stdout",
     "output_type": "stream",
     "text": [
      "0.34 units in 3653 games\n",
      "0.01 % gain per game\n"
     ]
    }
   ],
   "source": [
    "# assign the predicted-variable for the profit metric / print the result of the profit metric\n",
    "predicted = y_pred_50_rf\n",
    "profit_metric(actual, predicted, home_odd, dc_odd, avg_odd_fav, avg_odd_out)"
   ]
  },
  {
   "cell_type": "markdown",
   "id": "8494910a",
   "metadata": {},
   "source": [
    "#### 2.7 Extra Trees (PCA)"
   ]
  },
  {
   "cell_type": "code",
   "execution_count": 92,
   "id": "a283b3dd",
   "metadata": {},
   "outputs": [],
   "source": [
    "# create a Extra Trees-Model\n",
    "model_50_extra_pca = ExtraTreesClassifier(n_estimators=100, random_state=42)"
   ]
  },
  {
   "cell_type": "code",
   "execution_count": 93,
   "id": "90910fd9",
   "metadata": {},
   "outputs": [
    {
     "data": {
      "text/plain": [
       "ExtraTreesClassifier(random_state=42)"
      ]
     },
     "execution_count": 93,
     "metadata": {},
     "output_type": "execute_result"
    }
   ],
   "source": [
    "# fit the model (PCA)\n",
    "model_50_extra_pca.fit(X_train_50_scaled_trans[variables_50], y_train_50)"
   ]
  },
  {
   "cell_type": "code",
   "execution_count": 94,
   "id": "369fb7c4",
   "metadata": {},
   "outputs": [],
   "source": [
    "# predict the test data\n",
    "y_pred_50_extra_pca = model_50_extra_pca.predict(X_test_50_scaled_trans[[0,1,2,3,4,5,6]])"
   ]
  },
  {
   "cell_type": "code",
   "execution_count": 95,
   "id": "ef335518",
   "metadata": {},
   "outputs": [
    {
     "name": "stdout",
     "output_type": "stream",
     "text": [
      "              precision    recall  f1-score   support\n",
      "\n",
      "           1       0.65      0.89      0.75      2349\n",
      "          X2       0.41      0.14      0.21      1304\n",
      "\n",
      "    accuracy                           0.62      3653\n",
      "   macro avg       0.53      0.51      0.48      3653\n",
      "weighted avg       0.57      0.62      0.56      3653\n",
      "\n"
     ]
    }
   ],
   "source": [
    "# print the classification report\n",
    "print(classification_report(y_test_50, y_pred_50_extra_pca))"
   ]
  },
  {
   "cell_type": "code",
   "execution_count": 96,
   "id": "95a87608",
   "metadata": {},
   "outputs": [
    {
     "name": "stdout",
     "output_type": "stream",
     "text": [
      "0.24 units in 3653 games\n",
      "0.01 % gain per game\n"
     ]
    }
   ],
   "source": [
    "# assign the predicted-variable for the profit metric / print the result of the profit metric\n",
    "predicted = y_pred_50_extra_pca\n",
    "profit_metric(actual, predicted, home_odd, dc_odd, avg_odd_fav, avg_odd_out)"
   ]
  },
  {
   "cell_type": "markdown",
   "id": "ba25bfeb",
   "metadata": {},
   "source": [
    "#### 2.8 KNN (PCA)"
   ]
  },
  {
   "cell_type": "code",
   "execution_count": 97,
   "id": "b6c3c712",
   "metadata": {},
   "outputs": [],
   "source": [
    "# create a KNN-Model\n",
    "model_50_knn_pca = KNeighborsClassifier(n_neighbors=5, metric='minkowski', n_jobs=-1)"
   ]
  },
  {
   "cell_type": "code",
   "execution_count": 98,
   "id": "e2d7c803",
   "metadata": {},
   "outputs": [
    {
     "data": {
      "text/plain": [
       "KNeighborsClassifier(n_jobs=-1)"
      ]
     },
     "execution_count": 98,
     "metadata": {},
     "output_type": "execute_result"
    }
   ],
   "source": [
    "# fit the model (PCA)\n",
    "model_50_knn_pca.fit(X_train_50_scaled_trans[variables_50], y_train_50)"
   ]
  },
  {
   "cell_type": "code",
   "execution_count": 99,
   "id": "7d27d8ad",
   "metadata": {},
   "outputs": [],
   "source": [
    "# predict the test data\n",
    "y_pred_50_knn_pca = model_50_knn_pca.predict(X_test_50_scaled_trans[[0,1,2,3,4,5,6]])"
   ]
  },
  {
   "cell_type": "code",
   "execution_count": 100,
   "id": "eec739f2",
   "metadata": {},
   "outputs": [
    {
     "name": "stdout",
     "output_type": "stream",
     "text": [
      "              precision    recall  f1-score   support\n",
      "\n",
      "           1       0.65      0.76      0.70      2349\n",
      "          X2       0.39      0.27      0.32      1304\n",
      "\n",
      "    accuracy                           0.59      3653\n",
      "   macro avg       0.52      0.52      0.51      3653\n",
      "weighted avg       0.56      0.59      0.57      3653\n",
      "\n"
     ]
    }
   ],
   "source": [
    "# print the classification report\n",
    "print(classification_report(y_test_50, y_pred_50_knn_pca))"
   ]
  },
  {
   "cell_type": "code",
   "execution_count": 101,
   "id": "1a7a271b",
   "metadata": {},
   "outputs": [
    {
     "name": "stdout",
     "output_type": "stream",
     "text": [
      "-10.04 units in 3653 games\n",
      "-0.27 % gain per game\n"
     ]
    }
   ],
   "source": [
    "# assign the predicted-variable for the profit metric / print the result of the profit metric\n",
    "predicted = y_pred_50_knn_pca\n",
    "profit_metric(actual, predicted, home_odd, dc_odd, avg_odd_fav, avg_odd_out)"
   ]
  },
  {
   "cell_type": "markdown",
   "id": "8d476d87",
   "metadata": {},
   "source": [
    "#### 2.9 AdaBoost (PCA)"
   ]
  },
  {
   "cell_type": "code",
   "execution_count": 102,
   "id": "2090df68",
   "metadata": {},
   "outputs": [],
   "source": [
    "# create a AdaBoost-Model\n",
    "model_50_ada_pca = AdaBoostClassifier()"
   ]
  },
  {
   "cell_type": "code",
   "execution_count": 103,
   "id": "87901ad2",
   "metadata": {},
   "outputs": [
    {
     "data": {
      "text/plain": [
       "AdaBoostClassifier()"
      ]
     },
     "execution_count": 103,
     "metadata": {},
     "output_type": "execute_result"
    }
   ],
   "source": [
    "# fit the model (PCA)\n",
    "model_50_ada_pca.fit(X_train_50_scaled_trans[variables_50], y_train_50)"
   ]
  },
  {
   "cell_type": "code",
   "execution_count": 104,
   "id": "f8a7556a",
   "metadata": {},
   "outputs": [],
   "source": [
    "# predict the test data\n",
    "y_pred_50_ada_pca = model_50_ada_pca.predict(X_test_50_scaled_trans[[0,1,2,3,4,5,6]])"
   ]
  },
  {
   "cell_type": "code",
   "execution_count": 105,
   "id": "133ca766",
   "metadata": {},
   "outputs": [
    {
     "name": "stdout",
     "output_type": "stream",
     "text": [
      "              precision    recall  f1-score   support\n",
      "\n",
      "           1       0.65      0.95      0.77      2349\n",
      "          X2       0.46      0.08      0.14      1304\n",
      "\n",
      "    accuracy                           0.64      3653\n",
      "   macro avg       0.55      0.51      0.46      3653\n",
      "weighted avg       0.58      0.64      0.55      3653\n",
      "\n"
     ]
    }
   ],
   "source": [
    "# print the classification report\n",
    "print(classification_report(y_test_50, y_pred_50_ada_pca))"
   ]
  },
  {
   "cell_type": "code",
   "execution_count": 106,
   "id": "9f44854f",
   "metadata": {},
   "outputs": [
    {
     "name": "stdout",
     "output_type": "stream",
     "text": [
      "8.09 units in 3653 games\n",
      "0.22 % gain per game\n"
     ]
    }
   ],
   "source": [
    "# assign the predicted-variable for the profit metric / print the result of the profit metric\n",
    "predicted = y_pred_50_ada_pca\n",
    "profit_metric(actual, predicted, home_odd, dc_odd, avg_odd_fav, avg_odd_out)"
   ]
  },
  {
   "cell_type": "markdown",
   "id": "44425e32",
   "metadata": {},
   "source": [
    "#### 2.10 XGBoost (PCA)"
   ]
  },
  {
   "cell_type": "code",
   "execution_count": 107,
   "id": "04f1e56e",
   "metadata": {},
   "outputs": [],
   "source": [
    "# create a XGBoost-Model\n",
    "model_50_xgb_pca = xgb.XGBClassifier()"
   ]
  },
  {
   "cell_type": "code",
   "execution_count": 108,
   "id": "2fc939e6",
   "metadata": {},
   "outputs": [
    {
     "name": "stdout",
     "output_type": "stream",
     "text": [
      "[11:59:17] WARNING: /Users/travis/build/dmlc/xgboost/src/learner.cc:1095: Starting in XGBoost 1.3.0, the default evaluation metric used with the objective 'binary:logistic' was changed from 'error' to 'logloss'. Explicitly set eval_metric if you'd like to restore the old behavior.\n"
     ]
    },
    {
     "data": {
      "text/plain": [
       "XGBClassifier(base_score=0.5, booster='gbtree', colsample_bylevel=1,\n",
       "              colsample_bynode=1, colsample_bytree=1, gamma=0, gpu_id=-1,\n",
       "              importance_type='gain', interaction_constraints='',\n",
       "              learning_rate=0.300000012, max_delta_step=0, max_depth=6,\n",
       "              min_child_weight=1, missing=nan, monotone_constraints='()',\n",
       "              n_estimators=100, n_jobs=4, num_parallel_tree=1, random_state=0,\n",
       "              reg_alpha=0, reg_lambda=1, scale_pos_weight=1, subsample=1,\n",
       "              tree_method='exact', validate_parameters=1, verbosity=None)"
      ]
     },
     "execution_count": 108,
     "metadata": {},
     "output_type": "execute_result"
    }
   ],
   "source": [
    "# fit the model (PCA)\n",
    "model_50_xgb_pca.fit(X_train_50_scaled_trans[variables_50], y_train_50)"
   ]
  },
  {
   "cell_type": "code",
   "execution_count": 109,
   "id": "7bc3b1a5",
   "metadata": {},
   "outputs": [],
   "source": [
    "# predict the test data\n",
    "y_pred_50_xgb_pca = model_50_xgb_pca.predict(X_test_50_scaled_trans[[0,1,2,3,4,5,6]])"
   ]
  },
  {
   "cell_type": "code",
   "execution_count": 110,
   "id": "50084526",
   "metadata": {},
   "outputs": [
    {
     "name": "stdout",
     "output_type": "stream",
     "text": [
      "              precision    recall  f1-score   support\n",
      "\n",
      "           1       0.66      0.82      0.73      2349\n",
      "          X2       0.44      0.25      0.32      1304\n",
      "\n",
      "    accuracy                           0.62      3653\n",
      "   macro avg       0.55      0.53      0.52      3653\n",
      "weighted avg       0.58      0.62      0.58      3653\n",
      "\n"
     ]
    }
   ],
   "source": [
    "# print the classification report\n",
    "print(classification_report(y_test_50, y_pred_50_xgb_pca))"
   ]
  },
  {
   "cell_type": "code",
   "execution_count": 111,
   "id": "76607816",
   "metadata": {},
   "outputs": [
    {
     "name": "stdout",
     "output_type": "stream",
     "text": [
      "9.08 units in 3653 games\n",
      "0.25 % gain per game\n"
     ]
    }
   ],
   "source": [
    "# assign the predicted-variable for the profit metric / print the result of the profit metric\n",
    "predicted = y_pred_50_xgb_pca\n",
    "profit_metric(actual, predicted, home_odd, dc_odd, avg_odd_fav, avg_odd_out)"
   ]
  },
  {
   "cell_type": "markdown",
   "id": "52cebed2",
   "metadata": {},
   "source": [
    "## 3 Favorite Dataframe"
   ]
  },
  {
   "cell_type": "code",
   "execution_count": 112,
   "id": "50b5dafb",
   "metadata": {},
   "outputs": [],
   "source": [
    "# loading the dataframe\n",
    "X_train_fav = pd.read_csv('Data/model_home_csv/X_train_home_fav.csv')\n",
    "X_test_fav = pd.read_csv('Data/model_home_csv/X_test_home_fav.csv')\n",
    "y_train_fav = pd.read_csv('Data/model_home_csv/y_train_home_fav.csv')\n",
    "y_test_fav = pd.read_csv('Data/model_home_csv/y_test_home_fav.csv')\n",
    "y_train_fav = y_train_fav['two_way_h_odd']\n",
    "y_test_fav = y_test_fav['two_way_h_odd']"
   ]
  },
  {
   "cell_type": "code",
   "execution_count": 113,
   "id": "81ebe7eb",
   "metadata": {},
   "outputs": [],
   "source": [
    "# assigning the variables of the profit metric\n",
    "actual = y_test_fav\n",
    "home_odd = X_test_fav.MaxHome\n",
    "dc_odd = X_test_fav.dc_away"
   ]
  },
  {
   "cell_type": "markdown",
   "id": "6c91840f",
   "metadata": {},
   "source": [
    "#### 3.1 Dummy-Classifier"
   ]
  },
  {
   "cell_type": "code",
   "execution_count": 114,
   "id": "b70d4da3",
   "metadata": {},
   "outputs": [],
   "source": [
    "# create a Dummy-Model\n",
    "model_dummy_fav = DummyClassifier(strategy = 'most_frequent')"
   ]
  },
  {
   "cell_type": "code",
   "execution_count": 115,
   "id": "eceaef95",
   "metadata": {},
   "outputs": [
    {
     "data": {
      "text/plain": [
       "DummyClassifier(strategy='most_frequent')"
      ]
     },
     "execution_count": 115,
     "metadata": {},
     "output_type": "execute_result"
    }
   ],
   "source": [
    "# fit the model\n",
    "model_dummy_fav.fit(X_train_fav, y_train_fav)"
   ]
  },
  {
   "cell_type": "code",
   "execution_count": 116,
   "id": "1ca598e8",
   "metadata": {},
   "outputs": [],
   "source": [
    "# predict the test data / assign the predicted-variable for the profit metric\n",
    "y_pred_dummy_fav = model_dummy_fav.predict(X_test_fav)\n",
    "predicted = y_pred_dummy_fav.tolist()"
   ]
  },
  {
   "cell_type": "code",
   "execution_count": 117,
   "id": "9f8e240d",
   "metadata": {},
   "outputs": [
    {
     "name": "stdout",
     "output_type": "stream",
     "text": [
      "              precision    recall  f1-score   support\n",
      "\n",
      "           1       0.78      1.00      0.88       432\n",
      "          X2       0.00      0.00      0.00       120\n",
      "\n",
      "    accuracy                           0.78       552\n",
      "   macro avg       0.39      0.50      0.44       552\n",
      "weighted avg       0.61      0.78      0.69       552\n",
      "\n"
     ]
    }
   ],
   "source": [
    "# print the classification report\n",
    "print(classification_report(y_test_fav, y_pred_dummy_fav))"
   ]
  },
  {
   "cell_type": "code",
   "execution_count": 118,
   "id": "dc947c07",
   "metadata": {},
   "outputs": [
    {
     "name": "stdout",
     "output_type": "stream",
     "text": [
      "11.0 units in 552 games\n",
      "1.99 % gain per game\n"
     ]
    }
   ],
   "source": [
    "# print the result of the profit metric\n",
    "profit_metric_fav(actual, predicted, home_odd, dc_odd)"
   ]
  },
  {
   "cell_type": "markdown",
   "id": "55fbd6aa",
   "metadata": {},
   "source": [
    "#### 3.2 Logistic Regression"
   ]
  },
  {
   "cell_type": "code",
   "execution_count": 119,
   "id": "ca33e22f",
   "metadata": {},
   "outputs": [],
   "source": [
    "# create a Logistic Regression-Model\n",
    "logreg_fav = LogisticRegression()"
   ]
  },
  {
   "cell_type": "code",
   "execution_count": 120,
   "id": "faa12c0e",
   "metadata": {},
   "outputs": [
    {
     "data": {
      "text/plain": [
       "LogisticRegression()"
      ]
     },
     "execution_count": 120,
     "metadata": {},
     "output_type": "execute_result"
    }
   ],
   "source": [
    "# fit the model\n",
    "logreg_fav.fit(X_train_fav, y_train_fav)"
   ]
  },
  {
   "cell_type": "code",
   "execution_count": 121,
   "id": "32e91b7b",
   "metadata": {},
   "outputs": [],
   "source": [
    "# predict the test data / assign the predicted-variable for the profit metric\n",
    "y_pred_logreg_fav = logreg_fav.predict(X_test_fav)\n",
    "predicted = y_pred_logreg_fav.tolist()"
   ]
  },
  {
   "cell_type": "code",
   "execution_count": 122,
   "id": "b93c155d",
   "metadata": {},
   "outputs": [
    {
     "name": "stdout",
     "output_type": "stream",
     "text": [
      "              precision    recall  f1-score   support\n",
      "\n",
      "           1       0.80      0.98      0.88       432\n",
      "          X2       0.64      0.12      0.20       120\n",
      "\n",
      "    accuracy                           0.79       552\n",
      "   macro avg       0.72      0.55      0.54       552\n",
      "weighted avg       0.76      0.79      0.73       552\n",
      "\n"
     ]
    }
   ],
   "source": [
    "# print the classification report\n",
    "print(classification_report(y_test_fav, y_pred_logreg_fav))"
   ]
  },
  {
   "cell_type": "code",
   "execution_count": 123,
   "id": "68dd524c",
   "metadata": {},
   "outputs": [
    {
     "name": "stdout",
     "output_type": "stream",
     "text": [
      "14.02 units in 552 games\n",
      "2.54 % gain per game\n"
     ]
    }
   ],
   "source": [
    "# print the result of the profit metric\n",
    "profit_metric_fav(actual, predicted, home_odd, dc_odd)"
   ]
  },
  {
   "cell_type": "markdown",
   "id": "79b58519",
   "metadata": {},
   "source": [
    "#### 3.3 Dimensionality Reduction"
   ]
  },
  {
   "cell_type": "markdown",
   "id": "80fb6225",
   "metadata": {},
   "source": [
    "##### Data scaling\n",
    "PCA requires scaling/normalization of the data to work properly."
   ]
  },
  {
   "cell_type": "code",
   "execution_count": 124,
   "id": "6440ac68",
   "metadata": {},
   "outputs": [],
   "source": [
    "# scale train data with standard scaler\n",
    "X_train_fav_scaled = scaler.fit_transform(X_train_fav)\n",
    "df_fav_scaled = pd.DataFrame(data=X_train_fav_scaled,columns=X_train_fav.columns)"
   ]
  },
  {
   "cell_type": "markdown",
   "id": "238e9e59",
   "metadata": {},
   "source": [
    "##### Principal Component Analysis"
   ]
  },
  {
   "cell_type": "code",
   "execution_count": 125,
   "id": "faf87be3",
   "metadata": {},
   "outputs": [],
   "source": [
    "# create a PCA object\n",
    "pca_fav = PCA(n_components=None)"
   ]
  },
  {
   "cell_type": "code",
   "execution_count": 126,
   "id": "71b2796f",
   "metadata": {},
   "outputs": [],
   "source": [
    "# fit the PCA object\n",
    "df_fav_scaled_pca = pca_fav.fit(df_fav_scaled)"
   ]
  },
  {
   "cell_type": "code",
   "execution_count": 127,
   "id": "99890521",
   "metadata": {},
   "outputs": [
    {
     "data": {
      "image/png": "[encoded data removed]",
      "text/plain": [
       "<Figure size 720x432 with 1 Axes>"
      ]
     },
     "metadata": {
      "needs_background": "light"
     },
     "output_type": "display_data"
    }
   ],
   "source": [
    "# plot the explained variance ratio for each principal component\n",
    "plt.figure(figsize=(10,6))\n",
    "plt.scatter(x=[i+1 for i in range(len(df_fav_scaled_pca.explained_variance_ratio_))],\n",
    "            y=df_fav_scaled_pca.explained_variance_ratio_,\n",
    "            s=200, alpha=0.75,c='orange',edgecolor='k')\n",
    "plt.grid(True)\n",
    "plt.title(\"Explained variance ratio of the \\nfitted principal component vector\\n\",fontsize=25)\n",
    "plt.xlabel(\"Principal components\",fontsize=15)\n",
    "plt.xticks([i+1 for i in range(len(df_fav_scaled_pca.explained_variance_ratio_))],fontsize=15)\n",
    "plt.yticks(fontsize=15)\n",
    "plt.ylabel(\"Explained variance ratio\",fontsize=15)\n",
    "plt.show()"
   ]
  },
  {
   "cell_type": "code",
   "execution_count": 128,
   "id": "623fdc2b",
   "metadata": {},
   "outputs": [],
   "source": [
    "# transform the scaled data set using the fitted PCA object\n",
    "X_train_fav_scaled_trans = pca_fav.transform(df_fav_scaled)"
   ]
  },
  {
   "cell_type": "code",
   "execution_count": 129,
   "id": "60d76ed4",
   "metadata": {},
   "outputs": [],
   "source": [
    "# put it in a data frame\n",
    "X_train_fav_scaled_trans = pd.DataFrame(data=X_train_fav_scaled_trans)"
   ]
  },
  {
   "cell_type": "code",
   "execution_count": 130,
   "id": "61447a78",
   "metadata": {},
   "outputs": [],
   "source": [
    "# assign the most meaningful variables\n",
    "variables_fav = [0,1,2,3,4,5,6]"
   ]
  },
  {
   "cell_type": "markdown",
   "id": "48d90f6e",
   "metadata": {},
   "source": [
    "#### 3.4 Logistic Regression (PCA)"
   ]
  },
  {
   "cell_type": "code",
   "execution_count": 131,
   "id": "26fb16a3",
   "metadata": {},
   "outputs": [
    {
     "data": {
      "text/plain": [
       "LogisticRegression()"
      ]
     },
     "execution_count": 131,
     "metadata": {},
     "output_type": "execute_result"
    }
   ],
   "source": [
    "# create a Logistic Regression-Model / fit the model (PCA)\n",
    "logreg_fav_pca = LogisticRegression()\n",
    "logreg_fav_pca.fit(X_train_fav_scaled_trans[variables_fav], y_train_fav)"
   ]
  },
  {
   "cell_type": "code",
   "execution_count": 132,
   "id": "d19e014e",
   "metadata": {},
   "outputs": [],
   "source": [
    "# scale test data with standard scaler / transform the scaled data set using the fitted PCA object\n",
    "X_test_fav_scaled = scaler.transform(X_test_fav)\n",
    "X_test_fav_scaled_trans = pca_fav.transform(X_test_fav_scaled)"
   ]
  },
  {
   "cell_type": "code",
   "execution_count": 133,
   "id": "d3cd6a4e",
   "metadata": {},
   "outputs": [],
   "source": [
    "# put it in a data frame\n",
    "X_test_fav_scaled_trans = pd.DataFrame(data=X_test_fav_scaled_trans)"
   ]
  },
  {
   "cell_type": "code",
   "execution_count": 134,
   "id": "757522ed",
   "metadata": {},
   "outputs": [],
   "source": [
    "# predict the test data / assign the predicted-variable for the profit metric\n",
    "y_pred_logreg_fav_pca = logreg_fav_pca.predict(X_test_fav_scaled_trans[[0,1,2,3,4,5,6]])\n",
    "predicted = y_pred_logreg_fav_pca.tolist()"
   ]
  },
  {
   "cell_type": "code",
   "execution_count": 135,
   "id": "b5115718",
   "metadata": {},
   "outputs": [
    {
     "name": "stdout",
     "output_type": "stream",
     "text": [
      "              precision    recall  f1-score   support\n",
      "\n",
      "           1       0.80      0.97      0.88       432\n",
      "          X2       0.56      0.12      0.19       120\n",
      "\n",
      "    accuracy                           0.79       552\n",
      "   macro avg       0.68      0.55      0.54       552\n",
      "weighted avg       0.75      0.79      0.73       552\n",
      "\n"
     ]
    }
   ],
   "source": [
    "# print the classification report\n",
    "print(classification_report(y_test_fav, y_pred_logreg_fav_pca))"
   ]
  },
  {
   "cell_type": "code",
   "execution_count": 136,
   "id": "42593ad5",
   "metadata": {},
   "outputs": [
    {
     "name": "stdout",
     "output_type": "stream",
     "text": [
      "9.39 units in 552 games\n",
      "1.7 % gain per game\n"
     ]
    }
   ],
   "source": [
    "# print the result of the profit metric\n",
    "profit_metric_fav(actual, predicted, home_odd, dc_odd)"
   ]
  },
  {
   "cell_type": "markdown",
   "id": "1a9ab7e2",
   "metadata": {},
   "source": [
    "#### 3.5 Support Vector Machine (PCA)"
   ]
  },
  {
   "cell_type": "code",
   "execution_count": 137,
   "id": "4bb524bd",
   "metadata": {},
   "outputs": [],
   "source": [
    "# create a SVM-Model\n",
    "model_fav_svm_pca = SVC(kernel='linear', verbose = 1)"
   ]
  },
  {
   "cell_type": "code",
   "execution_count": 138,
   "id": "3678814c",
   "metadata": {},
   "outputs": [
    {
     "name": "stdout",
     "output_type": "stream",
     "text": [
      "[LibSVM]"
     ]
    },
    {
     "data": {
      "text/plain": [
       "SVC(kernel='linear', verbose=1)"
      ]
     },
     "execution_count": 138,
     "metadata": {},
     "output_type": "execute_result"
    }
   ],
   "source": [
    "# fit the model (PCA)\n",
    "model_fav_svm_pca.fit(X_train_fav_scaled_trans[variables_fav], y_train_fav)"
   ]
  },
  {
   "cell_type": "code",
   "execution_count": 139,
   "id": "916d8a28",
   "metadata": {},
   "outputs": [],
   "source": [
    "# predict the test data\n",
    "y_pred_fav_svm_pca = model_fav_svm_pca.predict(X_test_fav_scaled_trans[[0,1,2,3,4,5,6]])"
   ]
  },
  {
   "cell_type": "code",
   "execution_count": 140,
   "id": "8b4fbd9a",
   "metadata": {},
   "outputs": [
    {
     "name": "stdout",
     "output_type": "stream",
     "text": [
      "              precision    recall  f1-score   support\n",
      "\n",
      "           1       0.78      1.00      0.88       432\n",
      "          X2       0.00      0.00      0.00       120\n",
      "\n",
      "    accuracy                           0.78       552\n",
      "   macro avg       0.39      0.50      0.44       552\n",
      "weighted avg       0.61      0.78      0.69       552\n",
      "\n"
     ]
    }
   ],
   "source": [
    "# print the classification report\n",
    "print(classification_report(y_test_fav, y_pred_fav_svm_pca))"
   ]
  },
  {
   "cell_type": "code",
   "execution_count": 141,
   "id": "9e20014d",
   "metadata": {},
   "outputs": [
    {
     "name": "stdout",
     "output_type": "stream",
     "text": [
      "11.0 units in 552 games\n",
      "1.99 % gain per game\n"
     ]
    }
   ],
   "source": [
    "# assign the predicted-variable for the profit metric / print the result of the profit metric\n",
    "predicted = y_pred_fav_svm_pca\n",
    "profit_metric_fav(actual, predicted, home_odd, dc_odd)"
   ]
  },
  {
   "cell_type": "markdown",
   "id": "2a408962",
   "metadata": {},
   "source": [
    "#### 3.6 Random Forest (PCA)"
   ]
  },
  {
   "cell_type": "code",
   "execution_count": 142,
   "id": "21bfaf79",
   "metadata": {},
   "outputs": [],
   "source": [
    "# create a Random Forest-Model\n",
    "model_fav_rf = RandomForestClassifier(n_estimators=120, \n",
    "                                      random_state=42, \n",
    "                                      max_features = 'sqrt',\n",
    "                                      n_jobs=-1, verbose = 1)"
   ]
  },
  {
   "cell_type": "code",
   "execution_count": 143,
   "id": "8d3354b5",
   "metadata": {},
   "outputs": [
    {
     "name": "stderr",
     "output_type": "stream",
     "text": [
      "[Parallel(n_jobs=-1)]: Using backend ThreadingBackend with 4 concurrent workers.\n",
      "[Parallel(n_jobs=-1)]: Done  42 tasks      | elapsed:    0.1s\n",
      "[Parallel(n_jobs=-1)]: Done 120 out of 120 | elapsed:    0.2s finished\n"
     ]
    },
    {
     "data": {
      "text/plain": [
       "RandomForestClassifier(max_features='sqrt', n_estimators=120, n_jobs=-1,\n",
       "                       random_state=42, verbose=1)"
      ]
     },
     "execution_count": 143,
     "metadata": {},
     "output_type": "execute_result"
    }
   ],
   "source": [
    "# fit the model (PCA)\n",
    "model_fav_rf.fit(X_train_fav_scaled_trans[variables_fav], y_train_fav)"
   ]
  },
  {
   "cell_type": "code",
   "execution_count": 144,
   "id": "c1653298",
   "metadata": {},
   "outputs": [
    {
     "name": "stderr",
     "output_type": "stream",
     "text": [
      "[Parallel(n_jobs=4)]: Using backend ThreadingBackend with 4 concurrent workers.\n",
      "[Parallel(n_jobs=4)]: Done  42 tasks      | elapsed:    0.0s\n",
      "[Parallel(n_jobs=4)]: Done 120 out of 120 | elapsed:    0.0s finished\n"
     ]
    }
   ],
   "source": [
    "# predict the test data\n",
    "y_pred_fav_rf = model_fav_rf.predict(X_test_fav_scaled_trans[[0,1,2,3,4,5,6]])"
   ]
  },
  {
   "cell_type": "code",
   "execution_count": 145,
   "id": "b887be8c",
   "metadata": {},
   "outputs": [
    {
     "name": "stdout",
     "output_type": "stream",
     "text": [
      "              precision    recall  f1-score   support\n",
      "\n",
      "           1       0.80      0.97      0.88       432\n",
      "          X2       0.58      0.15      0.24       120\n",
      "\n",
      "    accuracy                           0.79       552\n",
      "   macro avg       0.69      0.56      0.56       552\n",
      "weighted avg       0.76      0.79      0.74       552\n",
      "\n"
     ]
    }
   ],
   "source": [
    "# print the classification report\n",
    "print(classification_report(y_test_fav, y_pred_fav_rf))"
   ]
  },
  {
   "cell_type": "code",
   "execution_count": 146,
   "id": "cdace434",
   "metadata": {},
   "outputs": [
    {
     "name": "stdout",
     "output_type": "stream",
     "text": [
      "13.08 units in 552 games\n",
      "2.37 % gain per game\n"
     ]
    }
   ],
   "source": [
    "# assign the predicted-variable for the profit metric / print the result of the profit metric\n",
    "predicted = y_pred_fav_rf\n",
    "profit_metric_fav(actual, predicted, home_odd, dc_odd)"
   ]
  },
  {
   "cell_type": "markdown",
   "id": "9df54876",
   "metadata": {},
   "source": [
    "#### 3.7 Extra Trees (PCA)"
   ]
  },
  {
   "cell_type": "code",
   "execution_count": 147,
   "id": "4c2a3eb6",
   "metadata": {},
   "outputs": [],
   "source": [
    "# create a Extra Trees-Model\n",
    "model_fav_extra_pca = ExtraTreesClassifier(n_estimators=100, random_state=42)"
   ]
  },
  {
   "cell_type": "code",
   "execution_count": 148,
   "id": "7fc64b0d",
   "metadata": {},
   "outputs": [
    {
     "data": {
      "text/plain": [
       "ExtraTreesClassifier(random_state=42)"
      ]
     },
     "execution_count": 148,
     "metadata": {},
     "output_type": "execute_result"
    }
   ],
   "source": [
    "# fit the model (PCA)\n",
    "model_fav_extra_pca.fit(X_train_fav_scaled_trans[variables_fav], y_train_fav)"
   ]
  },
  {
   "cell_type": "code",
   "execution_count": 149,
   "id": "c9d4e05f",
   "metadata": {},
   "outputs": [],
   "source": [
    "# predict the test data\n",
    "y_pred_fav_extra_pca = model_fav_extra_pca.predict(X_test_fav_scaled_trans[[0,1,2,3,4,5,6]])"
   ]
  },
  {
   "cell_type": "code",
   "execution_count": 150,
   "id": "7ac8c3cc",
   "metadata": {},
   "outputs": [
    {
     "name": "stdout",
     "output_type": "stream",
     "text": [
      "              precision    recall  f1-score   support\n",
      "\n",
      "           1       0.80      0.98      0.88       432\n",
      "          X2       0.64      0.12      0.20       120\n",
      "\n",
      "    accuracy                           0.79       552\n",
      "   macro avg       0.72      0.55      0.54       552\n",
      "weighted avg       0.76      0.79      0.73       552\n",
      "\n"
     ]
    }
   ],
   "source": [
    "# print the classification report\n",
    "print(classification_report(y_test_fav, y_pred_fav_extra_pca))"
   ]
  },
  {
   "cell_type": "code",
   "execution_count": 151,
   "id": "2e062a7d",
   "metadata": {},
   "outputs": [
    {
     "name": "stdout",
     "output_type": "stream",
     "text": [
      "13.82 units in 552 games\n",
      "2.5 % gain per game\n"
     ]
    }
   ],
   "source": [
    "# assign the predicted-variable for the profit metric / print the result of the profit metric\n",
    "predicted = y_pred_fav_extra_pca\n",
    "profit_metric_fav(actual, predicted, home_odd, dc_odd)"
   ]
  },
  {
   "cell_type": "markdown",
   "id": "81d42caa",
   "metadata": {},
   "source": [
    "#### 3.8 KNN (PCA)"
   ]
  },
  {
   "cell_type": "code",
   "execution_count": 152,
   "id": "4a6ec755",
   "metadata": {},
   "outputs": [],
   "source": [
    "# create a KNN-Model\n",
    "model_fav_knn_pca = KNeighborsClassifier(n_neighbors=5, metric='minkowski', n_jobs=-1)"
   ]
  },
  {
   "cell_type": "code",
   "execution_count": 153,
   "id": "143d7a04",
   "metadata": {},
   "outputs": [
    {
     "data": {
      "text/plain": [
       "KNeighborsClassifier(n_jobs=-1)"
      ]
     },
     "execution_count": 153,
     "metadata": {},
     "output_type": "execute_result"
    }
   ],
   "source": [
    "# fit the model (PCA)\n",
    "model_fav_knn_pca.fit(X_train_fav_scaled_trans[variables_fav], y_train_fav)"
   ]
  },
  {
   "cell_type": "code",
   "execution_count": 154,
   "id": "b146191f",
   "metadata": {},
   "outputs": [],
   "source": [
    "# predict the test data\n",
    "y_pred_fav_knn_pca = model_fav_knn_pca.predict(X_test_fav_scaled_trans[[0,1,2,3,4,5,6]])"
   ]
  },
  {
   "cell_type": "code",
   "execution_count": 155,
   "id": "08ec590a",
   "metadata": {},
   "outputs": [
    {
     "name": "stdout",
     "output_type": "stream",
     "text": [
      "              precision    recall  f1-score   support\n",
      "\n",
      "           1       0.81      0.93      0.87       432\n",
      "          X2       0.46      0.21      0.29       120\n",
      "\n",
      "    accuracy                           0.78       552\n",
      "   macro avg       0.64      0.57      0.58       552\n",
      "weighted avg       0.73      0.78      0.74       552\n",
      "\n"
     ]
    }
   ],
   "source": [
    "# print the classification report\n",
    "print(classification_report(y_test_fav, y_pred_fav_knn_pca))"
   ]
  },
  {
   "cell_type": "code",
   "execution_count": 156,
   "id": "dc3ba68a",
   "metadata": {},
   "outputs": [
    {
     "name": "stdout",
     "output_type": "stream",
     "text": [
      "16.48 units in 552 games\n",
      "2.98 % gain per game\n"
     ]
    }
   ],
   "source": [
    "# assign the predicted-variable for the profit metric / print the result of the profit metric\n",
    "predicted = y_pred_fav_knn_pca\n",
    "profit_metric_fav(actual, predicted, home_odd, dc_odd)"
   ]
  },
  {
   "cell_type": "markdown",
   "id": "a8fb2d68",
   "metadata": {},
   "source": [
    "#### 3.9 AdaBoost (PCA)"
   ]
  },
  {
   "cell_type": "code",
   "execution_count": 157,
   "id": "10dcb280",
   "metadata": {},
   "outputs": [],
   "source": [
    "# create a AdaBoost-Model\n",
    "model_fav_ada_pca = AdaBoostClassifier()"
   ]
  },
  {
   "cell_type": "code",
   "execution_count": 158,
   "id": "763949d0",
   "metadata": {},
   "outputs": [
    {
     "data": {
      "text/plain": [
       "AdaBoostClassifier()"
      ]
     },
     "execution_count": 158,
     "metadata": {},
     "output_type": "execute_result"
    }
   ],
   "source": [
    "# fit the model (PCA)\n",
    "model_fav_ada_pca.fit(X_train_fav_scaled_trans[variables_fav], y_train_fav)"
   ]
  },
  {
   "cell_type": "code",
   "execution_count": 159,
   "id": "08befe14",
   "metadata": {},
   "outputs": [],
   "source": [
    "# predict the test data\n",
    "y_pred_fav_ada_pca = model_fav_ada_pca.predict(X_test_fav_scaled_trans[[0,1,2,3,4,5,6]])"
   ]
  },
  {
   "cell_type": "code",
   "execution_count": 160,
   "id": "d8c02618",
   "metadata": {},
   "outputs": [
    {
     "name": "stdout",
     "output_type": "stream",
     "text": [
      "              precision    recall  f1-score   support\n",
      "\n",
      "           1       0.81      0.95      0.87       432\n",
      "          X2       0.50      0.18      0.27       120\n",
      "\n",
      "    accuracy                           0.78       552\n",
      "   macro avg       0.65      0.57      0.57       552\n",
      "weighted avg       0.74      0.78      0.74       552\n",
      "\n"
     ]
    }
   ],
   "source": [
    "# print the classification report\n",
    "print(classification_report(y_test_fav, y_pred_fav_ada_pca))"
   ]
  },
  {
   "cell_type": "code",
   "execution_count": 161,
   "id": "89aeade8",
   "metadata": {},
   "outputs": [
    {
     "name": "stdout",
     "output_type": "stream",
     "text": [
      "12.67 units in 552 games\n",
      "2.29 % gain per game\n"
     ]
    }
   ],
   "source": [
    "# assign the predicted-variable for the profit metric / print the result of the profit metric\n",
    "predicted = y_pred_fav_ada_pca\n",
    "profit_metric_fav(actual, predicted, home_odd, dc_odd)"
   ]
  },
  {
   "cell_type": "markdown",
   "id": "f2cbf167",
   "metadata": {},
   "source": [
    "#### 3.10 XGBoost (PCA)"
   ]
  },
  {
   "cell_type": "code",
   "execution_count": 162,
   "id": "8a658317",
   "metadata": {},
   "outputs": [],
   "source": [
    "# create a XGBoost-Model\n",
    "model_fav_xgb_pca = xgb.XGBClassifier()"
   ]
  },
  {
   "cell_type": "code",
   "execution_count": 163,
   "id": "932920bd",
   "metadata": {},
   "outputs": [
    {
     "name": "stdout",
     "output_type": "stream",
     "text": [
      "[11:59:22] WARNING: /Users/travis/build/dmlc/xgboost/src/learner.cc:1095: Starting in XGBoost 1.3.0, the default evaluation metric used with the objective 'binary:logistic' was changed from 'error' to 'logloss'. Explicitly set eval_metric if you'd like to restore the old behavior.\n"
     ]
    },
    {
     "data": {
      "text/plain": [
       "XGBClassifier(base_score=0.5, booster='gbtree', colsample_bylevel=1,\n",
       "              colsample_bynode=1, colsample_bytree=1, gamma=0, gpu_id=-1,\n",
       "              importance_type='gain', interaction_constraints='',\n",
       "              learning_rate=0.300000012, max_delta_step=0, max_depth=6,\n",
       "              min_child_weight=1, missing=nan, monotone_constraints='()',\n",
       "              n_estimators=100, n_jobs=4, num_parallel_tree=1, random_state=0,\n",
       "              reg_alpha=0, reg_lambda=1, scale_pos_weight=1, subsample=1,\n",
       "              tree_method='exact', validate_parameters=1, verbosity=None)"
      ]
     },
     "execution_count": 163,
     "metadata": {},
     "output_type": "execute_result"
    }
   ],
   "source": [
    "# fit the model (PCA)\n",
    "model_fav_xgb_pca.fit(X_train_fav_scaled_trans[variables_fav], y_train_fav)"
   ]
  },
  {
   "cell_type": "code",
   "execution_count": 164,
   "id": "30f5ef9e",
   "metadata": {},
   "outputs": [],
   "source": [
    "# predict the test data\n",
    "y_pred_fav_xgb_pca = model_fav_xgb_pca.predict(X_test_fav_scaled_trans[[0,1,2,3,4,5,6]])"
   ]
  },
  {
   "cell_type": "code",
   "execution_count": 165,
   "id": "218e493f",
   "metadata": {},
   "outputs": [
    {
     "name": "stdout",
     "output_type": "stream",
     "text": [
      "              precision    recall  f1-score   support\n",
      "\n",
      "           1       0.81      0.93      0.86       432\n",
      "          X2       0.45      0.21      0.28       120\n",
      "\n",
      "    accuracy                           0.77       552\n",
      "   macro avg       0.63      0.57      0.57       552\n",
      "weighted avg       0.73      0.77      0.74       552\n",
      "\n"
     ]
    }
   ],
   "source": [
    "# print the classification report\n",
    "print(classification_report(y_test_fav, y_pred_fav_xgb_pca))"
   ]
  },
  {
   "cell_type": "code",
   "execution_count": 166,
   "id": "e4d4a061",
   "metadata": {},
   "outputs": [
    {
     "name": "stdout",
     "output_type": "stream",
     "text": [
      "14.55 units in 552 games\n",
      "2.64 % gain per game\n"
     ]
    }
   ],
   "source": [
    "# assign the predicted-variable for the profit metric / print the result of the profit metric\n",
    "predicted = y_pred_fav_xgb_pca\n",
    "profit_metric_fav(actual, predicted, home_odd, dc_odd)"
   ]
  }
 ],
 "metadata": {
  "kernelspec": {
   "display_name": "Python 3",
   "language": "python",
   "name": "python3"
  },
  "language_info": {
   "codemirror_mode": {
    "name": "ipython",
    "version": 3
   },
   "file_extension": ".py",
   "mimetype": "text/x-python",
   "name": "python",
   "nbconvert_exporter": "python",
   "pygments_lexer": "ipython3",
   "version": "3.8.5"
  }
 },
 "nbformat": 4,
 "nbformat_minor": 5
}
