{
 "cells": [
  {
   "cell_type": "markdown",
   "id": "412fbf0d",
   "metadata": {},
   "source": [
    "# Oddstradamus\n",
    "### Good odds and where to find them"
   ]
  },
  {
   "cell_type": "markdown",
   "id": "64ad5a7c",
   "metadata": {},
   "source": [
    "### Model Preprocessing"
   ]
  },
  {
   "cell_type": "markdown",
   "id": "fd984c04",
   "metadata": {},
   "source": [
    "In order to gain an overview of which features are ultimately used for model building after the EDA, each feature is first listed and described. Then the split of the training and test data is carried out for all 6 data sets."
   ]
  },
  {
   "cell_type": "markdown",
   "id": "dc777693",
   "metadata": {},
   "source": [
    "#### Model Features"
   ]
  },
  {
   "cell_type": "markdown",
   "id": "9ee033bc",
   "metadata": {},
   "source": [
    "| Feature | Description |\n",
    "| - | - |\n",
    "| `AvgHome` | Average Odd Home Win |\n",
    "| `AvgDraw` | Average Odd Draw |\n",
    "| `AvgAway` | Average Odd Away Win |\n",
    "| `MaxHome` | Maximum Odd Home Win |\n",
    "| `MaxDraw` | Maximum Odd Draw |\n",
    "| `MaxAway` | Maximum Odd Away Win |\n",
    "| `GoalsHome_before` | Number of goals home team scored at the start of the match (in home matches) |\n",
    "| `GoalsAway_before` | Number of goals away team scored at the start of the match (in away matches) |\n",
    "| `Home_Goals_Conceded_before` | Number of goals home team conceded at the start of the match (in Home matches) |\n",
    "| `Away_Goals_Conceded_before` | Number of goals home team conceded at the start of the match (in Away matches) |\n",
    "| `TotalGoals_Home_before` | Total number of goals in home matches |\n",
    "| `TotalGoals_Away_before` | Total number of goals in away matches |\n",
    "| `ShotsHome_before` | Number of shots home team scored at the start of the match |\n",
    "| `ShotsAway_before` | Number of shots away team scored at the start of the match |\n",
    "| `Home_Shots_Conceded_before` | Number of shots home team conceded at the start of the match |\n",
    "| `Away_Shots_Conceded_before` | Number of shots away team conceded at the start of the match |\n",
    "| `TotalShots_Home_before` | Total number of shots in home matches |\n",
    "| `TotalShots_Away_before` | Total number of shots in away matches |\n",
    "| `SOTHome_before` | Number of shots on target home team scored at the start of the match |\n",
    "| `SOTAway_before` | Number of shots on target away team scored at the start of the match |\n",
    "| `Home_SOT_Conceded_before` | Number of shots home team conceded at the start of the match |\n",
    "| `Away_SOT_Conceded_before` | Number of shots away team conceded at the start of the match |\n",
    "| `TotalSOT_Home_before` | Total number of shots on target in home matches |\n",
    "| `TotalSOT_Away_before` | Total number of shots on target in home matches |\n",
    "| `CornersHome_before` | Number of corners home team scored at the start of the match |\n",
    "| `CornersAway_before` | Number of corners away team scored at the start of the match |\n",
    "| `Home_Corners_Conceded_before` | Number of corners home team conceded at the start of the match |\n",
    "| `Away_Corners_Conceded_before` | Number of corners away team conceded at the start of the match |\n",
    "| `TotalCorners_Home_before` | Total number of corners in home matches |\n",
    "| `TotalCorners_Away_before` | Total number of corners in away matches |\n",
    "| `home_wins_season` | Number of home wins in the season (Home team) |\n",
    "| `home_draws_season` | Number of home draws in the season (Home team) |\n",
    "| `home_loses_season` | Number of home loses in the season (Home team) |\n",
    "| `away_wins_season` | Number of home wins in the season (Away team) |\n",
    "| `away_draws_season` | Number of home draws in the season (Away team) |\n",
    "| `away_loses_season` | Number of home losess in the season (Away team) |\n",
    "| `home_points` | Number of points scored in home matches (Home team) |\n",
    "| `away_points` | Number of points scored in home matches (Away team) |\n",
    "| `homewin_avg_odd` | Average win odd of the home team |\n",
    "| `homedraw_avg_odd` | Average draw odd of the home team |\n",
    "| `homelose_avg_odd` | Average lose odd of the home team |\n",
    "| `awaywin_avg_odd` | Average win odd of the away team |\n",
    "| `awaydraw_avg_odd` | Average draw odd of the away team |\n",
    "| `awaylose_avg_odd` | Average lose odd of the away team |\n",
    "| `homewin_avg_odd_season` | Average win odd of the home team per season |\n",
    "| `homedraw_avg_odd_season` | Average draw odd of the home team per season |\n",
    "| `homelose_avg_odd_season` | Average lose odd of the home team per season |\n",
    "| `awaywin_avg_odd_season` | Average win odd of the away team per season |\n",
    "| `awaydraw_avg_odd_season`| Average draw odd of the away team per season |\n",
    "| `awaylose_avg_odd_season` | Average lose odd of the away team per season |\n",
    "| `home_prev_win_all` | Average win odd of the home team if the home win occurs |\n",
    "| `home_prev_draw_all` | Average draw odd of the home team if the draw occurs |\n",
    "| `home_prev_lose_all` | Average lose odd of the home team if the home lose occurs|\n",
    "| `away_prev_win_all` | Average win odd of the away team if the away win occurs |\n",
    "| `away_prev_draw_all` | Average draw odd of the away team if the draw occurs |\n",
    "| `away_prev_lose_all` | Average lose odd of the away team if the away lose occurs |\n",
    "| `home_prev_win_season` | Average win odd of the home team if the home win occurs per season |\n",
    "| `home_prev_draw_season` | Average draw odd of the home team if the draw occurs per season  |\n",
    "| `home_prev_lose_season` | Average lose odd of the home team if the home lose occurs per season |\n",
    "| `away_prev_win_season` | Average win odd of the away team if the away win occurs per season |\n",
    "| `away_prev_draw_season` | Average draw odd of the away team if the draw occurs per season |\n",
    "| `away_prev_lose_season` | Average lose odd of the away team if the away lose occurs per season |\n",
    "| `team_diff_goals_home_before` | Team-specific goal difference in home matches |\n",
    "| `team_diff_shots_home_before` | Team-specific shot difference in home matches |\n",
    "| `team_diff_SOT_home_before` | Team-specific shots on target difference in home matches |\n",
    "| `team_diff_corners_home_before` | Team-specific corner difference in home matches |\n",
    "| `team_diff_goals_away_before` | Team-specific goal difference in away matches |\n",
    "| `team_diff_shots_away_before` | Team-specific shot difference in away matches |\n",
    "| `team_diff_SOT_away_before` | Team-specific shots on target difference in away matches |\n",
    "| `team_diff_corners_away_before` | Team-specific corner difference in away matches |\n",
    "| `cross_diff_goals_before` | Match Rating: Goal difference of home team in home matches and away team in away matches |\n",
    "| `cross_diff_shots_before` | Match Rating: Shot difference of home team in home matches and away team in away matches |\n",
    "| `cross_diff_SOT_before` | Match Rating: Shots on target difference of home team in home matches and away team in away matches |\n",
    "| `cross_diff_corners_before`| Match Rating: Corners difference of home team in home matches and away team in away matches |\n",
    "| `cross_goal_home` | Match Rating: Difference between goals scored by home team in home matches and goals conceded by away team in away matches |\n",
    "| `cross_shots_home` | Match Rating: Difference between shots scored by home team in home matches and shots conceded by away team in away matches |\n",
    "| `cross_SOT_home` | Difference between shots on target scored by home team in home matches and shots on target conceded by away team in away matches |\n",
    "| `cross_corners_home` | Difference between corners scored by home team in home matches and corners conceded by away team in away matches |\n",
    "| `cross_goal_away` | Match Rating: Difference between goals scored by away team in away matches and goals conceded by home team in home matches |\n",
    "| `cross_shots_away` | Match Rating: Difference between shots scored by away team in away matches and shots conceded by home team in home matches |\n",
    "| `cross_SOT_away` | Match Rating: Difference between shots on target scored by away team in away matches and shots on target conceded by home team in home matches |\n",
    "| `cross_corners_away` | Match Rating: Difference between corners scored by away team in away matches and corners conceded by home team in home matches |\n",
    "| `cross_diff_goals_Conceded_before` | Match Rating: Difference between goals conceded by home team in home matches and goals conceded by away team in away matches |\n",
    "| `cross_diff_shots_Conceded_before` | Match Rating: Difference between shots conceded by home team in home matches and shots conceded by away team in away matches |\n",
    "| `cross_diff_SOT_Conceded_before` | Match Rating: Difference between shots on target conceded by home team in home matches and shots on target conceded by away team in away matches |\n",
    "| `cross_diff_corners_Conceded_before` | Match Rating: Difference between corners conceded by home team in home matches and corners conceded by away team in away matches |\n",
    "| `two_way_h_odd` | Two-way-result (1 = Home win, X2 = draw or away win) TARGET IN HOME DATA SETS |\n",
    "| `two_way_a_odd` | Two-way-result (2 = Away win, 1X = home win or draw) TARGET IN AWAY DATA SETS |\n",
    "| `dc_away` | odd for X2-result (only in home data sets) |\n",
    "| `dc_home` | odd for 1X-result (only in away data sets) |\n",
    "| `diff_exp_val_home` | Difference between home win odd and average home win odd if home win occurs |\n",
    "| `diff_exp_val_away` | Difference between away win odd and average home win odd if away win occurs |\n",
    "| `cross_diff_points_before`| Match Rating: Difference between home points of the home team and away points of the away team |\n",
    "| `Div_` | Total 21 dummie-variables. One for each Division |\n",
    "| `Season_` | Total 7 dummie-variables. One for each Season |"
   ]
  },
  {
   "cell_type": "markdown",
   "id": "b2b193ea",
   "metadata": {},
   "source": [
    "#### Train-Test-Split"
   ]
  },
  {
   "cell_type": "code",
   "execution_count": 1,
   "id": "aa4f31e0",
   "metadata": {},
   "outputs": [],
   "source": [
    "# import packages\n",
    "import pandas as pd\n",
    "import numpy as np\n",
    "from sklearn.model_selection import train_test_split"
   ]
  },
  {
   "cell_type": "markdown",
   "id": "3415e0fc",
   "metadata": {},
   "source": [
    "##### 50%-Dataframe"
   ]
  },
  {
   "cell_type": "code",
   "execution_count": 2,
   "id": "0d9927c3",
   "metadata": {},
   "outputs": [],
   "source": [
    "# loading the modified dataframes\n",
    "df_h = pd.read_csv('Data/model_home.csv')\n",
    "df_a = pd.read_csv('Data/model_away.csv');"
   ]
  },
  {
   "cell_type": "code",
   "execution_count": 13,
   "id": "2634d804",
   "metadata": {},
   "outputs": [],
   "source": [
    "# assign features and target\n",
    "X_h = df_h.drop('two_way_h_odd', axis=1)\n",
    "y_h = df_h.two_way_h_odd"
   ]
  },
  {
   "cell_type": "code",
   "execution_count": 14,
   "id": "9559075c",
   "metadata": {},
   "outputs": [],
   "source": [
    "# split the dataset\n",
    "X_train_h, X_test_h, y_train_h, y_test_h = train_test_split(X_h, y_h, test_size=0.3, random_state=42, stratify = y_h)"
   ]
  },
  {
   "cell_type": "code",
   "execution_count": 15,
   "id": "315277c8",
   "metadata": {},
   "outputs": [],
   "source": [
    "# save the training and test sets\n",
    "X_train_h.to_csv('Data/model_home_csv/X_train_home_50.csv', index = False)\n",
    "X_test_h.to_csv('Data/model_home_csv/X_test_home_50.csv', index = False)\n",
    "y_train_h.to_csv('Data/model_home_csv/y_train_home_50.csv', index = False)\n",
    "y_test_h.to_csv('Data/model_home_csv/y_test_home_50.csv', index = False)"
   ]
  },
  {
   "cell_type": "code",
   "execution_count": 16,
   "id": "e44b9a93",
   "metadata": {},
   "outputs": [],
   "source": [
    "# assign features and target\n",
    "X_a = df_a.drop('two_way_a_odd', axis=1)\n",
    "y_a = df_a.two_way_a_odd"
   ]
  },
  {
   "cell_type": "code",
   "execution_count": 17,
   "id": "65af8fda",
   "metadata": {},
   "outputs": [],
   "source": [
    "# split the dataset\n",
    "X_train_a, X_test_a, y_train_a, y_test_a = train_test_split(X_a, y_a, test_size=0.3, random_state=36, stratify = y_a)"
   ]
  },
  {
   "cell_type": "code",
   "execution_count": 18,
   "id": "b4cd7bf2",
   "metadata": {},
   "outputs": [],
   "source": [
    "# save the training and test sets\n",
    "X_train_a.to_csv('Data/model_away_csv/X_train_away_50.csv', index = False)\n",
    "X_test_a.to_csv('Data/model_away_csv/X_test_away_50.csv', index = False)\n",
    "y_train_a.to_csv('Data/model_away_csv/y_train_away_50.csv', index = False)\n",
    "y_test_a.to_csv('Data/model_away_csv/y_test_away_50.csv', index = False)"
   ]
  },
  {
   "cell_type": "markdown",
   "id": "31d0f4c0",
   "metadata": {},
   "source": [
    "##### Favorite-Dataframe"
   ]
  },
  {
   "cell_type": "code",
   "execution_count": 24,
   "id": "6095789a",
   "metadata": {},
   "outputs": [],
   "source": [
    "# loading the modified dataframes\n",
    "df_h_fav = pd.read_csv('Data/model_home_fav.csv')\n",
    "df_a_fav = pd.read_csv('Data/model_away_fav.csv')"
   ]
  },
  {
   "cell_type": "code",
   "execution_count": 25,
   "id": "8f18bd0a",
   "metadata": {},
   "outputs": [],
   "source": [
    "# assign features and target\n",
    "X_h_fav = df_h_fav.drop('two_way_h_odd', axis=1)\n",
    "y_h_fav = df_h_fav.two_way_h_odd"
   ]
  },
  {
   "cell_type": "code",
   "execution_count": 26,
   "id": "fb0c0551",
   "metadata": {},
   "outputs": [],
   "source": [
    "# split the dataset\n",
    "X_train_h_fav, X_test_h_fav, y_train_h_fav, y_test_h_fav = train_test_split(X_h_fav, y_h_fav, test_size=0.3, random_state=42, stratify = y_h_fav)"
   ]
  },
  {
   "cell_type": "code",
   "execution_count": 27,
   "id": "b0a8df9f",
   "metadata": {},
   "outputs": [],
   "source": [
    "# save the training and test sets\n",
    "X_train_h_fav.to_csv('Data/model_home_csv/X_train_home_fav.csv', index = False)\n",
    "X_test_h_fav.to_csv('Data/model_home_csv/X_test_home_fav.csv', index = False)\n",
    "y_train_h_fav.to_csv('Data/model_home_csv/y_train_home_fav.csv', index = False)\n",
    "y_test_h_fav.to_csv('Data/model_home_csv/y_test_home_fav.csv', index = False)"
   ]
  },
  {
   "cell_type": "code",
   "execution_count": 28,
   "id": "1d6c6d2b",
   "metadata": {},
   "outputs": [],
   "source": [
    "# assign features and target\n",
    "X_a_fav = df_a_fav.drop('two_way_a_odd', axis=1)\n",
    "y_a_fav = df_a_fav.two_way_a_odd"
   ]
  },
  {
   "cell_type": "code",
   "execution_count": 29,
   "id": "65f4470b",
   "metadata": {},
   "outputs": [],
   "source": [
    "# split the dataset\n",
    "X_train_a_fav, X_test_a_fav, y_train_a_fav, y_test_a_fav = train_test_split(X_a_fav, y_a_fav, test_size=0.3, random_state=42, stratify = y_a_fav)"
   ]
  },
  {
   "cell_type": "code",
   "execution_count": 30,
   "id": "b7937cb6",
   "metadata": {},
   "outputs": [],
   "source": [
    "# save the training and test sets\n",
    "X_train_a_fav.to_csv('Data/model_away_csv/X_train_away_fav.csv', index = False)\n",
    "X_test_a_fav.to_csv('Data/model_away_csv/X_test_away_fav.csv', index = False)\n",
    "y_train_a_fav.to_csv('Data/model_away_csv/y_train_away_fav.csv', index = False)\n",
    "y_test_a_fav.to_csv('Data/model_away_csv/y_test_away_fav.csv', index = False)"
   ]
  },
  {
   "cell_type": "markdown",
   "id": "86a2bf04",
   "metadata": {},
   "source": [
    "##### Full-Dataframe"
   ]
  },
  {
   "cell_type": "code",
   "execution_count": 3,
   "id": "a7aedeb3",
   "metadata": {},
   "outputs": [],
   "source": [
    "# loading the modified dataframe\n",
    "df_full = pd.read_csv('Data/model_full.csv')"
   ]
  },
  {
   "cell_type": "code",
   "execution_count": 4,
   "id": "ecc4d143",
   "metadata": {},
   "outputs": [],
   "source": [
    "# assign features and target\n",
    "X_h_full = df_full.drop(['two_way_h_odd','two_way_a_odd'], axis=1)\n",
    "y_h_full = df_full.two_way_h_odd"
   ]
  },
  {
   "cell_type": "code",
   "execution_count": 5,
   "id": "e89f0626",
   "metadata": {},
   "outputs": [],
   "source": [
    "# split the dataset\n",
    "X_train_h_full, X_test_h_full, y_train_h_full, y_test_h_full = train_test_split(X_h_full, y_h_full, test_size=0.3, random_state=42, stratify = y_h_full)"
   ]
  },
  {
   "cell_type": "code",
   "execution_count": 6,
   "id": "f40f9212",
   "metadata": {},
   "outputs": [],
   "source": [
    "# save the training and test sets\n",
    "X_train_h_full.to_csv('Data/model_home_csv/X_train_home_full.csv', index = False)\n",
    "X_test_h_full.to_csv('Data/model_home_csv/X_test_home_full.csv', index = False)\n",
    "y_train_h_full.to_csv('Data/model_home_csv/y_train_home_full.csv', index = False)\n",
    "y_test_h_full.to_csv('Data/model_home_csv/y_test_home_full.csv', index = False)"
   ]
  },
  {
   "cell_type": "code",
   "execution_count": 7,
   "id": "7742c0fb",
   "metadata": {},
   "outputs": [],
   "source": [
    "# assign features and target\n",
    "X_a_full = df_full.drop(['two_way_h_odd','two_way_a_odd'], axis=1)\n",
    "y_a_full = df_full.two_way_a_odd"
   ]
  },
  {
   "cell_type": "code",
   "execution_count": 8,
   "id": "0c491e1c",
   "metadata": {},
   "outputs": [],
   "source": [
    "# split the dataset\n",
    "X_train_a_full, X_test_a_full, y_train_a_full, y_test_a_full = train_test_split(X_a_full, y_a_full, test_size=0.3, random_state=42, stratify = y_a_full)"
   ]
  },
  {
   "cell_type": "code",
   "execution_count": 19,
   "id": "a47538d2",
   "metadata": {},
   "outputs": [],
   "source": [
    "# save the training and test sets\n",
    "X_train_a_full.to_csv('Data/model_away_csv/X_train_away_full.csv', index = False)\n",
    "X_test_a_full.to_csv('Data/model_away_csv/X_test_away_full.csv', index = False)\n",
    "y_train_a_full.to_csv('Data/model_away_csv/y_train_away_full.csv', index = False)\n",
    "y_test_a_full.to_csv('Data/model_away_csv/y_test_away_full.csv', index = False)"
   ]
  }
 ],
 "metadata": {
  "kernelspec": {
   "display_name": "Python 3",
   "language": "python",
   "name": "python3"
  },
  "language_info": {
   "codemirror_mode": {
    "name": "ipython",
    "version": 3
   },
   "file_extension": ".py",
   "mimetype": "text/x-python",
   "name": "python",
   "nbconvert_exporter": "python",
   "pygments_lexer": "ipython3",
   "version": "3.8.5"
  }
 },
 "nbformat": 4,
 "nbformat_minor": 5
}
