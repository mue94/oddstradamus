{
 "cells": [
  {
   "cell_type": "markdown",
   "id": "e01657cc",
   "metadata": {},
   "source": [
    "# Oddstradamus\n",
    "### Good odds and where to find them"
   ]
  },
  {
   "cell_type": "markdown",
   "id": "e1d3f5a1",
   "metadata": {},
   "source": [
    "### Data Processing"
   ]
  },
  {
   "cell_type": "markdown",
   "id": "7352efdd",
   "metadata": {},
   "source": [
    "As already mentioned in the introduction, one of the biggest parts of this project is the processing of the historical game data into useful data that can be used for prediction. In order to realise this, a large number of features and auxiliary features were created, then tailored to the EDA and the model building and stored accordingly for further use. The corresponding procedure is described in this notebook."
   ]
  },
  {
   "cell_type": "code",
   "execution_count": 1,
   "id": "e81bc7a2",
   "metadata": {},
   "outputs": [],
   "source": [
    "#import packages\n",
    "import pandas as pd\n",
    "import numpy as np\n",
    "import warnings\n",
    "warnings.filterwarnings('ignore')"
   ]
  },
  {
   "cell_type": "markdown",
   "id": "aa0f05b8",
   "metadata": {},
   "source": [
    "First, the merged data set is read in and those columns are filtered which are to be classified as usable."
   ]
  },
  {
   "cell_type": "code",
   "execution_count": 2,
   "id": "c0f87a9a",
   "metadata": {},
   "outputs": [],
   "source": [
    "# loading the merged dataframe\n",
    "df = pd.read_csv('Data/Results2013_2021.csv')"
   ]
  },
  {
   "cell_type": "code",
   "execution_count": 3,
   "id": "60d36c2d",
   "metadata": {},
   "outputs": [
    {
     "data": {
      "text/html": [
       "<div>\n",
       "<style scoped>\n",
       "    .dataframe tbody tr th:only-of-type {\n",
       "        vertical-align: middle;\n",
       "    }\n",
       "\n",
       "    .dataframe tbody tr th {\n",
       "        vertical-align: top;\n",
       "    }\n",
       "\n",
       "    .dataframe thead th {\n",
       "        text-align: right;\n",
       "    }\n",
       "</style>\n",
       "<table border=\"1\" class=\"dataframe\">\n",
       "  <thead>\n",
       "    <tr style=\"text-align: right;\">\n",
       "      <th></th>\n",
       "      <th>Div</th>\n",
       "      <th>Season</th>\n",
       "      <th>HomeTeam</th>\n",
       "      <th>AwayTeam</th>\n",
       "      <th>FTHG</th>\n",
       "      <th>FTAG</th>\n",
       "      <th>FTR</th>\n",
       "      <th>HS</th>\n",
       "      <th>AS</th>\n",
       "      <th>HST</th>\n",
       "      <th>...</th>\n",
       "      <th>B365A</th>\n",
       "      <th>BWH</th>\n",
       "      <th>BWD</th>\n",
       "      <th>BWA</th>\n",
       "      <th>IWH</th>\n",
       "      <th>IWD</th>\n",
       "      <th>IWA</th>\n",
       "      <th>WHH</th>\n",
       "      <th>WHD</th>\n",
       "      <th>WHA</th>\n",
       "    </tr>\n",
       "  </thead>\n",
       "  <tbody>\n",
       "    <tr>\n",
       "      <th>0</th>\n",
       "      <td>B1</td>\n",
       "      <td>13/14</td>\n",
       "      <td>Club Brugge</td>\n",
       "      <td>Charleroi</td>\n",
       "      <td>2.0</td>\n",
       "      <td>0.0</td>\n",
       "      <td>H</td>\n",
       "      <td>NaN</td>\n",
       "      <td>NaN</td>\n",
       "      <td>NaN</td>\n",
       "      <td>...</td>\n",
       "      <td>9.00</td>\n",
       "      <td>1.35</td>\n",
       "      <td>4.60</td>\n",
       "      <td>7.00</td>\n",
       "      <td>1.30</td>\n",
       "      <td>4.40</td>\n",
       "      <td>8.5</td>\n",
       "      <td>1.30</td>\n",
       "      <td>5.0</td>\n",
       "      <td>9.00</td>\n",
       "    </tr>\n",
       "    <tr>\n",
       "      <th>1</th>\n",
       "      <td>B1</td>\n",
       "      <td>13/14</td>\n",
       "      <td>Bergen</td>\n",
       "      <td>Cercle Brugge</td>\n",
       "      <td>1.0</td>\n",
       "      <td>1.0</td>\n",
       "      <td>D</td>\n",
       "      <td>NaN</td>\n",
       "      <td>NaN</td>\n",
       "      <td>NaN</td>\n",
       "      <td>...</td>\n",
       "      <td>4.20</td>\n",
       "      <td>1.90</td>\n",
       "      <td>3.60</td>\n",
       "      <td>3.40</td>\n",
       "      <td>1.90</td>\n",
       "      <td>3.30</td>\n",
       "      <td>3.5</td>\n",
       "      <td>1.91</td>\n",
       "      <td>3.3</td>\n",
       "      <td>3.80</td>\n",
       "    </tr>\n",
       "    <tr>\n",
       "      <th>2</th>\n",
       "      <td>B1</td>\n",
       "      <td>13/14</td>\n",
       "      <td>Genk</td>\n",
       "      <td>Oostende</td>\n",
       "      <td>3.0</td>\n",
       "      <td>0.0</td>\n",
       "      <td>H</td>\n",
       "      <td>NaN</td>\n",
       "      <td>NaN</td>\n",
       "      <td>NaN</td>\n",
       "      <td>...</td>\n",
       "      <td>6.00</td>\n",
       "      <td>1.40</td>\n",
       "      <td>4.40</td>\n",
       "      <td>6.25</td>\n",
       "      <td>1.40</td>\n",
       "      <td>4.00</td>\n",
       "      <td>6.5</td>\n",
       "      <td>1.50</td>\n",
       "      <td>4.2</td>\n",
       "      <td>5.50</td>\n",
       "    </tr>\n",
       "    <tr>\n",
       "      <th>3</th>\n",
       "      <td>B1</td>\n",
       "      <td>13/14</td>\n",
       "      <td>Kortrijk</td>\n",
       "      <td>Oud-Heverlee Leuven</td>\n",
       "      <td>1.0</td>\n",
       "      <td>0.0</td>\n",
       "      <td>H</td>\n",
       "      <td>NaN</td>\n",
       "      <td>NaN</td>\n",
       "      <td>NaN</td>\n",
       "      <td>...</td>\n",
       "      <td>3.80</td>\n",
       "      <td>1.80</td>\n",
       "      <td>3.40</td>\n",
       "      <td>4.00</td>\n",
       "      <td>1.90</td>\n",
       "      <td>3.20</td>\n",
       "      <td>3.6</td>\n",
       "      <td>1.91</td>\n",
       "      <td>3.3</td>\n",
       "      <td>3.80</td>\n",
       "    </tr>\n",
       "    <tr>\n",
       "      <th>4</th>\n",
       "      <td>B1</td>\n",
       "      <td>13/14</td>\n",
       "      <td>Lierse</td>\n",
       "      <td>Waregem</td>\n",
       "      <td>1.0</td>\n",
       "      <td>2.0</td>\n",
       "      <td>A</td>\n",
       "      <td>NaN</td>\n",
       "      <td>NaN</td>\n",
       "      <td>NaN</td>\n",
       "      <td>...</td>\n",
       "      <td>2.30</td>\n",
       "      <td>3.00</td>\n",
       "      <td>3.40</td>\n",
       "      <td>2.10</td>\n",
       "      <td>3.00</td>\n",
       "      <td>3.10</td>\n",
       "      <td>2.2</td>\n",
       "      <td>3.00</td>\n",
       "      <td>3.1</td>\n",
       "      <td>2.15</td>\n",
       "    </tr>\n",
       "    <tr>\n",
       "      <th>...</th>\n",
       "      <td>...</td>\n",
       "      <td>...</td>\n",
       "      <td>...</td>\n",
       "      <td>...</td>\n",
       "      <td>...</td>\n",
       "      <td>...</td>\n",
       "      <td>...</td>\n",
       "      <td>...</td>\n",
       "      <td>...</td>\n",
       "      <td>...</td>\n",
       "      <td>...</td>\n",
       "      <td>...</td>\n",
       "      <td>...</td>\n",
       "      <td>...</td>\n",
       "      <td>...</td>\n",
       "      <td>...</td>\n",
       "      <td>...</td>\n",
       "      <td>...</td>\n",
       "      <td>...</td>\n",
       "      <td>...</td>\n",
       "      <td>...</td>\n",
       "    </tr>\n",
       "    <tr>\n",
       "      <th>59410</th>\n",
       "      <td>T1</td>\n",
       "      <td>20/21</td>\n",
       "      <td>Ankaragucu</td>\n",
       "      <td>Goztep</td>\n",
       "      <td>3.0</td>\n",
       "      <td>0.0</td>\n",
       "      <td>H</td>\n",
       "      <td>17.0</td>\n",
       "      <td>8.0</td>\n",
       "      <td>9.0</td>\n",
       "      <td>...</td>\n",
       "      <td>2.25</td>\n",
       "      <td>2.65</td>\n",
       "      <td>3.50</td>\n",
       "      <td>2.45</td>\n",
       "      <td>2.85</td>\n",
       "      <td>3.45</td>\n",
       "      <td>2.4</td>\n",
       "      <td>2.80</td>\n",
       "      <td>3.3</td>\n",
       "      <td>2.45</td>\n",
       "    </tr>\n",
       "    <tr>\n",
       "      <th>59411</th>\n",
       "      <td>T1</td>\n",
       "      <td>20/21</td>\n",
       "      <td>Erzurum BB</td>\n",
       "      <td>Trabzonspor</td>\n",
       "      <td>0.0</td>\n",
       "      <td>0.0</td>\n",
       "      <td>D</td>\n",
       "      <td>11.0</td>\n",
       "      <td>8.0</td>\n",
       "      <td>3.0</td>\n",
       "      <td>...</td>\n",
       "      <td>2.00</td>\n",
       "      <td>3.50</td>\n",
       "      <td>3.25</td>\n",
       "      <td>2.10</td>\n",
       "      <td>3.70</td>\n",
       "      <td>3.20</td>\n",
       "      <td>2.1</td>\n",
       "      <td>3.75</td>\n",
       "      <td>3.2</td>\n",
       "      <td>2.05</td>\n",
       "    </tr>\n",
       "    <tr>\n",
       "      <th>59412</th>\n",
       "      <td>T1</td>\n",
       "      <td>20/21</td>\n",
       "      <td>Gaziantep</td>\n",
       "      <td>Denizlispor</td>\n",
       "      <td>2.0</td>\n",
       "      <td>0.0</td>\n",
       "      <td>H</td>\n",
       "      <td>14.0</td>\n",
       "      <td>6.0</td>\n",
       "      <td>3.0</td>\n",
       "      <td>...</td>\n",
       "      <td>4.00</td>\n",
       "      <td>1.85</td>\n",
       "      <td>3.50</td>\n",
       "      <td>4.10</td>\n",
       "      <td>1.85</td>\n",
       "      <td>3.55</td>\n",
       "      <td>4.2</td>\n",
       "      <td>1.85</td>\n",
       "      <td>3.4</td>\n",
       "      <td>4.20</td>\n",
       "    </tr>\n",
       "    <tr>\n",
       "      <th>59413</th>\n",
       "      <td>T1</td>\n",
       "      <td>20/21</td>\n",
       "      <td>Fenerbahce</td>\n",
       "      <td>Genclerbirligi</td>\n",
       "      <td>1.0</td>\n",
       "      <td>2.0</td>\n",
       "      <td>A</td>\n",
       "      <td>16.0</td>\n",
       "      <td>7.0</td>\n",
       "      <td>6.0</td>\n",
       "      <td>...</td>\n",
       "      <td>11.00</td>\n",
       "      <td>1.25</td>\n",
       "      <td>5.75</td>\n",
       "      <td>10.50</td>\n",
       "      <td>1.25</td>\n",
       "      <td>6.25</td>\n",
       "      <td>12.0</td>\n",
       "      <td>1.22</td>\n",
       "      <td>5.8</td>\n",
       "      <td>12.00</td>\n",
       "    </tr>\n",
       "    <tr>\n",
       "      <th>59414</th>\n",
       "      <td>T1</td>\n",
       "      <td>20/21</td>\n",
       "      <td>Kasimpasa</td>\n",
       "      <td>Konyaspor</td>\n",
       "      <td>1.0</td>\n",
       "      <td>1.0</td>\n",
       "      <td>D</td>\n",
       "      <td>12.0</td>\n",
       "      <td>7.0</td>\n",
       "      <td>4.0</td>\n",
       "      <td>...</td>\n",
       "      <td>2.90</td>\n",
       "      <td>2.45</td>\n",
       "      <td>2.95</td>\n",
       "      <td>3.10</td>\n",
       "      <td>2.45</td>\n",
       "      <td>3.05</td>\n",
       "      <td>3.1</td>\n",
       "      <td>2.40</td>\n",
       "      <td>3.2</td>\n",
       "      <td>2.90</td>\n",
       "    </tr>\n",
       "  </tbody>\n",
       "</table>\n",
       "<p>59415 rows × 31 columns</p>\n",
       "</div>"
      ],
      "text/plain": [
       "      Div Season     HomeTeam             AwayTeam  FTHG  FTAG FTR    HS   AS  \\\n",
       "0      B1  13/14  Club Brugge            Charleroi   2.0   0.0   H   NaN  NaN   \n",
       "1      B1  13/14       Bergen        Cercle Brugge   1.0   1.0   D   NaN  NaN   \n",
       "2      B1  13/14         Genk             Oostende   3.0   0.0   H   NaN  NaN   \n",
       "3      B1  13/14     Kortrijk  Oud-Heverlee Leuven   1.0   0.0   H   NaN  NaN   \n",
       "4      B1  13/14       Lierse              Waregem   1.0   2.0   A   NaN  NaN   \n",
       "...    ..    ...          ...                  ...   ...   ...  ..   ...  ...   \n",
       "59410  T1  20/21   Ankaragucu               Goztep   3.0   0.0   H  17.0  8.0   \n",
       "59411  T1  20/21   Erzurum BB          Trabzonspor   0.0   0.0   D  11.0  8.0   \n",
       "59412  T1  20/21    Gaziantep          Denizlispor   2.0   0.0   H  14.0  6.0   \n",
       "59413  T1  20/21   Fenerbahce       Genclerbirligi   1.0   2.0   A  16.0  7.0   \n",
       "59414  T1  20/21    Kasimpasa            Konyaspor   1.0   1.0   D  12.0  7.0   \n",
       "\n",
       "       HST  ...  B365A   BWH   BWD    BWA   IWH   IWD   IWA   WHH  WHD    WHA  \n",
       "0      NaN  ...   9.00  1.35  4.60   7.00  1.30  4.40   8.5  1.30  5.0   9.00  \n",
       "1      NaN  ...   4.20  1.90  3.60   3.40  1.90  3.30   3.5  1.91  3.3   3.80  \n",
       "2      NaN  ...   6.00  1.40  4.40   6.25  1.40  4.00   6.5  1.50  4.2   5.50  \n",
       "3      NaN  ...   3.80  1.80  3.40   4.00  1.90  3.20   3.6  1.91  3.3   3.80  \n",
       "4      NaN  ...   2.30  3.00  3.40   2.10  3.00  3.10   2.2  3.00  3.1   2.15  \n",
       "...    ...  ...    ...   ...   ...    ...   ...   ...   ...   ...  ...    ...  \n",
       "59410  9.0  ...   2.25  2.65  3.50   2.45  2.85  3.45   2.4  2.80  3.3   2.45  \n",
       "59411  3.0  ...   2.00  3.50  3.25   2.10  3.70  3.20   2.1  3.75  3.2   2.05  \n",
       "59412  3.0  ...   4.00  1.85  3.50   4.10  1.85  3.55   4.2  1.85  3.4   4.20  \n",
       "59413  6.0  ...  11.00  1.25  5.75  10.50  1.25  6.25  12.0  1.22  5.8  12.00  \n",
       "59414  4.0  ...   2.90  2.45  2.95   3.10  2.45  3.05   3.1  2.40  3.2   2.90  \n",
       "\n",
       "[59415 rows x 31 columns]"
      ]
     },
     "execution_count": 3,
     "metadata": {},
     "output_type": "execute_result"
    }
   ],
   "source": [
    "# selecting the necessary columns of the original data set\n",
    "df = df[['Div', 'Season', 'HomeTeam','AwayTeam', 'FTHG', 'FTAG', 'FTR', 'HS', 'AS', 'HST', 'AST', 'HF', 'AF', 'HC', 'AC', 'HY', 'AY', 'HR', 'AR','B365H','B365D','B365A', 'BWH','BWD','BWA', 'IWH', 'IWD', 'IWA', 'WHH', 'WHD', 'WHA']]\n",
    "df"
   ]
  },
  {
   "cell_type": "markdown",
   "id": "1ff5f163",
   "metadata": {},
   "source": [
    "As can already be seen in the simple output of the dataset, the raw dataset contains some 'NaN' entries. To see how many missing values are involved, we output df.info(). At the same time we get an overview of the respective data types."
   ]
  },
  {
   "cell_type": "code",
   "execution_count": 4,
   "id": "d7462925",
   "metadata": {},
   "outputs": [
    {
     "name": "stdout",
     "output_type": "stream",
     "text": [
      "<class 'pandas.core.frame.DataFrame'>\n",
      "RangeIndex: 59415 entries, 0 to 59414\n",
      "Data columns (total 31 columns):\n",
      " #   Column    Non-Null Count  Dtype  \n",
      "---  ------    --------------  -----  \n",
      " 0   Div       59315 non-null  object \n",
      " 1   Season    59415 non-null  object \n",
      " 2   HomeTeam  59315 non-null  object \n",
      " 3   AwayTeam  59315 non-null  object \n",
      " 4   FTHG      59313 non-null  float64\n",
      " 5   FTAG      59313 non-null  float64\n",
      " 6   FTR       59313 non-null  object \n",
      " 7   HS        42619 non-null  float64\n",
      " 8   AS        42619 non-null  float64\n",
      " 9   HST       42619 non-null  float64\n",
      " 10  AST       42619 non-null  float64\n",
      " 11  HF        41279 non-null  float64\n",
      " 12  AF        41279 non-null  float64\n",
      " 13  HC        42619 non-null  float64\n",
      " 14  AC        42619 non-null  float64\n",
      " 15  HY        45028 non-null  float64\n",
      " 16  AY        45029 non-null  float64\n",
      " 17  HR        45029 non-null  float64\n",
      " 18  AR        45028 non-null  float64\n",
      " 19  B365H     59173 non-null  float64\n",
      " 20  B365D     59173 non-null  float64\n",
      " 21  B365A     59173 non-null  float64\n",
      " 22  BWH       58954 non-null  float64\n",
      " 23  BWD       58954 non-null  float64\n",
      " 24  BWA       58954 non-null  float64\n",
      " 25  IWH       58911 non-null  float64\n",
      " 26  IWD       58912 non-null  float64\n",
      " 27  IWA       58908 non-null  float64\n",
      " 28  WHH       59004 non-null  float64\n",
      " 29  WHD       59004 non-null  float64\n",
      " 30  WHA       59004 non-null  float64\n",
      "dtypes: float64(26), object(5)\n",
      "memory usage: 14.1+ MB\n"
     ]
    }
   ],
   "source": [
    "# Output the number of missing values and data types\n",
    "df.info()"
   ]
  },
  {
   "cell_type": "markdown",
   "id": "6ff346d5",
   "metadata": {},
   "source": [
    "It can be seen that a large part of the columns are incomplete. Nevertheless, we keep this circumstance for the time being and do not clean the data at this point, as this is needed to generate data for the prediction model from the historical match data. The cleaning will be done at a later date."
   ]
  },
  {
   "cell_type": "code",
   "execution_count": 5,
   "id": "e71f88ab",
   "metadata": {},
   "outputs": [
    {
     "data": {
      "text/plain": [
       "(59415, 31)"
      ]
     },
     "execution_count": 5,
     "metadata": {},
     "output_type": "execute_result"
    }
   ],
   "source": [
    "# shape of the data set before feature engineering\n",
    "df.shape"
   ]
  },
  {
   "cell_type": "markdown",
   "id": "5a73d4f6",
   "metadata": {},
   "source": [
    "### Feature Engineering 1.0"
   ]
  },
  {
   "cell_type": "markdown",
   "id": "6babc027",
   "metadata": {},
   "source": [
    "In order to generate additional match data, the number of goals, shots, goal kicks and corners (hereinafter referred to simply as events) per match is determined. Furthermore, the average odd is calculated on the basis of the available odds of the bookmakers for simplification purposes. In addition, the maximum odds of all bookmakers are recorded. This will become relevant at a later date for the formation of the long-term strategy."
   ]
  },
  {
   "cell_type": "code",
   "execution_count": 6,
   "id": "0e1ae303",
   "metadata": {},
   "outputs": [],
   "source": [
    "# total number of the specific event in the game\n",
    "df['total_goals'] = df['FTHG'] + df['FTAG']\n",
    "df['total_shots'] = df['HS'] + df['AS']\n",
    "df['total_sot'] = df['HST'] + df['AST']\n",
    "df['total_corners'] = df['HC'] + df['AC']"
   ]
  },
  {
   "cell_type": "code",
   "execution_count": 7,
   "id": "754ec4c5",
   "metadata": {},
   "outputs": [],
   "source": [
    "# average odds per game\n",
    "df['AvgHome'] = (df['B365H'] + df['BWH'] + df['IWH'] + df['WHH']) / 4\n",
    "df['AvgDraw'] = (df['B365D'] + df['BWD'] + df['IWD'] + df['WHD']) / 4\n",
    "df['AvgAway'] = (df['B365A'] + df['BWA'] + df['IWA'] + df['WHA']) / 4"
   ]
  },
  {
   "cell_type": "code",
   "execution_count": 8,
   "id": "82fd1b5a",
   "metadata": {},
   "outputs": [],
   "source": [
    "# highest odds per game\n",
    "df['MaxHome'] = df[['B365H','BWH','IWH','WHH']].max(axis=1)\n",
    "df['MaxDraw'] = df[['B365D','BWD','IWD','WHD']].max(axis=1)\n",
    "df['MaxAway'] = df[['B365A','BWA','IWA','WHA']].max(axis=1)"
   ]
  },
  {
   "cell_type": "markdown",
   "id": "fd62d194",
   "metadata": {},
   "source": [
    "First of all, the number of events per season is cumulated for each team. In this way, useful information from past matches can be collected for each team. Since the number of events of the corresponding match is subtracted for each match, only data that is known at the start of the match is available."
   ]
  },
  {
   "cell_type": "code",
   "execution_count": 9,
   "id": "caa43ed6",
   "metadata": {},
   "outputs": [],
   "source": [
    "# cumulative number of goals\n",
    "df['GoalsHome'] = df.groupby([\"HomeTeam\",\"Season\"])['FTHG'].cumsum()\n",
    "df['GoalsAway'] = df.groupby([\"AwayTeam\",\"Season\"])['FTAG'].cumsum()\n",
    "# known number of goals before the start of the match \n",
    "df['GoalsHome_before'] = df['GoalsHome'] - df['FTHG']\n",
    "df['GoalsAway_before'] = df['GoalsAway'] - df['FTAG']\n",
    "# cumulative number of goals conceded\n",
    "df['Home_Goals_Conceded'] = df.groupby(['HomeTeam',\"Season\"])['FTAG'].cumsum()\n",
    "df['Away_Goals_Conceded'] = df.groupby(['AwayTeam',\"Season\"])['FTHG'].cumsum()\n",
    "# known number of goals conceded before the start of a match\n",
    "df['Home_Goals_Conceded_before'] = df['Home_Goals_Conceded'] - df['FTAG']\n",
    "df['Away_Goals_Conceded_before'] = df['Away_Goals_Conceded'] - df['FTHG']\n",
    "\n",
    "# cumulative total number of goals in the match\n",
    "df['TotalGoals_Home'] = df.groupby(['HomeTeam',\"Season\"])['total_goals'].cumsum()\n",
    "df['TotalGoals_Away'] = df.groupby(['AwayTeam',\"Season\"])['total_goals'].cumsum()\n",
    "# known total number of goals in the match before the start of a match\n",
    "df['TotalGoals_Home_before'] = df['TotalGoals_Home'] - df['total_goals']\n",
    "df['TotalGoals_Away_before'] = df['TotalGoals_Away'] - df['total_goals']\n",
    "\n",
    "\n",
    "# cumulative number of shots\n",
    "df['ShotsHome'] = df.groupby([\"HomeTeam\",\"Season\"])['HS'].cumsum()\n",
    "df['ShotsAway'] = df.groupby([\"AwayTeam\",\"Season\"])['AS'].cumsum()\n",
    "# known number of shots before the start of the match \n",
    "df['ShotsHome_before'] = df['ShotsHome'] - df['HS']\n",
    "df['ShotsAway_before'] = df['ShotsAway'] - df['AS']\n",
    "# cumulative number of shots conceded\n",
    "df['Home_Shots_Conceded'] = df.groupby(['HomeTeam',\"Season\"])['AS'].cumsum()\n",
    "df['Away_Shots_Conceded'] = df.groupby(['AwayTeam',\"Season\"])['HS'].cumsum()\n",
    "# known number of shots conceded before the start of a match\n",
    "df['Home_Shots_Conceded_before'] = df['Home_Shots_Conceded'] - df['AS']\n",
    "df['Away_Shots_Conceded_before'] = df['Away_Shots_Conceded'] - df['HS']\n",
    "\n",
    "# cumulative total number of shots in the match\n",
    "df['TotalShots_Home'] = df.groupby(['HomeTeam',\"Season\"])['total_shots'].cumsum()\n",
    "df['TotalShots_Away'] = df.groupby(['AwayTeam',\"Season\"])['total_shots'].cumsum()\n",
    "# known total number of shots in the match before the start of a match\n",
    "df['TotalShots_Home_before'] = df['TotalShots_Home'] - df['total_shots']\n",
    "df['TotalShots_Away_before'] = df['TotalShots_Away'] - df['total_shots']\n",
    "\n",
    "\n",
    "# cumulative number of shots on target\n",
    "df['SOTHome'] = df.groupby([\"HomeTeam\",\"Season\"])['HST'].cumsum()\n",
    "df['SOTAway'] = df.groupby([\"AwayTeam\",\"Season\"])['AST'].cumsum()\n",
    "# known number of shots on target before the start of the match \n",
    "df['SOTHome_before'] = df['SOTHome'] - df['HST']\n",
    "df['SOTAway_before'] = df['SOTAway'] - df['AST']\n",
    "# cumulative number of shots on target conceded\n",
    "df['Home_SOT_Conceded'] = df.groupby(['HomeTeam',\"Season\"])['AST'].cumsum()\n",
    "df['Away_SOT_Conceded'] = df.groupby(['AwayTeam',\"Season\"])['HST'].cumsum()\n",
    "# known number of shots on target conceded before the start of a match\n",
    "df['Home_SOT_Conceded_before'] = df['Home_SOT_Conceded'] - df['AST']\n",
    "df['Away_SOT_Conceded_before'] = df['Away_SOT_Conceded'] - df['HST']\n",
    "\n",
    "# cumulative total number of shots on target in the match\n",
    "df['TotalSOT_Home'] = df.groupby(['HomeTeam',\"Season\"])['total_sot'].cumsum()\n",
    "df['TotalSOT_Away'] = df.groupby(['AwayTeam',\"Season\"])['total_sot'].cumsum()\n",
    "# known total number of shots on target in the match before the start of a match\n",
    "df['TotalSOT_Home_before'] = df['TotalSOT_Home'] - df['total_sot']\n",
    "df['TotalSOT_Away_before'] = df['TotalSOT_Away'] - df['total_sot']\n",
    "\n",
    "\n",
    "# cumulative number of corners\n",
    "df['CornersHome'] = df.groupby([\"HomeTeam\",\"Season\"])['HC'].cumsum()\n",
    "df['CornersAway'] = df.groupby([\"AwayTeam\",\"Season\"])['AC'].cumsum()\n",
    "# known number of corners before the start of the match \n",
    "df['CornersHome_before'] = df['CornersHome'] - df['HC']\n",
    "df['CornersAway_before'] = df['CornersAway'] - df['AC']\n",
    "# cumulative number of corners conceded\n",
    "df['Home_Corners_Conceded'] = df.groupby(['HomeTeam',\"Season\"])['AC'].cumsum()\n",
    "df['Away_Corners_Conceded'] = df.groupby(['AwayTeam',\"Season\"])['HC'].cumsum()\n",
    "# known number of corners conceded before the start of a match\n",
    "df['Home_Corners_Conceded_before'] = df['Home_Corners_Conceded'] - df['AC']\n",
    "df['Away_Corners_Conceded_before'] = df['Away_Corners_Conceded'] - df['HC']\n",
    "\n",
    "# cumulative total number of corners in the match\n",
    "df['TotalCorners_Home'] = df.groupby(['HomeTeam',\"Season\"])['total_corners'].cumsum()\n",
    "df['TotalCorners_Away'] = df.groupby(['AwayTeam',\"Season\"])['total_corners'].cumsum()\n",
    "# known total number of corners in the match before the start of a match\n",
    "df['TotalCorners_Home_before'] = df['TotalCorners_Home'] - df['total_corners']\n",
    "df['TotalCorners_Away_before'] = df['TotalCorners_Away'] - df['total_corners']"
   ]
  },
  {
   "cell_type": "markdown",
   "id": "e19e2073",
   "metadata": {},
   "source": [
    "In order to be able to form average values per match, the total number of matches as well as the number of matches per season are first determined and then the targeted average values are calculated."
   ]
  },
  {
   "cell_type": "code",
   "execution_count": 10,
   "id": "e0df28f3",
   "metadata": {},
   "outputs": [],
   "source": [
    "# total number of games per team / per season\n",
    "df['game_count_home'] = df.groupby(['HomeTeam'])['FTHG'].cumcount()\n",
    "df['game_count_away'] = df.groupby(['AwayTeam'])['FTAG'].cumcount()\n",
    "df['game_count_home_season'] = df.groupby(['HomeTeam',\"Season\"])['FTHG'].cumcount()\n",
    "df['game_count_away_season'] = df.groupby(['AwayTeam',\"Season\"])['FTAG'].cumcount()"
   ]
  },
  {
   "cell_type": "code",
   "execution_count": 11,
   "id": "e5ed5dfe",
   "metadata": {},
   "outputs": [],
   "source": [
    "# average occurrence of the specific event per team / per season\n",
    "df['goals_avg_home_season'] = df['GoalsHome_before'] / df['game_count_home_season']\n",
    "df['goals_avg_away_season'] = df['GoalsAway_before'] / df['game_count_away_season']\n",
    "df['goals_conceded_avg_home_season'] = df['Home_Goals_Conceded_before'] / df['game_count_home_season']\n",
    "df['goals_conceded_avg_away_season'] = df['Away_Goals_Conceded_before'] / df['game_count_away_season']\n",
    "df['goals_total_avg_home_season'] = df['TotalGoals_Home_before'] / df['game_count_home_season']\n",
    "df['goals_total_avg_away_season'] = df['TotalGoals_Away_before'] / df['game_count_away_season']\n",
    "\n",
    "\n",
    "df['shots_avg_home_season'] = df['ShotsHome_before'] / df['game_count_home_season']\n",
    "df['shots_avg_away_season'] = df['ShotsAway_before'] / df['game_count_away_season']\n",
    "df['shots_conceded_avg_home_season'] = df['Home_Shots_Conceded_before'] / df['game_count_home_season']\n",
    "df['shots_conceded_avg_away_season'] = df['Away_Shots_Conceded_before'] / df['game_count_away_season']\n",
    "df['shots_total_avg_home_season'] = df['TotalShots_Home_before'] / df['game_count_home_season']\n",
    "df['shots_total_avg_away_season'] = df['TotalShots_Away_before'] / df['game_count_away_season']\n",
    "\n",
    "\n",
    "df['sot_avg_home_season'] = df['SOTHome_before'] / df['game_count_home_season']\n",
    "df['sot_avg_away_season'] = df['SOTAway_before'] / df['game_count_away_season']\n",
    "df['sot_conceded_avg_home_season'] = df['Home_SOT_Conceded_before'] / df['game_count_home_season']\n",
    "df['sot_conceded_avg_away_season'] = df['Away_SOT_Conceded_before'] / df['game_count_away_season']\n",
    "df['sot_total_avg_home_season'] = df['TotalSOT_Home_before'] / df['game_count_home_season']\n",
    "df['sot_total_avg_away_season'] = df['TotalSOT_Away_before'] / df['game_count_away_season']\n",
    "\n",
    "\n",
    "df['corners_avg_home_season'] = df['CornersHome_before'] / df['game_count_home_season']\n",
    "df['corners_avg_away_season'] = df['CornersAway_before'] / df['game_count_away_season']\n",
    "df['corners_conceded_avg_home_season'] = df['Home_Corners_Conceded_before'] / df['game_count_home_season']\n",
    "df['corners_conceded_avg_away_season'] = df['Away_Corners_Conceded_before'] / df['game_count_away_season']\n",
    "df['corners_total_avg_home_season'] = df['TotalCorners_Home_before'] / df['game_count_home_season']\n",
    "df['corners_total_avg_away_season'] = df['TotalCorners_Away_before'] / df['game_count_away_season']"
   ]
  },
  {
   "cell_type": "markdown",
   "id": "ba6283b1",
   "metadata": {},
   "source": [
    "In order to be able to determine the number of wins, draws and loses per season, auxiliary features are first created and used to determine the cumulative numbers of events. Furthermore, these features can also be used to determine the cumulative points."
   ]
  },
  {
   "cell_type": "code",
   "execution_count": 12,
   "id": "c996a08c",
   "metadata": {},
   "outputs": [],
   "source": [
    "# auxiliary column to determine the cumulative win / draw / lose number\n",
    "df['WinHome'] = df['FTR'].apply(lambda x: 1 if x == 'H' else 0)\n",
    "df['DrawHome'] = df['FTR'].apply(lambda x: 1 if x == 'D' else 0)\n",
    "df['LoseHome'] = df['FTR'].apply(lambda x: 1 if x == 'A' else 0)\n",
    "\n",
    "df['WinAway'] = df['FTR'].apply(lambda x: 1 if x == 'A' else 0)\n",
    "df['DrawAway'] = df['FTR'].apply(lambda x: 1 if x == 'D' else 0)\n",
    "df['LoseAway'] = df['FTR'].apply(lambda x: 1 if x == 'H' else 0)\n",
    "\n",
    "# cumulative occurrence of the specific event / per season\n",
    "df['Total_wins_home'] = df.groupby(['HomeTeam'])['WinHome'].cumsum()\n",
    "df['Total_draws_home'] = df.groupby(['HomeTeam'])['DrawHome'].cumsum()\n",
    "df['Total_loses_home'] = df.groupby(['HomeTeam'])['LoseHome'].cumsum()\n",
    "df['Total_wins_home_season'] = df.groupby(['HomeTeam', 'Season'])['WinHome'].cumsum()\n",
    "df['home_wins_season'] = df.groupby(['HomeTeam', 'Season'])['Total_wins_home_season'].shift()\n",
    "df['Total_draws_home_season'] = df.groupby(['HomeTeam', 'Season'])['DrawHome'].cumsum()\n",
    "df['home_draws_season'] = df.groupby(['HomeTeam', 'Season'])['Total_draws_home_season'].shift()\n",
    "df['Total_loses_home_season'] = df.groupby(['HomeTeam', 'Season'])['LoseHome'].cumsum()\n",
    "df['home_loses_season'] = df.groupby(['HomeTeam', 'Season'])['Total_loses_home_season'].shift()\n",
    "\n",
    "df['Total_wins_away'] = df.groupby(['AwayTeam'])['WinAway'].cumsum()\n",
    "df['Total_draws_away'] = df.groupby(['AwayTeam'])['DrawAway'].cumsum()\n",
    "df['Total_loses_away'] = df.groupby(['AwayTeam'])['LoseAway'].cumsum()\n",
    "df['Total_wins_away_season'] = df.groupby(['AwayTeam', 'Season'])['WinAway'].cumsum()\n",
    "df['away_wins_season'] = df.groupby(['AwayTeam', 'Season'])['Total_wins_away_season'].shift()\n",
    "df['Total_draws_away_season'] = df.groupby(['AwayTeam', 'Season'])['DrawAway'].cumsum()\n",
    "df['away_draws_season'] = df.groupby(['AwayTeam', 'Season'])['Total_draws_away_season'].shift()\n",
    "df['Total_loses_away_season'] = df.groupby(['AwayTeam', 'Season'])['LoseAway'].cumsum()\n",
    "df['away_loses_season'] = df.groupby(['AwayTeam', 'Season'])['Total_loses_away_season'].shift()\n",
    "\n",
    "# determine the number of points / per season\n",
    "df['home_points'] = (3 * df['home_wins_season']) + df['home_draws_season']\n",
    "df['away_points'] = (3 * df['away_wins_season']) + df['away_draws_season']"
   ]
  },
  {
   "cell_type": "markdown",
   "id": "9edfd2ae",
   "metadata": {},
   "source": [
    "This is followed by the calculation of the cumulative average odds per team per season."
   ]
  },
  {
   "cell_type": "code",
   "execution_count": 13,
   "id": "ed27aee3",
   "metadata": {},
   "outputs": [],
   "source": [
    "# determine the average odd of the specific event per team / per season\n",
    "df['homewin_cum_odd'] = df.groupby(['HomeTeam'])['AvgHome'].cumsum()\n",
    "df['homewin_avg_odd'] = df['homewin_cum_odd'] / (df['game_count_home'] + 1)\n",
    "df['homewin_cum_odd_season'] = df.groupby(['HomeTeam','Season'])['AvgHome'].cumsum()\n",
    "df['homewin_avg_odd_season'] = df['homewin_cum_odd_season'] / (df['game_count_home_season'] + 1)\n",
    "\n",
    "df['homedraw_cum_odd'] = df.groupby(['HomeTeam'])['AvgDraw'].cumsum()\n",
    "df['homedraw_avg_odd'] = df['homedraw_cum_odd'] / (df['game_count_home'] + 1)\n",
    "df['homedraw_cum_odd_season'] = df.groupby(['HomeTeam', 'Season'])['AvgDraw'].cumsum()\n",
    "df['homedraw_avg_odd_season'] = df['homedraw_cum_odd_season'] / (df['game_count_home_season'] + 1)\n",
    "\n",
    "df['homelose_cum_odd'] = df.groupby(['HomeTeam'])['AvgAway'].cumsum()\n",
    "df['homelose_avg_odd'] = df['homelose_cum_odd'] / (df['game_count_home'] + 1)\n",
    "df['homelose_cum_odd_season'] = df.groupby(['HomeTeam', 'Season'])['AvgAway'].cumsum()\n",
    "df['homelose_avg_odd_season'] = df['homelose_cum_odd_season'] / (df['game_count_home_season'] + 1)\n",
    "\n",
    "df['awaywin_cum_odd'] = df.groupby(['AwayTeam'])['AvgAway'].cumsum()\n",
    "df['awaywin_avg_odd'] = df['awaywin_cum_odd'] / (df['game_count_away'] + 1)\n",
    "df['awaywin_cum_odd_season'] = df.groupby(['AwayTeam', 'Season'])['AvgAway'].cumsum()\n",
    "df['awaywin_avg_odd_season'] = df['awaywin_cum_odd_season'] / (df['game_count_away_season'] + 1)\n",
    "\n",
    "df['awaydraw_cum_odd'] = df.groupby(['AwayTeam'])['AvgDraw'].cumsum()\n",
    "df['awaydraw_avg_odd'] = df['awaydraw_cum_odd'] / (df['game_count_away'] + 1)\n",
    "df['awaydraw_cum_odd_season'] = df.groupby(['AwayTeam', 'Season'])['AvgDraw'].cumsum()\n",
    "df['awaydraw_avg_odd_season'] = df['awaydraw_cum_odd_season'] / (df['game_count_away_season'] + 1)\n",
    "\n",
    "df['awaylose_cum_odd'] = df.groupby(['AwayTeam'])['AvgHome'].cumsum()\n",
    "df['awaylose_avg_odd'] = df['awaylose_cum_odd'] / (df['game_count_away'] + 1)\n",
    "df['awaylose_cum_odd_season'] = df.groupby(['AwayTeam', 'Season'])['AvgHome'].cumsum()\n",
    "df['awaylose_avg_odd_season'] = df['awaylose_cum_odd_season'] / (df['game_count_away_season'] + 1)"
   ]
  },
  {
   "cell_type": "markdown",
   "id": "4d18756c",
   "metadata": {},
   "source": [
    "In order to be able to determine the average odds for events that have occurred, auxiliary features are first created on the basis of which the desired values can be calculated. In this context, it is important to note the danger of unintentional data leakage, which can be avoided by postponing the information to the next match of the corresponding team."
   ]
  },
  {
   "cell_type": "code",
   "execution_count": 14,
   "id": "9ea865bb",
   "metadata": {},
   "outputs": [],
   "source": [
    "# determine the odds of the events occurring\n",
    "df['arrived_homewin'] = df['WinHome'] * df['AvgHome']\n",
    "df['arrived_homedraw'] = df['DrawHome'] * df['AvgDraw']\n",
    "df['arrived_homelose'] = df['LoseHome'] * df['AvgAway']\n",
    "\n",
    "df['arrived_awaywin'] = df['WinAway'] * df['AvgAway']\n",
    "df['arrived_awaydraw'] = df['DrawAway'] * df['AvgDraw']\n",
    "df['arrived_awaylose'] = df['LoseAway'] * df['AvgHome']"
   ]
  },
  {
   "cell_type": "code",
   "execution_count": 15,
   "id": "bb523b14",
   "metadata": {},
   "outputs": [],
   "source": [
    "# determine the average odd of occurrence per team / per season\n",
    "# Generate the cumulative average odd per team per season if event occurs\n",
    "df['cum_arr_homewin_odd'] = df.groupby(['HomeTeam'])['arrived_homewin'].cumsum()\n",
    "df['avg_arr_homewin_odd'] = df['cum_arr_homewin_odd'] / df['Total_wins_home']\n",
    "df['home_prev_win_all'] = df.groupby(['HomeTeam'])['avg_arr_homewin_odd'].shift()\n",
    "df['cum_arr_homewin_odd_season'] = df.groupby(['HomeTeam','Season'])['arrived_homewin'].cumsum()\n",
    "df['avg_arr_homewin_odd_season'] = df['cum_arr_homewin_odd_season'] / df['Total_wins_home_season']\n",
    "df['home_prev_win_season'] = df.groupby(['HomeTeam', 'Season'])['avg_arr_homewin_odd_season'].shift()\n",
    "\n",
    "df['cum_arr_homedraw_odd'] = df.groupby(['HomeTeam'])['arrived_homedraw'].cumsum()\n",
    "df['avg_arr_homedraw_odd'] = df['cum_arr_homedraw_odd'] / df['Total_draws_home']\n",
    "df['home_prev_draw_all'] = df.groupby(['HomeTeam'])['avg_arr_homedraw_odd'].shift()\n",
    "df['cum_arr_homedraw_odd_season'] = df.groupby(['HomeTeam','Season'])['arrived_homedraw'].cumsum()\n",
    "df['avg_arr_homedraw_odd_season'] = df['cum_arr_homedraw_odd_season'] / df['Total_draws_home_season']\n",
    "df['home_prev_draw_season'] = df.groupby(['HomeTeam', 'Season'])['avg_arr_homedraw_odd_season'].shift()\n",
    "\n",
    "df['cum_arr_homelose_odd'] = df.groupby(['HomeTeam'])['arrived_homelose'].cumsum()\n",
    "df['avg_arr_homelose_odd'] = df['cum_arr_homelose_odd'] / df['Total_loses_home']\n",
    "df['home_prev_lose_all'] = df.groupby(['HomeTeam'])['avg_arr_homelose_odd'].shift()\n",
    "df['cum_arr_homelose_odd_season'] = df.groupby(['HomeTeam', 'Season'])['arrived_homelose'].cumsum()\n",
    "df['avg_arr_homelose_odd_season'] = df['cum_arr_homelose_odd_season'] / df['Total_loses_home_season']\n",
    "df['home_prev_lose_season'] = df.groupby(['HomeTeam', 'Season'])['avg_arr_homelose_odd_season'].shift()\n",
    "\n",
    "\n",
    "df['cum_arr_awaywin_odd'] = df.groupby(['AwayTeam'])['arrived_awaywin'].cumsum()\n",
    "df['avg_arr_awaywin_odd'] = df['cum_arr_awaywin_odd'] / df['Total_wins_away']\n",
    "df['away_prev_win_all'] = df.groupby(['AwayTeam'])['avg_arr_awaywin_odd'].shift()\n",
    "df['cum_arr_awaywin_odd_season'] = df.groupby(['AwayTeam', 'Season'])['arrived_awaywin'].cumsum()\n",
    "df['avg_arr_awaywin_odd_season'] = df['cum_arr_awaywin_odd_season'] / df['Total_wins_away_season']\n",
    "df['away_prev_win_season'] = df.groupby(['AwayTeam', 'Season'])['avg_arr_awaywin_odd_season'].shift()\n",
    "\n",
    "df['cum_arr_awaydraw_odd'] = df.groupby(['AwayTeam'])['arrived_awaydraw'].cumsum()\n",
    "df['avg_arr_awaydraw_odd'] = df['cum_arr_awaydraw_odd'] / df['Total_draws_away']\n",
    "df['away_prev_draw_all'] = df.groupby(['AwayTeam'])['avg_arr_awaydraw_odd'].shift()\n",
    "df['cum_arr_awaydraw_odd_season'] = df.groupby(['AwayTeam','Season'])['arrived_awaydraw'].cumsum()\n",
    "df['avg_arr_awaydraw_odd_season'] = df['cum_arr_awaydraw_odd_season'] / df['Total_draws_away_season']\n",
    "df['away_prev_draw_season'] = df.groupby(['AwayTeam', 'Season'])['avg_arr_awaydraw_odd_season'].shift()\n",
    "\n",
    "df['cum_arr_awaylose_odd'] = df.groupby(['AwayTeam'])['arrived_awaylose'].cumsum()\n",
    "df['avg_arr_awaylose_odd'] = df['cum_arr_awaylose_odd'] / df['Total_loses_away']\n",
    "df['away_prev_lose_all'] = df.groupby(['AwayTeam'])['avg_arr_awaylose_odd'].shift()\n",
    "df['cum_arr_awaylose_odd_season'] = df.groupby(['AwayTeam','Season'])['arrived_awaylose'].cumsum()\n",
    "df['avg_arr_awaylose_odd_season'] = df['cum_arr_awaylose_odd_season'] / df['Total_loses_away_season']\n",
    "df['away_prev_lose_season'] = df.groupby(['AwayTeam', 'Season'])['avg_arr_awaylose_odd_season'].shift()"
   ]
  },
  {
   "cell_type": "markdown",
   "id": "34cb5f60",
   "metadata": {},
   "source": [
    "In addition, so-called match ratings are formed. Rating systems are quantitative measures of the superiority of one team over the other. In this context, the difference between the two opponents is determined with regard to various events."
   ]
  },
  {
   "cell_type": "code",
   "execution_count": 16,
   "id": "b8329c3a",
   "metadata": {},
   "outputs": [],
   "source": [
    "# determine the team-specific difference between achieving and allowing the events\n",
    "df['team_diff_goals_home_before'] = df['GoalsHome_before'] - df['Home_Goals_Conceded_before']\n",
    "df['team_diff_shots_home_before'] = df['ShotsHome_before'] - df['Home_Shots_Conceded_before']\n",
    "df['team_diff_SOT_home_before'] = df['SOTHome_before'] - df['Home_SOT_Conceded_before']\n",
    "df['team_diff_corners_home_before'] = df['CornersHome_before'] - df['Home_Corners_Conceded_before']\n",
    "\n",
    "df['team_diff_goals_away_before'] = df['GoalsAway_before'] - df['Away_Goals_Conceded_before']\n",
    "df['team_diff_shots_away_before'] = df['ShotsAway_before'] - df['Away_Shots_Conceded_before']\n",
    "df['team_diff_SOT_away_before'] = df['SOTAway_before'] - df['Away_SOT_Conceded_before']\n",
    "df['team_diff_corners_away_before'] = df['CornersAway_before'] - df['Away_Corners_Conceded_before']"
   ]
  },
  {
   "cell_type": "code",
   "execution_count": 17,
   "id": "3c705559",
   "metadata": {},
   "outputs": [],
   "source": [
    "# determine the difference between the events achieved between home and away team\n",
    "df['cross_diff_goals_before'] = df['GoalsHome_before'] - df['GoalsAway_before']\n",
    "df['cross_diff_shots_before'] = df['ShotsHome_before'] - df['ShotsAway_before']\n",
    "df['cross_diff_sot_before'] = df['SOTHome_before'] - df['SOTAway_before']\n",
    "df['cross_diff_corners_before'] = df['CornersHome_before'] - df['CornersAway_before']"
   ]
  },
  {
   "cell_type": "code",
   "execution_count": 18,
   "id": "1b64bdcb",
   "metadata": {},
   "outputs": [],
   "source": [
    "# determine the difference between the events achieved between home and away team\n",
    "df['cross_goal_home'] = df['GoalsHome_before'] - df['Away_Goals_Conceded_before']\n",
    "df['cross_shots_home'] = df['ShotsHome_before'] - df['Away_Shots_Conceded_before']\n",
    "df['cross_SOT_home'] = df['SOTHome_before'] - df['Away_SOT_Conceded_before']\n",
    "df['cross_corners_home'] = df['CornersHome_before'] - df['Away_Corners_Conceded_before']\n",
    "\n",
    "df['cross_goal_away'] = df['GoalsAway_before'] - df['Home_Goals_Conceded_before']\n",
    "df['cross_shots_away'] = df['ShotsAway_before'] - df['Home_Shots_Conceded_before']\n",
    "df['cross_SOT_away'] = df['SOTAway_before'] - df['Home_SOT_Conceded_before']\n",
    "df['cross_corners_away'] = df['CornersAway_before'] - df['Home_Corners_Conceded_before']"
   ]
  },
  {
   "cell_type": "code",
   "execution_count": 19,
   "id": "daf0a7a0",
   "metadata": {},
   "outputs": [],
   "source": [
    "# determine the difference between the events allowed between home and away team\n",
    "df['cross_diff_goals_Conceded_before'] = df['Home_Goals_Conceded_before'] - df['Away_Goals_Conceded_before']\n",
    "df['cross_diff_shots_Conceded_before'] = df['Home_Shots_Conceded_before'] - df['Away_Shots_Conceded_before']\n",
    "df['cross_diff_sot_Conceded_before'] = df['Home_SOT_Conceded_before'] - df['Away_SOT_Conceded_before']\n",
    "df['cross_diff_corners_Conceded_before'] = df['Home_Corners_Conceded_before'] - df['Away_Corners_Conceded_before']"
   ]
  },
  {
   "cell_type": "markdown",
   "id": "d97b6ada",
   "metadata": {},
   "source": [
    "Since a sports bet can either be won or lost, it only has two different outcomes instead of three, unlike a football match. Accordingly, three-way outcomes are converted into two-way outcomes."
   ]
  },
  {
   "cell_type": "code",
   "execution_count": 20,
   "id": "fcbce7c5",
   "metadata": {},
   "outputs": [],
   "source": [
    "# Change three-way to two-way results\n",
    "df['two_way_h_odd'] = df['WinHome'].apply(lambda x: '1' if x == 1 else 'X2')\n",
    "df['two_way_a_odd'] = df['WinAway'].apply(lambda x: '2' if x == 1 else '1X')\n",
    "df['two_way_home'] = df['WinHome'].apply(lambda x: 'Win' if x == 1 else 'No win')\n",
    "df['two_way_away'] = df['WinAway'].apply(lambda x: 'Win' if x == 1 else 'No win')"
   ]
  },
  {
   "cell_type": "markdown",
   "id": "71cbf50b",
   "metadata": {},
   "source": [
    "A betting odds contains two pieces of information. Firstly, the probability that the event will occur: the lower it is, the more likely it is that the event will actually occur. And secondly, the odds can be used to calculate the profit after multiplication by the stake. A detailed description of the relationship follows in the notebook EDA.\n",
    "\n",
    "We determine the real probabilities per game. Provided the bookmakers would deliver fair odds, a summation of the probabilities of the three-way outcome would add up to 100%. To build a dataframe, we need any matches whose outcome is considered by the bookmakers to have a real probability of over 50%. In addition, the summed probabilities can be used to calculate the odds for the 'double chance' outcome. Double chance odds pull two of the three events together to form a two-way bet. For example, a bet can be won if you bet on double chance home win or draw (1X) and the match actually ends with one of the two outcomes."
   ]
  },
  {
   "cell_type": "code",
   "execution_count": 21,
   "id": "c121fa8c",
   "metadata": {},
   "outputs": [],
   "source": [
    "# calculate the actual probabilities based on the betting odds\n",
    "df['proba_total'] = (1 / df['AvgHome']) + (1 / df['AvgDraw']) + (1 / df['AvgAway'])\n",
    "df['real_proba_home'] = (1 / df['AvgHome']) / df['proba_total']\n",
    "df['real_proba_away'] = (1 / df['AvgAway']) / df['proba_total']\n",
    "df['dc_away'] = 1 / (df['proba_total'] - (1 / df['AvgHome']))\n",
    "df['dc_home'] = 1 / (df['proba_total'] - (1 / df['AvgAway']))"
   ]
  },
  {
   "cell_type": "markdown",
   "id": "d6b84b8b",
   "metadata": {},
   "source": [
    "### Data Cleaning"
   ]
  },
  {
   "cell_type": "markdown",
   "id": "7aa327c1",
   "metadata": {},
   "source": [
    "A lot of information is not available for games that are mainly a little further in the past. Therefore, some lines had to be dropped completely, while for others the missing values are filled with 0 without making the data unusable. Games that take place at the beginning of the season do not contain season data to avoid data leakage, so these missing values can be filled with 0 without hesitation."
   ]
  },
  {
   "cell_type": "code",
   "execution_count": 22,
   "id": "2f8a1d32",
   "metadata": {},
   "outputs": [],
   "source": [
    "# dropping the low information lines\n",
    "df = df[df['AvgHome'].notna()]\n",
    "df = df[df['AvgAway'].notna()]\n",
    "df = df[df['GoalsHome_before'].notna()]\n",
    "df = df[df['ShotsHome_before'].notna()]"
   ]
  },
  {
   "cell_type": "code",
   "execution_count": 23,
   "id": "498e33f6",
   "metadata": {},
   "outputs": [],
   "source": [
    "# Fill in the empty values with 0\n",
    "columns = ['goals_avg_home_season', 'goals_avg_away_season', 'goals_conceded_avg_home_season', 'goals_conceded_avg_away_season',\n",
    "           'goals_total_avg_home_season', 'goals_total_avg_away_season', 'shots_avg_home_season', 'shots_avg_away_season',\n",
    "           'shots_conceded_avg_home_season', 'shots_conceded_avg_away_season', 'shots_total_avg_home_season',\n",
    "           'shots_total_avg_away_season', 'sot_avg_home_season', 'sot_avg_away_season', 'sot_conceded_avg_home_season',\n",
    "           'sot_conceded_avg_away_season', 'sot_total_avg_home_season', 'sot_total_avg_away_season', 'corners_avg_home_season',\n",
    "           'corners_avg_away_season', 'corners_conceded_avg_home_season', 'corners_conceded_avg_away_season',\n",
    "           'corners_total_avg_home_season', 'corners_total_avg_away_season', 'home_wins_season', 'home_draws_season', \n",
    "           'home_loses_season', 'away_wins_season', 'away_draws_season', 'away_loses_season', 'home_points', 'away_points',\n",
    "           'home_prev_win_all', 'home_prev_win_season', 'home_prev_draw_all', 'home_prev_draw_season', 'home_prev_lose_all',\n",
    "           'home_prev_lose_season', 'away_prev_win_all', 'away_prev_win_season', 'away_prev_draw_all', 'away_prev_draw_season', \n",
    "           'away_prev_lose_all', 'away_prev_lose_season']\n",
    "\n",
    "for column in columns:\n",
    "    df[column] = df[column].fillna(0)"
   ]
  },
  {
   "cell_type": "markdown",
   "id": "746b9543",
   "metadata": {},
   "source": [
    "### Feature Engineering 2.0"
   ]
  },
  {
   "cell_type": "markdown",
   "id": "61426052",
   "metadata": {},
   "source": [
    "Since some features depended on all fields being filled first so that they could take on the correct values, the following features were only created afterwards."
   ]
  },
  {
   "cell_type": "code",
   "execution_count": 24,
   "id": "5980fe98",
   "metadata": {},
   "outputs": [],
   "source": [
    "# Calculate the difference between the odd and the cumulative odd of the team when the event occurs.\n",
    "df['diff_exp_val_home'] = df['AvgHome'] - df['home_prev_win_season']\n",
    "df['diff_exp_val_away'] = df['AvgAway'] - df['away_prev_win_season']"
   ]
  },
  {
   "cell_type": "code",
   "execution_count": 25,
   "id": "b0e35a24",
   "metadata": {},
   "outputs": [],
   "source": [
    "# Calculate the points difference between hometeam and awayteam\n",
    "df['cross_diff_points_before'] = df['home_points'] - df['away_points']"
   ]
  },
  {
   "cell_type": "code",
   "execution_count": 26,
   "id": "51ff964d",
   "metadata": {},
   "outputs": [
    {
     "data": {
      "text/plain": [
       "(42258, 245)"
      ]
     },
     "execution_count": 26,
     "metadata": {},
     "output_type": "execute_result"
    }
   ],
   "source": [
    "# shape after feature engineering (including auxiliary columns)\n",
    "df.shape"
   ]
  },
  {
   "cell_type": "markdown",
   "id": "4d40ecb8",
   "metadata": {},
   "source": [
    "### Preparing the Dataframes"
   ]
  },
  {
   "cell_type": "markdown",
   "id": "fccd6c11",
   "metadata": {},
   "source": [
    "Since data leakage does not play a role in EDA, different data frames were created for EDA and Model Building. Only after the EDA data frame has been created are the problematic features removed and prepared for the model building."
   ]
  },
  {
   "cell_type": "markdown",
   "id": "a33adf2a",
   "metadata": {},
   "source": [
    "#### EDA"
   ]
  },
  {
   "cell_type": "code",
   "execution_count": 27,
   "id": "bcfd0248",
   "metadata": {},
   "outputs": [],
   "source": [
    "# saving the modified dataframe for EDA\n",
    "df.to_csv(\"Data/EDA.csv\")"
   ]
  },
  {
   "cell_type": "markdown",
   "id": "396818ba",
   "metadata": {},
   "source": [
    "#### Modelling"
   ]
  },
  {
   "cell_type": "code",
   "execution_count": 28,
   "id": "377e3520",
   "metadata": {},
   "outputs": [],
   "source": [
    "# create dummie-variables\n",
    "division_dummies = pd.get_dummies(df['Div'], prefix='Div', drop_first=True)\n",
    "season_dummies = pd.get_dummies(df['Season'], prefix='Season', drop_first=True)"
   ]
  },
  {
   "cell_type": "code",
   "execution_count": 29,
   "id": "f2e39296",
   "metadata": {},
   "outputs": [],
   "source": [
    "# appending the dummie-variables\n",
    "df = pd.concat((df, division_dummies, season_dummies), axis=1)"
   ]
  },
  {
   "cell_type": "code",
   "execution_count": 30,
   "id": "e88dace2",
   "metadata": {},
   "outputs": [],
   "source": [
    "# dropping unnecessary columns for the model building\n",
    "df = df.drop(['Div', 'Season', 'FTHG', 'FTAG', 'FTR', 'HS', 'AS', 'HST', 'AST', 'HF', 'AF', 'HC', 'AC', \n",
    "             'HY', 'AY', 'HR', 'AR', 'total_goals', 'total_shots', 'total_sot', 'total_corners', 'GoalsHome', 'GoalsAway', \n",
    "             'Home_Goals_Conceded', 'Away_Goals_Conceded', 'TotalGoals_Home', 'TotalGoals_Away', 'ShotsHome',\n",
    "             'ShotsAway', 'Home_Shots_Conceded', 'Away_Shots_Conceded', 'TotalShots_Home', 'TotalShots_Away',\n",
    "             'SOTHome', 'SOTAway', 'Home_SOT_Conceded', 'Away_SOT_Conceded', 'TotalSOT_Home', 'TotalSOT_Away',\n",
    "             'CornersHome', 'CornersAway', 'Home_Corners_Conceded', 'Away_Corners_Conceded', 'TotalCorners_Home',\n",
    "             'TotalCorners_Away', 'game_count_home', 'game_count_away', 'game_count_home_season', 'game_count_away_season',\n",
    "             'arrived_homewin', 'arrived_homewin', 'arrived_homedraw', 'arrived_homelose', 'arrived_awaywin',\n",
    "             'arrived_awaydraw', 'arrived_awaylose', 'two_way_home', 'two_way_away', 'avg_arr_homewin_odd',\n",
    "             'avg_arr_homewin_odd_season', 'avg_arr_homedraw_odd', 'avg_arr_homedraw_odd_season', 'avg_arr_homelose_odd',\n",
    "             'avg_arr_homelose_odd_season', 'avg_arr_awaywin_odd', 'avg_arr_awaywin_odd_season', 'avg_arr_awaydraw_odd',\n",
    "             'avg_arr_awaydraw_odd_season', 'avg_arr_awaylose_odd', 'avg_arr_awaylose_odd_season', 'proba_total',\n",
    "             'Total_wins_home', 'Total_wins_away', 'Total_draws_home', 'Total_draws_away', 'Total_loses_home', \n",
    "             'Total_loses_away', 'Total_wins_home_season', 'Total_draws_home_season', 'Total_loses_home_season',\n",
    "             'Total_wins_away_season', 'Total_draws_away_season', 'Total_loses_away_season', 'B365H', 'B365D', \n",
    "             'B365A', 'BWH', 'BWD', 'BWA', 'IWH', 'IWD', 'IWA', 'WHH', 'WHD', 'WHA', 'WinHome',\n",
    "             'DrawHome', 'LoseHome', 'WinAway', 'DrawAway', 'LoseAway', 'homewin_cum_odd', 'homewin_cum_odd_season', \n",
    "             'homedraw_cum_odd', 'homedraw_cum_odd_season', 'homelose_cum_odd', 'homelose_cum_odd_season', 'awaywin_cum_odd',\n",
    "             'awaywin_cum_odd_season', 'awaydraw_cum_odd', 'awaydraw_cum_odd_season', 'awaylose_cum_odd',\n",
    "             'awaylose_cum_odd_season', 'cum_arr_homewin_odd', 'cum_arr_homewin_odd_season', 'cum_arr_homedraw_odd',\n",
    "             'cum_arr_homedraw_odd_season', 'cum_arr_homelose_odd', 'cum_arr_homelose_odd_season', 'cum_arr_awaywin_odd',\n",
    "             'cum_arr_awaywin_odd_season', 'cum_arr_awaydraw_odd', 'cum_arr_awaydraw_odd_season', 'cum_arr_awaylose_odd',\n",
    "             'cum_arr_awaylose_odd_season'], axis=1)"
   ]
  },
  {
   "cell_type": "code",
   "execution_count": 31,
   "id": "e275b935",
   "metadata": {},
   "outputs": [
    {
     "data": {
      "text/plain": [
       "(42258, 149)"
      ]
     },
     "execution_count": 31,
     "metadata": {},
     "output_type": "execute_result"
    }
   ],
   "source": [
    "# shape after preparing \n",
    "df.shape"
   ]
  },
  {
   "cell_type": "markdown",
   "id": "9a9c5a15",
   "metadata": {},
   "source": [
    "To predict the football matches, we examine different datasets. Since we want to determine the outcome in two-way mode and predict either a home win or an away win or the respective double chance counter event, home and away matches have to be trained in different models. In addition, different compositions of the data set will be used to investigate to what extent these have an influence on the prediction or the improvement of the long-term strategy. Accordingly, the following 6 data frames are generated:\n",
    "- Data set containing only matches with a real probability of a home win of more than 50%.\n",
    "- Data set containing only matches with a real probability of an away win above 50%.\n",
    "- Data set which only contains teams whose average home win probability is below a certain odd level\n",
    "- Data set which only contains teams whose average away win probability is below a certain odd level\n",
    "- Full data set (home win prediction)\n",
    "- Full data set (away win prediction)"
   ]
  },
  {
   "cell_type": "markdown",
   "id": "3d2efb21",
   "metadata": {},
   "source": [
    "##### 50%-Dataframe"
   ]
  },
  {
   "cell_type": "code",
   "execution_count": 32,
   "id": "7bcffea1",
   "metadata": {},
   "outputs": [],
   "source": [
    "# reduce the data frame to the object of investigation / unnecessary columns\n",
    "df_h = df[(df['real_proba_home'] >= 0.5)].reset_index()\n",
    "df_a = df[(df['real_proba_away'] >= 0.5)].reset_index()\n",
    "\n",
    "df_h = df_h.drop(['HomeTeam', 'AwayTeam', 'index', 'real_proba_home', 'real_proba_away', 'two_way_a_odd', 'dc_home'], axis=1)\n",
    "df_a = df_a.drop(['HomeTeam', 'AwayTeam', 'index', 'real_proba_home', 'real_proba_away', 'two_way_h_odd', 'dc_away'], axis=1)"
   ]
  },
  {
   "cell_type": "code",
   "execution_count": 33,
   "id": "7f4c3794",
   "metadata": {},
   "outputs": [],
   "source": [
    "# saving the modified dataframe for the model building\n",
    "df_h.to_csv('Data/model_home.csv')\n",
    "df_a.to_csv('Data/model_away.csv')"
   ]
  },
  {
   "cell_type": "markdown",
   "id": "4bc14842",
   "metadata": {},
   "source": [
    "##### Favorite-Dataframe"
   ]
  },
  {
   "cell_type": "code",
   "execution_count": 34,
   "id": "28e7b8ff",
   "metadata": {},
   "outputs": [],
   "source": [
    "# reduce the data frame to the object of investigation / drop unnecessary columns\n",
    "home_mean = (df.groupby(['HomeTeam'])['AvgHome'].mean())\n",
    "away_mean = (df.groupby(['AwayTeam'])['AvgAway'].mean())\n",
    "\n",
    "mean_h = home_mean.to_frame()\n",
    "exp_val_h = mean_h[(mean_h['AvgHome'] >= 1.0) & (mean_h['AvgHome'] <= 1.55)]\n",
    "picked_teams_h = list(exp_val_h.index.values)\n",
    "\n",
    "mean_a = away_mean.to_frame()\n",
    "exp_val_a = mean_a[(mean_a['AvgAway'] >= 1.0) & (mean_a['AvgAway'] <= 1.65)]\n",
    "picked_teams_a = list(exp_val_a.index.values)\n",
    "\n",
    "df_home_fav = df[df['HomeTeam'].isin(picked_teams_h)]\n",
    "df_away_fav = df[df['AwayTeam'].isin(picked_teams_a)]\n",
    "\n",
    "df_home_fav = df_home_fav.drop(['HomeTeam', 'AwayTeam', 'real_proba_home', 'real_proba_away', 'two_way_a_odd', 'dc_home'], axis = 1)\n",
    "df_away_fav = df_away_fav.drop(['HomeTeam', 'AwayTeam', 'real_proba_home', 'real_proba_away', 'two_way_h_odd', 'dc_away'], axis = 1)"
   ]
  },
  {
   "cell_type": "code",
   "execution_count": 35,
   "id": "4aeb2d13",
   "metadata": {},
   "outputs": [],
   "source": [
    "# saving the modified dataframe for the model building\n",
    "df_home_fav.to_csv('Data/model_home_fav.csv')\n",
    "df_away_fav.to_csv('Data/model_away_fav.csv')"
   ]
  },
  {
   "cell_type": "markdown",
   "id": "de701fa0",
   "metadata": {},
   "source": [
    "##### Full-Dataframe"
   ]
  },
  {
   "cell_type": "code",
   "execution_count": 36,
   "id": "bc76ca0b",
   "metadata": {},
   "outputs": [],
   "source": [
    "# drop unnecessary columns\n",
    "df = df.drop(['HomeTeam', 'AwayTeam', 'real_proba_home', 'real_proba_away'], axis=1)"
   ]
  },
  {
   "cell_type": "code",
   "execution_count": 37,
   "id": "c5d10115",
   "metadata": {},
   "outputs": [],
   "source": [
    "# saving the modified dataframe for the model building\n",
    "df.to_csv('Data/model_full.csv')"
   ]
  },
  {
   "cell_type": "markdown",
   "id": "cb181e1c",
   "metadata": {},
   "source": [
    "In Notebook Model Preprocessing, the columns that will be used in the model are described before the split between training and test data is performed."
   ]
  }
 ],
 "metadata": {
  "kernelspec": {
   "display_name": "Python 3",
   "language": "python",
   "name": "python3"
  },
  "language_info": {
   "codemirror_mode": {
    "name": "ipython",
    "version": 3
   },
   "file_extension": ".py",
   "mimetype": "text/x-python",
   "name": "python",
   "nbconvert_exporter": "python",
   "pygments_lexer": "ipython3",
   "version": "3.8.5"
  }
 },
 "nbformat": 4,
 "nbformat_minor": 5
}
