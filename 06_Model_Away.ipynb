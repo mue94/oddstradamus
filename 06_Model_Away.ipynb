{
 "cells": [
  {
   "cell_type": "markdown",
   "id": "97da40e7",
   "metadata": {},
   "source": [
    "# Oddstradamus\n",
    "### Good odds and where to find them"
   ]
  },
  {
   "cell_type": "markdown",
   "id": "4d14af92",
   "metadata": {},
   "source": [
    "### Modelling (Away)"
   ]
  },
  {
   "cell_type": "markdown",
   "id": "2091aebf",
   "metadata": {},
   "source": [
    "In this notebook, the 3 remaining data frames are used to classify matches between away win and double chance draw or home win. The procedure is the same as in the [previous notebook](https://github.com/mue94/oddstradamus/blob/main/05_Model_Home.ipynb). \n",
    "Therefore, here is an overview of the machine learning algorithms used within this notebook. Note also the PCA as point number 3 for each data frame."
   ]
  },
  {
   "cell_type": "markdown",
   "id": "440026af",
   "metadata": {},
   "source": [
    "| 1 Full-Dataframe | 2 50%-Dataframe | 3 Favorite-Dataframe |\n",
    "| - | - | - |\n",
    "| 1 Dummy Classifier | 1 Dummy Classifier | 1 Dummy Classifier |\n",
    "| 2 Logistic Regression | 2 Logistic Regression | 2 Logistic Regression |\n",
    "| 4 Logistic Regression (PCA) | 4 Logistic Regression (PCA) | 4 Logistic Regression (PCA) |\n",
    "| 5 Support Vector Machine (PCA) | 5 Support Vector Machine (PCA) | 5 Support Vector Machine (PCA) |\n",
    "| 6 Random Forest (PCA) | 6 Random Forest (PCA) | 6 Random Forest (PCA) |\n",
    "| 7 Extra Trees (PCA) | 7 Extra Trees (PCA) | 7 Extra Trees (PCA) |\n",
    "| 8 KNN (PCA) | 8 KNN (PCA) | 8 KNN (PCA) |\n",
    "| 9 AdaBoost (PCA) | 9 AdaBoost (PCA) | 9 AdaBoost (PCA) |\n",
    "| 10 XGBoost (PCA) | 10 XGBoost (PCA) | 10 XGBoost (PCA) |"
   ]
  },
  {
   "cell_type": "code",
   "execution_count": 1,
   "id": "1ca774db",
   "metadata": {},
   "outputs": [],
   "source": [
    "# import packages\n",
    "# basic modules\n",
    "import pandas as pd\n",
    "import numpy as np\n",
    "import matplotlib.pyplot as plt\n",
    "import warnings\n",
    "from joblib import dump, load\n",
    "\n",
    "# scikit-learn\n",
    "from sklearn.dummy import DummyClassifier\n",
    "from sklearn.metrics import classification_report\n",
    "from sklearn.preprocessing import StandardScaler\n",
    "from sklearn.decomposition import PCA\n",
    "from sklearn.metrics import accuracy_score\n",
    "\n",
    "# models\n",
    "import xgboost as xgb\n",
    "from sklearn.linear_model import LogisticRegression\n",
    "from sklearn.svm import SVC\n",
    "from sklearn.neighbors import KNeighborsClassifier\n",
    "from sklearn.ensemble import AdaBoostClassifier, RandomForestClassifier, ExtraTreesClassifier\n",
    "\n",
    "#settings\n",
    "warnings.filterwarnings('ignore')"
   ]
  },
  {
   "cell_type": "markdown",
   "id": "018a7593",
   "metadata": {},
   "source": [
    "### Metric"
   ]
  },
  {
   "cell_type": "code",
   "execution_count": 2,
   "id": "ade5d852",
   "metadata": {},
   "outputs": [],
   "source": [
    "# defining the metrics\n",
    "\n",
    "# risk-averse\n",
    "def profit_metric(actual, predicted, away_odd, dc_odd, avg_odd_fav, avg_odd_out, insert=1):\n",
    "    profit = 0\n",
    "    for i in range(len(actual)):\n",
    "        if predicted[i] == '2':\n",
    "            if actual[i] == predicted[i]:\n",
    "                profit = profit + (((insert - (1/dc_odd[i])) * (1/avg_odd_fav[i])) * float(away_odd[i])) - ((insert - (1/dc_odd[i])) * (1/avg_odd_fav[i]))\n",
    "            else:\n",
    "                profit = profit - ((insert - (1/dc_odd[i])) * (1/avg_odd_fav[i]))\n",
    "        if predicted[i] == '1X':\n",
    "            if actual [i] == predicted[i]:\n",
    "                profit = profit + (((insert - (1/away_odd[i])) * (1/avg_odd_out[i])) * float(dc_odd[i])) - ((insert - (1/away_odd[i])) * (1/avg_odd_out[i]))\n",
    "            else:\n",
    "                profit = profit - ((insert - (1/away_odd[i])) * (1/avg_odd_out[i]))\n",
    "    \n",
    "    print(round(profit,2),'units in',len(actual),'games')    \n",
    "                \n",
    "    return print(round(profit / len(actual)*100, 2),'% gain per game')\n",
    "\n",
    "# risk-taking\n",
    "def profit_metric_fav(actual, predicted, away_odd, dc_odd, insert=1):\n",
    "    profit = 0\n",
    "    for i in range(len(actual)):\n",
    "        if predicted[i] == '2':\n",
    "            if actual[i] == predicted[i]:\n",
    "                profit = profit + ((insert - (1/dc_odd[i])) * float((away_odd[i])) - (insert - (1/dc_odd[i])))\n",
    "            else:\n",
    "                profit = profit - (insert - (1/dc_odd[i]))\n",
    "        if predicted[i] == '1X':\n",
    "            if actual [i] == predicted[i]:\n",
    "                profit = profit + (insert - (1/away_odd[i])) * float((dc_odd[i])) - (insert - (1/away_odd[i]))\n",
    "            else:\n",
    "                profit = profit - (insert - (1/away_odd[i]))\n",
    "    \n",
    "    print(round(profit,2),'units in',len(actual),'games')    \n",
    "                \n",
    "    return print(round(profit / len(actual)*100, 2),'% gain per game')"
   ]
  },
  {
   "cell_type": "markdown",
   "id": "15ce03d5",
   "metadata": {},
   "source": [
    "## 1 Full Dataframe"
   ]
  },
  {
   "cell_type": "code",
   "execution_count": 3,
   "id": "fa8fd87b",
   "metadata": {},
   "outputs": [],
   "source": [
    "# loading the dataframe\n",
    "X_train_full = pd.read_csv('Data/model_away_csv/X_train_away_full.csv')\n",
    "X_test_full = pd.read_csv('Data/model_away_csv/X_test_away_full.csv')\n",
    "y_train_full = pd.read_csv('Data/model_away_csv/y_train_away_full.csv')\n",
    "y_test_full = pd.read_csv('Data/model_away_csv/y_test_away_full.csv')\n",
    "y_train_full = y_train_full['two_way_a_odd']\n",
    "y_test_full = y_test_full['two_way_a_odd']"
   ]
  },
  {
   "cell_type": "code",
   "execution_count": 4,
   "id": "600a7efd",
   "metadata": {},
   "outputs": [],
   "source": [
    "# assigning the variables of the profit metric\n",
    "actual = y_test_full\n",
    "away_odd = X_test_full.MaxAway\n",
    "dc_odd = X_test_full.dc_home \n",
    "avg_odd_fav = X_test_full.awaywin_avg_odd\n",
    "avg_odd_out = X_test_full.homewin_avg_odd"
   ]
  },
  {
   "cell_type": "markdown",
   "id": "2b3d0c4b",
   "metadata": {},
   "source": [
    "#### 1.1 Dummy Classifier"
   ]
  },
  {
   "cell_type": "code",
   "execution_count": 5,
   "id": "22939296",
   "metadata": {},
   "outputs": [],
   "source": [
    "# create a Dummy-Model\n",
    "model_dummy_full = DummyClassifier(strategy = 'most_frequent')"
   ]
  },
  {
   "cell_type": "code",
   "execution_count": 6,
   "id": "fc49a157",
   "metadata": {},
   "outputs": [
    {
     "data": {
      "text/plain": [
       "DummyClassifier(strategy='most_frequent')"
      ]
     },
     "execution_count": 6,
     "metadata": {},
     "output_type": "execute_result"
    }
   ],
   "source": [
    "# fit the model\n",
    "model_dummy_full.fit(X_train_full, y_train_full)"
   ]
  },
  {
   "cell_type": "code",
   "execution_count": 7,
   "id": "b2fc2da3",
   "metadata": {},
   "outputs": [],
   "source": [
    "# predict the test data / assign the predicted-variable for the profit metric\n",
    "y_pred_dummy_full = model_dummy_full.predict(X_test_full)\n",
    "predicted = y_pred_dummy_full.tolist()"
   ]
  },
  {
   "cell_type": "code",
   "execution_count": 8,
   "id": "21377637",
   "metadata": {},
   "outputs": [
    {
     "name": "stdout",
     "output_type": "stream",
     "text": [
      "              precision    recall  f1-score   support\n",
      "\n",
      "          1X       0.70      1.00      0.82      8847\n",
      "           2       0.00      0.00      0.00      3831\n",
      "\n",
      "    accuracy                           0.70     12678\n",
      "   macro avg       0.35      0.50      0.41     12678\n",
      "weighted avg       0.49      0.70      0.57     12678\n",
      "\n"
     ]
    }
   ],
   "source": [
    "# print the classification report\n",
    "print(classification_report(y_test_full, y_pred_dummy_full))"
   ]
  },
  {
   "cell_type": "code",
   "execution_count": 9,
   "id": "1747fadc",
   "metadata": {},
   "outputs": [
    {
     "name": "stdout",
     "output_type": "stream",
     "text": [
      "-212.84 units in 12678 games\n",
      "-1.68 % gain per game\n"
     ]
    }
   ],
   "source": [
    "# print the result of the profit metric\n",
    "profit_metric(actual, predicted, away_odd, dc_odd, avg_odd_fav, avg_odd_out)"
   ]
  },
  {
   "cell_type": "markdown",
   "id": "28f4c53a",
   "metadata": {},
   "source": [
    "#### 1.2 Logistic Regression"
   ]
  },
  {
   "cell_type": "code",
   "execution_count": 10,
   "id": "dc79d6f0",
   "metadata": {},
   "outputs": [
    {
     "data": {
      "text/plain": [
       "LogisticRegression()"
      ]
     },
     "execution_count": 10,
     "metadata": {},
     "output_type": "execute_result"
    }
   ],
   "source": [
    "# create a Logistic Regression Model / fit the model\n",
    "logreg_full = LogisticRegression()\n",
    "logreg_full.fit(X_train_full, y_train_full)"
   ]
  },
  {
   "cell_type": "code",
   "execution_count": 11,
   "id": "38184211",
   "metadata": {},
   "outputs": [],
   "source": [
    "# predict the test data / assign the predicted-variable for the profit metric\n",
    "y_pred_logreg_full = logreg_full.predict(X_test_full)\n",
    "predicted = y_pred_logreg_full.tolist()"
   ]
  },
  {
   "cell_type": "code",
   "execution_count": 12,
   "id": "0ae14c16",
   "metadata": {},
   "outputs": [
    {
     "name": "stdout",
     "output_type": "stream",
     "text": [
      "              precision    recall  f1-score   support\n",
      "\n",
      "          1X       0.71      0.97      0.82      8847\n",
      "           2       0.58      0.11      0.18      3831\n",
      "\n",
      "    accuracy                           0.71     12678\n",
      "   macro avg       0.64      0.54      0.50     12678\n",
      "weighted avg       0.67      0.71      0.63     12678\n",
      "\n"
     ]
    }
   ],
   "source": [
    "# print the classification report\n",
    "print(classification_report(y_test_full, y_pred_logreg_full))"
   ]
  },
  {
   "cell_type": "code",
   "execution_count": 13,
   "id": "2e06dc9c",
   "metadata": {},
   "outputs": [
    {
     "name": "stdout",
     "output_type": "stream",
     "text": [
      "-203.1 units in 12678 games\n",
      "-1.6 % gain per game\n"
     ]
    }
   ],
   "source": [
    "# print the result of the profit metric\n",
    "profit_metric(actual, predicted, away_odd, dc_odd, avg_odd_fav, avg_odd_out)"
   ]
  },
  {
   "cell_type": "markdown",
   "id": "6c4b7d36",
   "metadata": {},
   "source": [
    "#### 1.3 Dimensionality Reduction"
   ]
  },
  {
   "cell_type": "markdown",
   "id": "4c7abc7d",
   "metadata": {},
   "source": [
    "##### Data Scaling\n",
    "PCA requires scaling/normalization of the data to work properly."
   ]
  },
  {
   "cell_type": "code",
   "execution_count": 14,
   "id": "25b9ec78",
   "metadata": {},
   "outputs": [],
   "source": [
    "# assign the standard scaler\n",
    "scaler = StandardScaler()"
   ]
  },
  {
   "cell_type": "code",
   "execution_count": 15,
   "id": "579092e4",
   "metadata": {},
   "outputs": [],
   "source": [
    "# scale train data with standard scaler\n",
    "X_train_full_scaled = scaler.fit_transform(X_train_full)\n",
    "df_full_scaled = pd.DataFrame(data=X_train_full_scaled,columns=X_train_full.columns)"
   ]
  },
  {
   "cell_type": "markdown",
   "id": "ada433da",
   "metadata": {},
   "source": [
    "##### Principal Componenent Analysis"
   ]
  },
  {
   "cell_type": "code",
   "execution_count": 16,
   "id": "3c443fbc",
   "metadata": {},
   "outputs": [],
   "source": [
    "# create a PCA object\n",
    "pca_full = PCA(n_components=None)"
   ]
  },
  {
   "cell_type": "code",
   "execution_count": 17,
   "id": "a79075ca",
   "metadata": {},
   "outputs": [],
   "source": [
    "# fit the PCA object\n",
    "df_full_scaled_pca = pca_full.fit(df_full_scaled)"
   ]
  },
  {
   "cell_type": "code",
   "execution_count": 18,
   "id": "f8ab4b24",
   "metadata": {},
   "outputs": [
    {
     "data": {
      "image/png": "[encoded data removed]",
      "text/plain": [
       "<Figure size 720x432 with 1 Axes>"
      ]
     },
     "metadata": {
      "needs_background": "light"
     },
     "output_type": "display_data"
    }
   ],
   "source": [
    "# plot the explained variance ratio for each principal component\n",
    "plt.figure(figsize=(10,6))\n",
    "plt.scatter(x=[i+1 for i in range(len(df_full_scaled_pca.explained_variance_ratio_))],\n",
    "            y=df_full_scaled_pca.explained_variance_ratio_,\n",
    "            s=200, alpha=0.75,c='orange',edgecolor='k')\n",
    "plt.grid(True)\n",
    "plt.title(\"Explained variance ratio of the \\nfitted principal component vector\\n\",fontsize=25)\n",
    "plt.xlabel(\"Principal components\",fontsize=15)\n",
    "plt.xticks([i+1 for i in range(len(df_full_scaled_pca.explained_variance_ratio_))],fontsize=15)\n",
    "plt.yticks(fontsize=15)\n",
    "plt.ylabel(\"Explained variance ratio\",fontsize=15)\n",
    "plt.show()"
   ]
  },
  {
   "cell_type": "code",
   "execution_count": 19,
   "id": "cd378ae7",
   "metadata": {},
   "outputs": [],
   "source": [
    "# transform the scaled data set using the fitted PCA object\n",
    "X_train_full_scaled_trans = pca_full.transform(df_full_scaled)"
   ]
  },
  {
   "cell_type": "code",
   "execution_count": 20,
   "id": "8ff64352",
   "metadata": {},
   "outputs": [],
   "source": [
    "# put it in a data frame\n",
    "X_train_full_scaled_trans = pd.DataFrame(data=X_train_full_scaled_trans)"
   ]
  },
  {
   "cell_type": "code",
   "execution_count": 21,
   "id": "be747d4b",
   "metadata": {},
   "outputs": [],
   "source": [
    "# assign the most meaningful variables\n",
    "variables_full = [0,1,2,3,4,5,6]"
   ]
  },
  {
   "cell_type": "markdown",
   "id": "63386b11",
   "metadata": {},
   "source": [
    "#### 1.4 Logistic Regression (PCA)"
   ]
  },
  {
   "cell_type": "code",
   "execution_count": 22,
   "id": "f3a40d38",
   "metadata": {},
   "outputs": [
    {
     "data": {
      "text/plain": [
       "LogisticRegression()"
      ]
     },
     "execution_count": 22,
     "metadata": {},
     "output_type": "execute_result"
    }
   ],
   "source": [
    "# create a Logistic Regression Model / fit the model (PCA data)\n",
    "logreg_full_pca = LogisticRegression()\n",
    "logreg_full_pca.fit(X_train_full_scaled_trans[variables_full], y_train_full)"
   ]
  },
  {
   "cell_type": "code",
   "execution_count": 23,
   "id": "57e4cc5e",
   "metadata": {},
   "outputs": [],
   "source": [
    "# scale test data with standard scaler / transform the scaled data set using the fitted PCA object\n",
    "X_test_full_scaled = scaler.transform(X_test_full)\n",
    "X_test_full_scaled_trans = pca_full.transform(X_test_full_scaled)"
   ]
  },
  {
   "cell_type": "code",
   "execution_count": 24,
   "id": "31acdfe3",
   "metadata": {},
   "outputs": [],
   "source": [
    "# put it in a data frame\n",
    "X_test_full_scaled_trans = pd.DataFrame(data=X_test_full_scaled_trans)"
   ]
  },
  {
   "cell_type": "code",
   "execution_count": 25,
   "id": "32ef7210",
   "metadata": {},
   "outputs": [],
   "source": [
    "# predict the test data / assign the predicted-variable for the profit metric\n",
    "y_pred_logreg_full_pca = logreg_full_pca.predict(X_test_full_scaled_trans[[0,1,2,3,4,5,6]])\n",
    "predicted = y_pred_logreg_full_pca.tolist()"
   ]
  },
  {
   "cell_type": "code",
   "execution_count": 26,
   "id": "12d78f88",
   "metadata": {},
   "outputs": [
    {
     "name": "stdout",
     "output_type": "stream",
     "text": [
      "              precision    recall  f1-score   support\n",
      "\n",
      "          1X       0.73      0.96      0.83      8847\n",
      "           2       0.64      0.16      0.26      3831\n",
      "\n",
      "    accuracy                           0.72     12678\n",
      "   macro avg       0.68      0.56      0.54     12678\n",
      "weighted avg       0.70      0.72      0.65     12678\n",
      "\n"
     ]
    }
   ],
   "source": [
    "# print the classification report\n",
    "print(classification_report(y_test_full, y_pred_logreg_full_pca))"
   ]
  },
  {
   "cell_type": "code",
   "execution_count": 27,
   "id": "3fc33e19",
   "metadata": {},
   "outputs": [
    {
     "name": "stdout",
     "output_type": "stream",
     "text": [
      "-206.44 units in 12678 games\n",
      "-1.63 % gain per game\n"
     ]
    }
   ],
   "source": [
    "# print the result of the profit metric\n",
    "profit_metric(actual, predicted, away_odd, dc_odd, avg_odd_fav, avg_odd_out)"
   ]
  },
  {
   "cell_type": "markdown",
   "id": "9a203a8c",
   "metadata": {},
   "source": [
    "#### 1.5 Support Vector Machine (PCA)"
   ]
  },
  {
   "cell_type": "code",
   "execution_count": 28,
   "id": "62298be2",
   "metadata": {},
   "outputs": [],
   "source": [
    "# create a SVM-Model\n",
    "model_full_svm_pca = SVC(kernel='linear', verbose = 1)"
   ]
  },
  {
   "cell_type": "code",
   "execution_count": 29,
   "id": "4ee2999f",
   "metadata": {},
   "outputs": [],
   "source": [
    "# fit the model\n",
    "#model_full_svm_pca.fit(X_train_full_scaled_trans[variables_full], y_train_full)"
   ]
  },
  {
   "cell_type": "code",
   "execution_count": 30,
   "id": "5dc364c0",
   "metadata": {},
   "outputs": [],
   "source": [
    "# save the fitted model\n",
    "#dump(model_full_svm_pca, 'SVM_full_away.pickle')"
   ]
  },
  {
   "cell_type": "code",
   "execution_count": 31,
   "id": "cfc8b505",
   "metadata": {},
   "outputs": [],
   "source": [
    "# load the fitted model\n",
    "model_full_svm_pca = load('SVM_full_away.pickle')"
   ]
  },
  {
   "cell_type": "code",
   "execution_count": 32,
   "id": "9cdae008",
   "metadata": {},
   "outputs": [],
   "source": [
    "# predict the test data\n",
    "y_pred_full_svm_pca = model_full_svm_pca.predict(X_test_full_scaled_trans[[0,1,2,3,4,5,6]])"
   ]
  },
  {
   "cell_type": "code",
   "execution_count": 33,
   "id": "228d49db",
   "metadata": {},
   "outputs": [
    {
     "name": "stdout",
     "output_type": "stream",
     "text": [
      "              precision    recall  f1-score   support\n",
      "\n",
      "          1X       0.71      0.99      0.83      8847\n",
      "           2       0.70      0.07      0.12      3831\n",
      "\n",
      "    accuracy                           0.71     12678\n",
      "   macro avg       0.70      0.53      0.47     12678\n",
      "weighted avg       0.71      0.71      0.61     12678\n",
      "\n"
     ]
    }
   ],
   "source": [
    "# print the classification report\n",
    "print(classification_report(y_test_full, y_pred_full_svm_pca))"
   ]
  },
  {
   "cell_type": "code",
   "execution_count": 34,
   "id": "8ef03f4e",
   "metadata": {},
   "outputs": [
    {
     "name": "stdout",
     "output_type": "stream",
     "text": [
      "-217.82 units in 12678 games\n",
      "-1.72 % gain per game\n"
     ]
    }
   ],
   "source": [
    "# assign the predicted-variable for the profit metric / print the result of the profit metric\n",
    "predicted = y_pred_full_svm_pca\n",
    "profit_metric(actual, predicted, away_odd, dc_odd, avg_odd_fav, avg_odd_out)"
   ]
  },
  {
   "cell_type": "markdown",
   "id": "abb6c877",
   "metadata": {},
   "source": [
    "#### 1.6 Random Forest (PCA)"
   ]
  },
  {
   "cell_type": "code",
   "execution_count": 35,
   "id": "94fbaeff",
   "metadata": {},
   "outputs": [],
   "source": [
    "# create a Random Forest-Model\n",
    "model_full_rf_pca = RandomForestClassifier(n_estimators=120, \n",
    "                                           random_state=42, \n",
    "                                           max_features = 'sqrt',\n",
    "                                           n_jobs=-1, verbose = 1)"
   ]
  },
  {
   "cell_type": "code",
   "execution_count": 36,
   "id": "68e5e973",
   "metadata": {},
   "outputs": [
    {
     "name": "stderr",
     "output_type": "stream",
     "text": [
      "[Parallel(n_jobs=-1)]: Using backend ThreadingBackend with 4 concurrent workers.\n",
      "[Parallel(n_jobs=-1)]: Done  42 tasks      | elapsed:    1.2s\n",
      "[Parallel(n_jobs=-1)]: Done 120 out of 120 | elapsed:    3.2s finished\n"
     ]
    },
    {
     "data": {
      "text/plain": [
       "RandomForestClassifier(max_features='sqrt', n_estimators=120, n_jobs=-1,\n",
       "                       random_state=42, verbose=1)"
      ]
     },
     "execution_count": 36,
     "metadata": {},
     "output_type": "execute_result"
    }
   ],
   "source": [
    "# fit the model\n",
    "model_full_rf_pca.fit(X_train_full_scaled_trans[variables_full], y_train_full)"
   ]
  },
  {
   "cell_type": "code",
   "execution_count": 37,
   "id": "9dc0d865",
   "metadata": {},
   "outputs": [
    {
     "name": "stderr",
     "output_type": "stream",
     "text": [
      "[Parallel(n_jobs=4)]: Using backend ThreadingBackend with 4 concurrent workers.\n",
      "[Parallel(n_jobs=4)]: Done  42 tasks      | elapsed:    0.1s\n",
      "[Parallel(n_jobs=4)]: Done 120 out of 120 | elapsed:    0.2s finished\n"
     ]
    }
   ],
   "source": [
    "# predict the test data\n",
    "y_pred_full_rf_pca = model_full_rf_pca.predict(X_test_full_scaled_trans[[0,1,2,3,4,5,6]])"
   ]
  },
  {
   "cell_type": "code",
   "execution_count": 38,
   "id": "95a3d616",
   "metadata": {},
   "outputs": [
    {
     "name": "stdout",
     "output_type": "stream",
     "text": [
      "              precision    recall  f1-score   support\n",
      "\n",
      "          1X       0.73      0.92      0.82      8847\n",
      "           2       0.55      0.22      0.32      3831\n",
      "\n",
      "    accuracy                           0.71     12678\n",
      "   macro avg       0.64      0.57      0.57     12678\n",
      "weighted avg       0.68      0.71      0.66     12678\n",
      "\n"
     ]
    }
   ],
   "source": [
    "# print the classification report\n",
    "print(classification_report(y_test_full, y_pred_full_rf_pca))"
   ]
  },
  {
   "cell_type": "code",
   "execution_count": 39,
   "id": "ca60b90b",
   "metadata": {},
   "outputs": [
    {
     "name": "stdout",
     "output_type": "stream",
     "text": [
      "-187.33 units in 12678 games\n",
      "-1.48 % gain per game\n"
     ]
    }
   ],
   "source": [
    "# assign the predicted-variable for the profit metric / print the result of the profit metric\n",
    "predicted = y_pred_full_rf_pca\n",
    "profit_metric(actual, predicted, away_odd, dc_odd, avg_odd_fav, avg_odd_out)"
   ]
  },
  {
   "cell_type": "markdown",
   "id": "7ae9ffb8",
   "metadata": {},
   "source": [
    "#### 1.7 Extra Trees (PCA)"
   ]
  },
  {
   "cell_type": "code",
   "execution_count": 40,
   "id": "3ea8cde1",
   "metadata": {},
   "outputs": [],
   "source": [
    "# create a Extra Trees-Model\n",
    "model_full_extra_pca = ExtraTreesClassifier(n_estimators=100, random_state=42)"
   ]
  },
  {
   "cell_type": "code",
   "execution_count": 41,
   "id": "9434ddbc",
   "metadata": {},
   "outputs": [
    {
     "data": {
      "text/plain": [
       "ExtraTreesClassifier(random_state=42)"
      ]
     },
     "execution_count": 41,
     "metadata": {},
     "output_type": "execute_result"
    }
   ],
   "source": [
    "# fit the model\n",
    "model_full_extra_pca.fit(X_train_full_scaled_trans[variables_full], y_train_full)"
   ]
  },
  {
   "cell_type": "code",
   "execution_count": 42,
   "id": "79ce5985",
   "metadata": {},
   "outputs": [],
   "source": [
    "# predict the test data\n",
    "y_pred_full_extra_pca = model_full_extra_pca.predict(X_test_full_scaled_trans[[0,1,2,3,4,5,6]])"
   ]
  },
  {
   "cell_type": "code",
   "execution_count": 43,
   "id": "9fac6ed1",
   "metadata": {},
   "outputs": [
    {
     "name": "stdout",
     "output_type": "stream",
     "text": [
      "              precision    recall  f1-score   support\n",
      "\n",
      "          1X       0.73      0.93      0.82      8847\n",
      "           2       0.55      0.20      0.30      3831\n",
      "\n",
      "    accuracy                           0.71     12678\n",
      "   macro avg       0.64      0.57      0.56     12678\n",
      "weighted avg       0.68      0.71      0.66     12678\n",
      "\n"
     ]
    }
   ],
   "source": [
    "# print the classification report\n",
    "print(classification_report(y_test_full, y_pred_full_extra_pca))"
   ]
  },
  {
   "cell_type": "code",
   "execution_count": 44,
   "id": "3ac95337",
   "metadata": {},
   "outputs": [
    {
     "name": "stdout",
     "output_type": "stream",
     "text": [
      "-194.41 units in 12678 games\n",
      "-1.53 % gain per game\n"
     ]
    }
   ],
   "source": [
    "# assign the predicted-variable for the profit metric / print the result of the profit metric\n",
    "predicted = y_pred_full_extra_pca\n",
    "profit_metric(actual, predicted, away_odd, dc_odd, avg_odd_fav, avg_odd_out)"
   ]
  },
  {
   "cell_type": "markdown",
   "id": "216c084f",
   "metadata": {},
   "source": [
    "#### 1.8 KNN (PCA)"
   ]
  },
  {
   "cell_type": "code",
   "execution_count": 45,
   "id": "169de341",
   "metadata": {},
   "outputs": [],
   "source": [
    "# create a KNN-Model\n",
    "model_full_knn_pca = KNeighborsClassifier(n_neighbors=5, metric='minkowski', n_jobs=-1)"
   ]
  },
  {
   "cell_type": "code",
   "execution_count": 46,
   "id": "a15bfa8d",
   "metadata": {},
   "outputs": [
    {
     "data": {
      "text/plain": [
       "KNeighborsClassifier(n_jobs=-1)"
      ]
     },
     "execution_count": 46,
     "metadata": {},
     "output_type": "execute_result"
    }
   ],
   "source": [
    "# fit the model\n",
    "model_full_knn_pca.fit(X_train_full_scaled_trans[variables_full], y_train_full)"
   ]
  },
  {
   "cell_type": "code",
   "execution_count": 47,
   "id": "180e7097",
   "metadata": {},
   "outputs": [],
   "source": [
    "# predict the test data\n",
    "y_pred_full_knn_pca = model_full_knn_pca.predict(X_test_full_scaled_trans[[0,1,2,3,4,5,6]])"
   ]
  },
  {
   "cell_type": "code",
   "execution_count": 48,
   "id": "c79cc1d9",
   "metadata": {},
   "outputs": [
    {
     "name": "stdout",
     "output_type": "stream",
     "text": [
      "              precision    recall  f1-score   support\n",
      "\n",
      "          1X       0.73      0.84      0.78      8847\n",
      "           2       0.44      0.29      0.35      3831\n",
      "\n",
      "    accuracy                           0.67     12678\n",
      "   macro avg       0.58      0.56      0.56     12678\n",
      "weighted avg       0.64      0.67      0.65     12678\n",
      "\n"
     ]
    }
   ],
   "source": [
    "# print the classification report\n",
    "print(classification_report(y_test_full, y_pred_full_knn_pca))"
   ]
  },
  {
   "cell_type": "code",
   "execution_count": 49,
   "id": "faeea93d",
   "metadata": {},
   "outputs": [
    {
     "name": "stdout",
     "output_type": "stream",
     "text": [
      "-184.11 units in 12678 games\n",
      "-1.45 % gain per game\n"
     ]
    }
   ],
   "source": [
    "# assign the predicted-variable for the profit metric / print the result of the profit metric\n",
    "predicted = y_pred_full_knn_pca\n",
    "profit_metric(actual, predicted, away_odd, dc_odd, avg_odd_fav, avg_odd_out)"
   ]
  },
  {
   "cell_type": "markdown",
   "id": "45f83525",
   "metadata": {},
   "source": [
    "#### 1.9 AdaBoost (PCA)"
   ]
  },
  {
   "cell_type": "code",
   "execution_count": 50,
   "id": "b3a65645",
   "metadata": {},
   "outputs": [],
   "source": [
    "# create a AdaBoost-Model\n",
    "model_full_ada_pca = AdaBoostClassifier()"
   ]
  },
  {
   "cell_type": "code",
   "execution_count": 51,
   "id": "c9345536",
   "metadata": {},
   "outputs": [
    {
     "data": {
      "text/plain": [
       "AdaBoostClassifier()"
      ]
     },
     "execution_count": 51,
     "metadata": {},
     "output_type": "execute_result"
    }
   ],
   "source": [
    "# fit the model\n",
    "model_full_ada_pca.fit(X_train_full_scaled_trans[variables_full], y_train_full)"
   ]
  },
  {
   "cell_type": "code",
   "execution_count": 52,
   "id": "faf1aa6a",
   "metadata": {},
   "outputs": [],
   "source": [
    "# predict the test data\n",
    "y_pred_full_ada_pca = model_full_ada_pca.predict(X_test_full_scaled_trans[[0,1,2,3,4,5,6]])"
   ]
  },
  {
   "cell_type": "code",
   "execution_count": 53,
   "id": "be67ad0c",
   "metadata": {},
   "outputs": [
    {
     "name": "stdout",
     "output_type": "stream",
     "text": [
      "              precision    recall  f1-score   support\n",
      "\n",
      "          1X       0.73      0.95      0.82      8847\n",
      "           2       0.61      0.19      0.29      3831\n",
      "\n",
      "    accuracy                           0.72     12678\n",
      "   macro avg       0.67      0.57      0.55     12678\n",
      "weighted avg       0.69      0.72      0.66     12678\n",
      "\n"
     ]
    }
   ],
   "source": [
    "# print the classification report\n",
    "print(classification_report(y_test_full, y_pred_full_ada_pca))"
   ]
  },
  {
   "cell_type": "code",
   "execution_count": 54,
   "id": "cbc4f5b1",
   "metadata": {},
   "outputs": [
    {
     "name": "stdout",
     "output_type": "stream",
     "text": [
      "-199.31 units in 12678 games\n",
      "-1.57 % gain per game\n"
     ]
    }
   ],
   "source": [
    "# assign the predicted-variable for the profit metric / print the result of the profit metric\n",
    "predicted = y_pred_full_ada_pca\n",
    "profit_metric(actual, predicted, away_odd, dc_odd, avg_odd_fav, avg_odd_out)"
   ]
  },
  {
   "cell_type": "markdown",
   "id": "56459f38",
   "metadata": {},
   "source": [
    "#### 1.10 XGBoost (PCA)"
   ]
  },
  {
   "cell_type": "code",
   "execution_count": 55,
   "id": "ced125f0",
   "metadata": {},
   "outputs": [],
   "source": [
    "# create a XGBoost-Model\n",
    "model_full_xgb_pca = xgb.XGBClassifier()"
   ]
  },
  {
   "cell_type": "code",
   "execution_count": 56,
   "id": "c36c63a9",
   "metadata": {},
   "outputs": [
    {
     "name": "stdout",
     "output_type": "stream",
     "text": [
      "[12:04:06] WARNING: /Users/travis/build/dmlc/xgboost/src/learner.cc:1095: Starting in XGBoost 1.3.0, the default evaluation metric used with the objective 'binary:logistic' was changed from 'error' to 'logloss'. Explicitly set eval_metric if you'd like to restore the old behavior.\n"
     ]
    },
    {
     "data": {
      "text/plain": [
       "XGBClassifier(base_score=0.5, booster='gbtree', colsample_bylevel=1,\n",
       "              colsample_bynode=1, colsample_bytree=1, gamma=0, gpu_id=-1,\n",
       "              importance_type='gain', interaction_constraints='',\n",
       "              learning_rate=0.300000012, max_delta_step=0, max_depth=6,\n",
       "              min_child_weight=1, missing=nan, monotone_constraints='()',\n",
       "              n_estimators=100, n_jobs=4, num_parallel_tree=1, random_state=0,\n",
       "              reg_alpha=0, reg_lambda=1, scale_pos_weight=1, subsample=1,\n",
       "              tree_method='exact', validate_parameters=1, verbosity=None)"
      ]
     },
     "execution_count": 56,
     "metadata": {},
     "output_type": "execute_result"
    }
   ],
   "source": [
    "# fit the model\n",
    "model_full_xgb_pca.fit(X_train_full_scaled_trans[variables_full], y_train_full)"
   ]
  },
  {
   "cell_type": "code",
   "execution_count": 57,
   "id": "c10e3e87",
   "metadata": {},
   "outputs": [],
   "source": [
    "# predict the test data\n",
    "y_pred_full_xgb_pca = model_full_xgb_pca.predict(X_test_full_scaled_trans[[0,1,2,3,4,5,6]])"
   ]
  },
  {
   "cell_type": "code",
   "execution_count": 58,
   "id": "60472492",
   "metadata": {},
   "outputs": [
    {
     "name": "stdout",
     "output_type": "stream",
     "text": [
      "              precision    recall  f1-score   support\n",
      "\n",
      "          1X       0.73      0.92      0.82      8847\n",
      "           2       0.55      0.22      0.31      3831\n",
      "\n",
      "    accuracy                           0.71     12678\n",
      "   macro avg       0.64      0.57      0.56     12678\n",
      "weighted avg       0.68      0.71      0.66     12678\n",
      "\n"
     ]
    }
   ],
   "source": [
    "# print the classification report\n",
    "print(classification_report(y_test_full, y_pred_full_xgb_pca))"
   ]
  },
  {
   "cell_type": "code",
   "execution_count": 59,
   "id": "7d1bb4b8",
   "metadata": {},
   "outputs": [
    {
     "name": "stdout",
     "output_type": "stream",
     "text": [
      "-189.33 units in 12678 games\n",
      "-1.49 % gain per game\n"
     ]
    }
   ],
   "source": [
    "# assign the predicted-variable for the profit metric / print the result of the profit metric\n",
    "predicted = y_pred_full_xgb_pca\n",
    "profit_metric(actual, predicted, away_odd, dc_odd, avg_odd_fav, avg_odd_out)"
   ]
  },
  {
   "cell_type": "markdown",
   "id": "5a72fbb1",
   "metadata": {},
   "source": [
    "###  2 50% Dataframe"
   ]
  },
  {
   "cell_type": "code",
   "execution_count": 60,
   "id": "dfce484f",
   "metadata": {},
   "outputs": [],
   "source": [
    "# loading the dataframe\n",
    "X_train_50 = pd.read_csv('Data/model_away_csv/X_train_away_50.csv')\n",
    "X_test_50 = pd.read_csv('Data/model_away_csv/X_test_away_50.csv')\n",
    "y_train_50 = pd.read_csv('Data/model_away_csv/y_train_away_50.csv')\n",
    "y_test_50 = pd.read_csv('Data/model_away_csv/y_test_away_50.csv')\n",
    "y_train_50 = y_train_50['two_way_a_odd']\n",
    "y_test_50 = y_test_50['two_way_a_odd']"
   ]
  },
  {
   "cell_type": "code",
   "execution_count": 61,
   "id": "ea0998b8",
   "metadata": {},
   "outputs": [],
   "source": [
    "# assigning the variables of the profit metric\n",
    "actual = y_test_50\n",
    "away_odd = X_test_50.MaxAway\n",
    "dc_odd = X_test_50.dc_home\n",
    "avg_odd_fav = X_test_50.awaywin_avg_odd\n",
    "avg_odd_out = X_test_50.homewin_avg_odd"
   ]
  },
  {
   "cell_type": "markdown",
   "id": "1b5ee5cc",
   "metadata": {},
   "source": [
    "#### 2.1 DummyClassifier"
   ]
  },
  {
   "cell_type": "code",
   "execution_count": 62,
   "id": "373df08d",
   "metadata": {
    "tags": []
   },
   "outputs": [],
   "source": [
    "# create a Dummy-Model\n",
    "model_50_dummy = DummyClassifier(strategy = 'most_frequent')"
   ]
  },
  {
   "cell_type": "code",
   "execution_count": 63,
   "id": "90f02bf0",
   "metadata": {
    "tags": []
   },
   "outputs": [
    {
     "data": {
      "text/plain": [
       "DummyClassifier(strategy='most_frequent')"
      ]
     },
     "execution_count": 63,
     "metadata": {},
     "output_type": "execute_result"
    }
   ],
   "source": [
    "# fit the model\n",
    "model_50_dummy.fit(X_train_50, y_train_50)"
   ]
  },
  {
   "cell_type": "code",
   "execution_count": 64,
   "id": "c13bce14",
   "metadata": {
    "tags": []
   },
   "outputs": [],
   "source": [
    "# predict the test data / assign the predicted-variable for the profit metric\n",
    "y_pred_50_dummy = model_50_dummy.predict(X_test_50)\n",
    "predicted = y_pred_50_dummy.tolist()"
   ]
  },
  {
   "cell_type": "code",
   "execution_count": 65,
   "id": "32dafabd",
   "metadata": {
    "tags": []
   },
   "outputs": [
    {
     "name": "stdout",
     "output_type": "stream",
     "text": [
      "              precision    recall  f1-score   support\n",
      "\n",
      "          1X       0.00      0.00      0.00       416\n",
      "           2       0.62      1.00      0.77       686\n",
      "\n",
      "    accuracy                           0.62      1102\n",
      "   macro avg       0.31      0.50      0.38      1102\n",
      "weighted avg       0.39      0.62      0.48      1102\n",
      "\n"
     ]
    }
   ],
   "source": [
    "# print the classification report\n",
    "print(classification_report(y_test_50, y_pred_50_dummy))"
   ]
  },
  {
   "cell_type": "code",
   "execution_count": 66,
   "id": "09aada03",
   "metadata": {
    "tags": []
   },
   "outputs": [
    {
     "name": "stdout",
     "output_type": "stream",
     "text": [
      "-0.58 units in 1102 games\n",
      "-0.05 % gain per game\n"
     ]
    }
   ],
   "source": [
    "# print the result of the profit metric\n",
    "profit_metric(actual, predicted, away_odd, dc_odd, avg_odd_fav, avg_odd_out)"
   ]
  },
  {
   "cell_type": "markdown",
   "id": "c797d693",
   "metadata": {
    "tags": []
   },
   "source": [
    "#### 2.2 Logistic Regression"
   ]
  },
  {
   "cell_type": "code",
   "execution_count": 67,
   "id": "a730bab1",
   "metadata": {
    "tags": []
   },
   "outputs": [
    {
     "data": {
      "text/plain": [
       "LogisticRegression()"
      ]
     },
     "execution_count": 67,
     "metadata": {},
     "output_type": "execute_result"
    }
   ],
   "source": [
    "# create a Logistic Regression Model / fit the model\n",
    "logreg_50 = LogisticRegression()\n",
    "logreg_50.fit(X_train_50, y_train_50)"
   ]
  },
  {
   "cell_type": "code",
   "execution_count": 68,
   "id": "51b0b1ba",
   "metadata": {
    "tags": []
   },
   "outputs": [],
   "source": [
    "# predict the test data / assign the predicted-variable for the profit metric\n",
    "y_pred_logreg_50 = logreg_50.predict(X_test_50)\n",
    "predicted = y_pred_logreg_50.tolist()"
   ]
  },
  {
   "cell_type": "code",
   "execution_count": 69,
   "id": "3e986d03",
   "metadata": {
    "tags": []
   },
   "outputs": [
    {
     "name": "stdout",
     "output_type": "stream",
     "text": [
      "              precision    recall  f1-score   support\n",
      "\n",
      "          1X       0.48      0.07      0.13       416\n",
      "           2       0.63      0.95      0.76       686\n",
      "\n",
      "    accuracy                           0.62      1102\n",
      "   macro avg       0.55      0.51      0.44      1102\n",
      "weighted avg       0.57      0.62      0.52      1102\n",
      "\n"
     ]
    }
   ],
   "source": [
    "# print the classification report\n",
    "print(classification_report(y_test_50, y_pred_logreg_50))"
   ]
  },
  {
   "cell_type": "code",
   "execution_count": 70,
   "id": "fd683f4c",
   "metadata": {
    "tags": []
   },
   "outputs": [
    {
     "name": "stdout",
     "output_type": "stream",
     "text": [
      "0.47 units in 1102 games\n",
      "0.04 % gain per game\n"
     ]
    }
   ],
   "source": [
    "# print the result of the profit metric\n",
    "profit_metric(actual, predicted, away_odd, dc_odd, avg_odd_fav, avg_odd_out)"
   ]
  },
  {
   "cell_type": "markdown",
   "id": "459c14be",
   "metadata": {
    "tags": []
   },
   "source": [
    "#### 2.3 Dimensionality Reduction"
   ]
  },
  {
   "cell_type": "markdown",
   "id": "38e0f363",
   "metadata": {
    "tags": []
   },
   "source": [
    "##### Data scaling\n",
    "PCA requires scaling/normalization of the data to work properly."
   ]
  },
  {
   "cell_type": "code",
   "execution_count": 71,
   "id": "c3e72178",
   "metadata": {
    "tags": []
   },
   "outputs": [],
   "source": [
    "# scale train data with standard scaler\n",
    "X_train_50_scaled = scaler.fit_transform(X_train_50)\n",
    "df_50_scaled = pd.DataFrame(data=X_train_50_scaled,columns=X_train_50.columns)"
   ]
  },
  {
   "cell_type": "markdown",
   "id": "4538d6ae",
   "metadata": {
    "tags": []
   },
   "source": [
    "##### Dimensionality Reduction"
   ]
  },
  {
   "cell_type": "code",
   "execution_count": 72,
   "id": "8b247db7",
   "metadata": {
    "tags": []
   },
   "outputs": [],
   "source": [
    "# create a PCA object\n",
    "pca_50 = PCA(n_components=None)"
   ]
  },
  {
   "cell_type": "code",
   "execution_count": 73,
   "id": "a804a482",
   "metadata": {
    "tags": []
   },
   "outputs": [],
   "source": [
    "# fit the PCA object\n",
    "df_50_scaled_pca = pca_50.fit(df_50_scaled)"
   ]
  },
  {
   "cell_type": "code",
   "execution_count": 74,
   "id": "3903a34f",
   "metadata": {
    "tags": []
   },
   "outputs": [
    {
     "data": {
      "image/png": "[encoded data removed]",
      "text/plain": [
       "<Figure size 720x432 with 1 Axes>"
      ]
     },
     "metadata": {
      "needs_background": "light"
     },
     "output_type": "display_data"
    }
   ],
   "source": [
    "# plot the explained variance ratio for each principal component\n",
    "plt.figure(figsize=(10,6))\n",
    "plt.scatter(x=[i+1 for i in range(len(df_50_scaled_pca.explained_variance_ratio_))],\n",
    "            y=df_50_scaled_pca.explained_variance_ratio_,\n",
    "            s=200, alpha=0.75,c='orange',edgecolor='k')\n",
    "plt.grid(True)\n",
    "plt.title(\"Explained variance ratio of the \\nfitted principal component vector\\n\",fontsize=25)\n",
    "plt.xlabel(\"Principal components\",fontsize=15)\n",
    "plt.xticks([i+1 for i in range(len(df_50_scaled_pca.explained_variance_ratio_))],fontsize=15)\n",
    "plt.yticks(fontsize=15)\n",
    "plt.ylabel(\"Explained variance ratio\",fontsize=15)\n",
    "plt.show()"
   ]
  },
  {
   "cell_type": "code",
   "execution_count": 75,
   "id": "2cce7f4b",
   "metadata": {
    "tags": []
   },
   "outputs": [],
   "source": [
    "# transform the scaled data set using the fitted PCA object\n",
    "X_train_50_scaled_trans = pca_50.transform(df_50_scaled)"
   ]
  },
  {
   "cell_type": "code",
   "execution_count": 76,
   "id": "0bcbd537",
   "metadata": {
    "tags": []
   },
   "outputs": [],
   "source": [
    "# put it in a data frame\n",
    "X_train_50_scaled_trans = pd.DataFrame(data=X_train_50_scaled_trans)"
   ]
  },
  {
   "cell_type": "code",
   "execution_count": 77,
   "id": "b187cdd5",
   "metadata": {
    "tags": []
   },
   "outputs": [],
   "source": [
    "# assign the most meaningful variables\n",
    "variables_50 = [0,1,2,3,4,5,6]"
   ]
  },
  {
   "cell_type": "markdown",
   "id": "b94c3347",
   "metadata": {
    "tags": []
   },
   "source": [
    "#### 2.4 Logistic Regression (PCA)"
   ]
  },
  {
   "cell_type": "code",
   "execution_count": 78,
   "id": "6e197f75",
   "metadata": {
    "tags": []
   },
   "outputs": [
    {
     "data": {
      "text/plain": [
       "LogisticRegression()"
      ]
     },
     "execution_count": 78,
     "metadata": {},
     "output_type": "execute_result"
    }
   ],
   "source": [
    "# create a Logistic Regression Model / fit the model (PCA data)\n",
    "logreg_50_pca = LogisticRegression()\n",
    "logreg_50_pca.fit(X_train_50_scaled_trans[variables_50], y_train_50)"
   ]
  },
  {
   "cell_type": "code",
   "execution_count": 79,
   "id": "21457fef",
   "metadata": {
    "tags": []
   },
   "outputs": [],
   "source": [
    "# scale test data with standard scaler / transform the scaled data set using the fitted PCA object\n",
    "X_test_50_scaled = scaler.transform(X_test_50)\n",
    "X_test_50_scaled_trans = pca_50.transform(X_test_50_scaled)"
   ]
  },
  {
   "cell_type": "code",
   "execution_count": 80,
   "id": "42d85099",
   "metadata": {
    "tags": []
   },
   "outputs": [],
   "source": [
    "# put it in a data frame\n",
    "X_test_50_scaled_trans = pd.DataFrame(data=X_test_50_scaled_trans)"
   ]
  },
  {
   "cell_type": "code",
   "execution_count": 81,
   "id": "d754ece2",
   "metadata": {
    "tags": []
   },
   "outputs": [],
   "source": [
    "# predict the test data / assign the predicted-variable for the profit metric\n",
    "y_pred_logreg_50_pca = logreg_50_pca.predict(X_test_50_scaled_trans[[0,1,2,3,4,5,6]])\n",
    "predicted = y_pred_logreg_50_pca.tolist()"
   ]
  },
  {
   "cell_type": "code",
   "execution_count": 82,
   "id": "3a8ac2a5",
   "metadata": {
    "tags": []
   },
   "outputs": [
    {
     "name": "stdout",
     "output_type": "stream",
     "text": [
      "              precision    recall  f1-score   support\n",
      "\n",
      "          1X       0.40      0.03      0.06       416\n",
      "           2       0.62      0.97      0.76       686\n",
      "\n",
      "    accuracy                           0.62      1102\n",
      "   macro avg       0.51      0.50      0.41      1102\n",
      "weighted avg       0.54      0.62      0.50      1102\n",
      "\n"
     ]
    }
   ],
   "source": [
    "# print the classification report\n",
    "print(classification_report(y_test_50, y_pred_logreg_50_pca))"
   ]
  },
  {
   "cell_type": "code",
   "execution_count": 83,
   "id": "17c2075d",
   "metadata": {
    "tags": []
   },
   "outputs": [
    {
     "name": "stdout",
     "output_type": "stream",
     "text": [
      "-2.57 units in 1102 games\n",
      "-0.23 % gain per game\n"
     ]
    }
   ],
   "source": [
    "# print the result of the profit metric\n",
    "profit_metric(actual, predicted, away_odd, dc_odd, avg_odd_fav, avg_odd_out)"
   ]
  },
  {
   "cell_type": "markdown",
   "id": "ecfeb9b6",
   "metadata": {},
   "source": [
    "#### 2.5 Support Vector Machine (PCA)"
   ]
  },
  {
   "cell_type": "code",
   "execution_count": 84,
   "id": "c24cfa68",
   "metadata": {},
   "outputs": [],
   "source": [
    "# create a SVM-Model\n",
    "model_50_svm_pca = SVC(kernel='linear', verbose = 1)"
   ]
  },
  {
   "cell_type": "code",
   "execution_count": 85,
   "id": "d69178f1",
   "metadata": {},
   "outputs": [
    {
     "name": "stdout",
     "output_type": "stream",
     "text": [
      "[LibSVM]"
     ]
    },
    {
     "data": {
      "text/plain": [
       "SVC(kernel='linear', verbose=1)"
      ]
     },
     "execution_count": 85,
     "metadata": {},
     "output_type": "execute_result"
    }
   ],
   "source": [
    "# fit the model\n",
    "model_50_svm_pca.fit(X_train_50_scaled_trans[variables_50], y_train_50)"
   ]
  },
  {
   "cell_type": "code",
   "execution_count": 86,
   "id": "36c921c1",
   "metadata": {},
   "outputs": [],
   "source": [
    "# predict the test data\n",
    "y_pred_50_svm_pca = model_50_svm_pca.predict(X_test_50_scaled_trans[[0,1,2,3,4,5,6]])"
   ]
  },
  {
   "cell_type": "code",
   "execution_count": 87,
   "id": "360bdafb",
   "metadata": {},
   "outputs": [
    {
     "name": "stdout",
     "output_type": "stream",
     "text": [
      "              precision    recall  f1-score   support\n",
      "\n",
      "          1X       0.00      0.00      0.00       416\n",
      "           2       0.62      1.00      0.77       686\n",
      "\n",
      "    accuracy                           0.62      1102\n",
      "   macro avg       0.31      0.50      0.38      1102\n",
      "weighted avg       0.39      0.62      0.48      1102\n",
      "\n"
     ]
    }
   ],
   "source": [
    "# print the classification report\n",
    "print(classification_report(y_test_50, y_pred_50_svm_pca))"
   ]
  },
  {
   "cell_type": "code",
   "execution_count": 88,
   "id": "9c148dc2",
   "metadata": {},
   "outputs": [
    {
     "name": "stdout",
     "output_type": "stream",
     "text": [
      "-0.58 units in 1102 games\n",
      "-0.05 % gain per game\n"
     ]
    }
   ],
   "source": [
    "# assign the predicted-variable for the profit metric / print the result of the profit metric\n",
    "predicted = y_pred_50_svm_pca\n",
    "profit_metric(actual, predicted, away_odd, dc_odd, avg_odd_fav, avg_odd_out)"
   ]
  },
  {
   "cell_type": "markdown",
   "id": "6bd27a98",
   "metadata": {},
   "source": [
    "#### 2.6 Random Forest (PCA)"
   ]
  },
  {
   "cell_type": "code",
   "execution_count": 89,
   "id": "c9051640",
   "metadata": {},
   "outputs": [],
   "source": [
    "# create a Random Forest-Model\n",
    "model_50_rf = RandomForestClassifier(n_estimators=120, \n",
    "                               random_state=42, \n",
    "                               max_features = 'sqrt',\n",
    "                               n_jobs=-1, verbose = 1)"
   ]
  },
  {
   "cell_type": "code",
   "execution_count": 90,
   "id": "f779911e",
   "metadata": {},
   "outputs": [
    {
     "name": "stderr",
     "output_type": "stream",
     "text": [
      "[Parallel(n_jobs=-1)]: Using backend ThreadingBackend with 4 concurrent workers.\n",
      "[Parallel(n_jobs=-1)]: Done  42 tasks      | elapsed:    0.1s\n",
      "[Parallel(n_jobs=-1)]: Done 120 out of 120 | elapsed:    0.3s finished\n"
     ]
    },
    {
     "data": {
      "text/plain": [
       "RandomForestClassifier(max_features='sqrt', n_estimators=120, n_jobs=-1,\n",
       "                       random_state=42, verbose=1)"
      ]
     },
     "execution_count": 90,
     "metadata": {},
     "output_type": "execute_result"
    }
   ],
   "source": [
    "# fit the model\n",
    "model_50_rf.fit(X_train_50_scaled_trans[variables_50], y_train_50)"
   ]
  },
  {
   "cell_type": "code",
   "execution_count": 91,
   "id": "4aae4262",
   "metadata": {},
   "outputs": [
    {
     "name": "stderr",
     "output_type": "stream",
     "text": [
      "[Parallel(n_jobs=4)]: Using backend ThreadingBackend with 4 concurrent workers.\n",
      "[Parallel(n_jobs=4)]: Done  42 tasks      | elapsed:    0.0s\n",
      "[Parallel(n_jobs=4)]: Done 120 out of 120 | elapsed:    0.0s finished\n"
     ]
    }
   ],
   "source": [
    "# predict the test data\n",
    "y_pred_50_rf = model_50_rf.predict(X_test_50_scaled_trans[[0,1,2,3,4,5,6]])"
   ]
  },
  {
   "cell_type": "code",
   "execution_count": 92,
   "id": "250ff040",
   "metadata": {},
   "outputs": [
    {
     "name": "stdout",
     "output_type": "stream",
     "text": [
      "              precision    recall  f1-score   support\n",
      "\n",
      "          1X       0.42      0.24      0.30       416\n",
      "           2       0.63      0.80      0.71       686\n",
      "\n",
      "    accuracy                           0.59      1102\n",
      "   macro avg       0.53      0.52      0.51      1102\n",
      "weighted avg       0.55      0.59      0.56      1102\n",
      "\n"
     ]
    }
   ],
   "source": [
    "# print the classification report\n",
    "print(classification_report(y_test_50, y_pred_50_rf))"
   ]
  },
  {
   "cell_type": "code",
   "execution_count": 93,
   "id": "7d8a3276",
   "metadata": {},
   "outputs": [
    {
     "name": "stdout",
     "output_type": "stream",
     "text": [
      "-6.37 units in 1102 games\n",
      "-0.58 % gain per game\n"
     ]
    }
   ],
   "source": [
    "# assign the predicted-variable for the profit metric / print the result of the profit metric\n",
    "predicted = y_pred_50_rf\n",
    "profit_metric(actual, predicted, away_odd, dc_odd, avg_odd_fav, avg_odd_out)"
   ]
  },
  {
   "cell_type": "markdown",
   "id": "855d3ee1",
   "metadata": {},
   "source": [
    "#### 2.7 Extra Trees (PCA)"
   ]
  },
  {
   "cell_type": "code",
   "execution_count": 94,
   "id": "3d9f65da",
   "metadata": {},
   "outputs": [],
   "source": [
    "# create a Extra Trees-Model\n",
    "model_50_extra_pca = ExtraTreesClassifier(n_estimators=100, random_state=42)"
   ]
  },
  {
   "cell_type": "code",
   "execution_count": 95,
   "id": "d87b5487",
   "metadata": {},
   "outputs": [
    {
     "data": {
      "text/plain": [
       "ExtraTreesClassifier(random_state=42)"
      ]
     },
     "execution_count": 95,
     "metadata": {},
     "output_type": "execute_result"
    }
   ],
   "source": [
    "# fit the model\n",
    "model_50_extra_pca.fit(X_train_50_scaled_trans[variables_50], y_train_50)"
   ]
  },
  {
   "cell_type": "code",
   "execution_count": 96,
   "id": "8ad9aa2a",
   "metadata": {},
   "outputs": [],
   "source": [
    "# predict the test data\n",
    "y_pred_50_extra_pca = model_50_extra_pca.predict(X_test_50_scaled_trans[[0,1,2,3,4,5,6]])"
   ]
  },
  {
   "cell_type": "code",
   "execution_count": 97,
   "id": "13e45253",
   "metadata": {},
   "outputs": [
    {
     "name": "stdout",
     "output_type": "stream",
     "text": [
      "              precision    recall  f1-score   support\n",
      "\n",
      "          1X       0.39      0.19      0.26       416\n",
      "           2       0.63      0.82      0.71       686\n",
      "\n",
      "    accuracy                           0.58      1102\n",
      "   macro avg       0.51      0.51      0.48      1102\n",
      "weighted avg       0.54      0.58      0.54      1102\n",
      "\n"
     ]
    }
   ],
   "source": [
    "# print the classification report\n",
    "print(classification_report(y_test_50, y_pred_50_extra_pca))"
   ]
  },
  {
   "cell_type": "code",
   "execution_count": 98,
   "id": "21dfeafc",
   "metadata": {},
   "outputs": [
    {
     "name": "stdout",
     "output_type": "stream",
     "text": [
      "-10.85 units in 1102 games\n",
      "-0.98 % gain per game\n"
     ]
    }
   ],
   "source": [
    "# assign the predicted-variable for the profit metric / print the result of the profit metric\n",
    "predicted = y_pred_50_extra_pca\n",
    "profit_metric(actual, predicted, away_odd, dc_odd, avg_odd_fav, avg_odd_out)"
   ]
  },
  {
   "cell_type": "markdown",
   "id": "81eee080",
   "metadata": {},
   "source": [
    "#### 2.8 KNN (PCA)"
   ]
  },
  {
   "cell_type": "code",
   "execution_count": 99,
   "id": "c6bc6445",
   "metadata": {},
   "outputs": [],
   "source": [
    "# create a KNN-Model\n",
    "model_50_knn_pca = KNeighborsClassifier(n_neighbors=5, metric='minkowski', n_jobs=-1)"
   ]
  },
  {
   "cell_type": "code",
   "execution_count": 100,
   "id": "79a9cebc",
   "metadata": {},
   "outputs": [
    {
     "data": {
      "text/plain": [
       "KNeighborsClassifier(n_jobs=-1)"
      ]
     },
     "execution_count": 100,
     "metadata": {},
     "output_type": "execute_result"
    }
   ],
   "source": [
    "# fit the model\n",
    "model_50_knn_pca.fit(X_train_50_scaled_trans[variables_50], y_train_50)"
   ]
  },
  {
   "cell_type": "code",
   "execution_count": 101,
   "id": "d16500e8",
   "metadata": {},
   "outputs": [],
   "source": [
    "# predict the test data\n",
    "y_pred_50_knn_pca = model_50_knn_pca.predict(X_test_50_scaled_trans[[0,1,2,3,4,5,6]])"
   ]
  },
  {
   "cell_type": "code",
   "execution_count": 102,
   "id": "30c52854",
   "metadata": {},
   "outputs": [
    {
     "name": "stdout",
     "output_type": "stream",
     "text": [
      "              precision    recall  f1-score   support\n",
      "\n",
      "          1X       0.40      0.35      0.37       416\n",
      "           2       0.64      0.69      0.66       686\n",
      "\n",
      "    accuracy                           0.56      1102\n",
      "   macro avg       0.52      0.52      0.52      1102\n",
      "weighted avg       0.55      0.56      0.55      1102\n",
      "\n"
     ]
    }
   ],
   "source": [
    "# print the classification report\n",
    "print(classification_report(y_test_50, y_pred_50_knn_pca))"
   ]
  },
  {
   "cell_type": "code",
   "execution_count": 103,
   "id": "30eaa1e9",
   "metadata": {},
   "outputs": [
    {
     "name": "stdout",
     "output_type": "stream",
     "text": [
      "-6.58 units in 1102 games\n",
      "-0.6 % gain per game\n"
     ]
    }
   ],
   "source": [
    "# assign the predicted-variable for the profit metric / print the result of the profit metric\n",
    "predicted = y_pred_50_knn_pca\n",
    "profit_metric(actual, predicted, away_odd, dc_odd, avg_odd_fav, avg_odd_out)"
   ]
  },
  {
   "cell_type": "markdown",
   "id": "b5b4cde9",
   "metadata": {},
   "source": [
    "#### 2.9 AdaBoost (PCA)"
   ]
  },
  {
   "cell_type": "code",
   "execution_count": 104,
   "id": "e34b6256",
   "metadata": {},
   "outputs": [],
   "source": [
    "# create a AdaBoost-Model\n",
    "model_50_ada_pca = AdaBoostClassifier()"
   ]
  },
  {
   "cell_type": "code",
   "execution_count": 105,
   "id": "4602a796",
   "metadata": {},
   "outputs": [
    {
     "data": {
      "text/plain": [
       "AdaBoostClassifier()"
      ]
     },
     "execution_count": 105,
     "metadata": {},
     "output_type": "execute_result"
    }
   ],
   "source": [
    "# fit the model\n",
    "model_50_ada_pca.fit(X_train_50_scaled_trans[variables_50], y_train_50)"
   ]
  },
  {
   "cell_type": "code",
   "execution_count": 106,
   "id": "862d9935",
   "metadata": {},
   "outputs": [],
   "source": [
    "# predict the test data\n",
    "y_pred_50_ada_pca = model_50_ada_pca.predict(X_test_50_scaled_trans[[0,1,2,3,4,5,6]])"
   ]
  },
  {
   "cell_type": "code",
   "execution_count": 107,
   "id": "a8d8d003",
   "metadata": {},
   "outputs": [
    {
     "name": "stdout",
     "output_type": "stream",
     "text": [
      "              precision    recall  f1-score   support\n",
      "\n",
      "          1X       0.39      0.17      0.23       416\n",
      "           2       0.62      0.84      0.72       686\n",
      "\n",
      "    accuracy                           0.59      1102\n",
      "   macro avg       0.51      0.50      0.48      1102\n",
      "weighted avg       0.54      0.59      0.53      1102\n",
      "\n"
     ]
    }
   ],
   "source": [
    "# print the classification report\n",
    "print(classification_report(y_test_50, y_pred_50_ada_pca))"
   ]
  },
  {
   "cell_type": "code",
   "execution_count": 108,
   "id": "acced743",
   "metadata": {},
   "outputs": [
    {
     "name": "stdout",
     "output_type": "stream",
     "text": [
      "-9.59 units in 1102 games\n",
      "-0.87 % gain per game\n"
     ]
    }
   ],
   "source": [
    "# assign the predicted-variable for the profit metric / print the result of the profit metric\n",
    "predicted = y_pred_50_ada_pca\n",
    "profit_metric(actual, predicted, away_odd, dc_odd, avg_odd_fav, avg_odd_out)"
   ]
  },
  {
   "cell_type": "markdown",
   "id": "89595faa",
   "metadata": {},
   "source": [
    "#### 2.10 XGBoost (PCA)"
   ]
  },
  {
   "cell_type": "code",
   "execution_count": 109,
   "id": "a888f7f1",
   "metadata": {},
   "outputs": [],
   "source": [
    "# create a XGBoost-Model\n",
    "model_50_xgb_pca = xgb.XGBClassifier()"
   ]
  },
  {
   "cell_type": "code",
   "execution_count": 110,
   "id": "fd66d06b",
   "metadata": {},
   "outputs": [
    {
     "name": "stdout",
     "output_type": "stream",
     "text": [
      "[12:04:14] WARNING: /Users/travis/build/dmlc/xgboost/src/learner.cc:1095: Starting in XGBoost 1.3.0, the default evaluation metric used with the objective 'binary:logistic' was changed from 'error' to 'logloss'. Explicitly set eval_metric if you'd like to restore the old behavior.\n"
     ]
    },
    {
     "data": {
      "text/plain": [
       "XGBClassifier(base_score=0.5, booster='gbtree', colsample_bylevel=1,\n",
       "              colsample_bynode=1, colsample_bytree=1, gamma=0, gpu_id=-1,\n",
       "              importance_type='gain', interaction_constraints='',\n",
       "              learning_rate=0.300000012, max_delta_step=0, max_depth=6,\n",
       "              min_child_weight=1, missing=nan, monotone_constraints='()',\n",
       "              n_estimators=100, n_jobs=4, num_parallel_tree=1, random_state=0,\n",
       "              reg_alpha=0, reg_lambda=1, scale_pos_weight=1, subsample=1,\n",
       "              tree_method='exact', validate_parameters=1, verbosity=None)"
      ]
     },
     "execution_count": 110,
     "metadata": {},
     "output_type": "execute_result"
    }
   ],
   "source": [
    "# fit the model\n",
    "model_50_xgb_pca.fit(X_train_50_scaled_trans[variables_50], y_train_50)"
   ]
  },
  {
   "cell_type": "code",
   "execution_count": 111,
   "id": "1e148f62",
   "metadata": {},
   "outputs": [],
   "source": [
    "# predict the test data\n",
    "y_pred_50_xgb_pca = model_50_xgb_pca.predict(X_test_50_scaled_trans[[0,1,2,3,4,5,6]])"
   ]
  },
  {
   "cell_type": "code",
   "execution_count": 112,
   "id": "b7f29fde",
   "metadata": {},
   "outputs": [
    {
     "name": "stdout",
     "output_type": "stream",
     "text": [
      "              precision    recall  f1-score   support\n",
      "\n",
      "          1X       0.40      0.29      0.34       416\n",
      "           2       0.63      0.73      0.68       686\n",
      "\n",
      "    accuracy                           0.57      1102\n",
      "   macro avg       0.51      0.51      0.51      1102\n",
      "weighted avg       0.54      0.57      0.55      1102\n",
      "\n"
     ]
    }
   ],
   "source": [
    "# print the classification report\n",
    "print(classification_report(y_test_50, y_pred_50_xgb_pca))"
   ]
  },
  {
   "cell_type": "code",
   "execution_count": 113,
   "id": "486c14ef",
   "metadata": {},
   "outputs": [
    {
     "name": "stdout",
     "output_type": "stream",
     "text": [
      "-8.68 units in 1102 games\n",
      "-0.79 % gain per game\n"
     ]
    }
   ],
   "source": [
    "# assign the predicted-variable for the profit metric / print the result of the profit metric\n",
    "predicted = y_pred_50_xgb_pca\n",
    "profit_metric(actual, predicted, away_odd, dc_odd, avg_odd_fav, avg_odd_out)"
   ]
  },
  {
   "cell_type": "markdown",
   "id": "6737d4d2",
   "metadata": {},
   "source": [
    "## 3 Favorite Dataframe"
   ]
  },
  {
   "cell_type": "code",
   "execution_count": 114,
   "id": "d95296a1",
   "metadata": {},
   "outputs": [],
   "source": [
    "# loading the dataframe\n",
    "X_train_fav = pd.read_csv('Data/model_away_csv/X_train_away_fav.csv')\n",
    "X_test_fav = pd.read_csv('Data/model_away_csv/X_test_away_fav.csv')\n",
    "y_train_fav = pd.read_csv('Data/model_away_csv/y_train_away_fav.csv')\n",
    "y_test_fav = pd.read_csv('Data/model_away_csv/y_test_away_fav.csv')\n",
    "y_train_fav = y_train_fav['two_way_a_odd']\n",
    "y_test_fav = y_test_fav['two_way_a_odd']"
   ]
  },
  {
   "cell_type": "code",
   "execution_count": 115,
   "id": "1854a940",
   "metadata": {},
   "outputs": [],
   "source": [
    "# assigning the variables of the profit metric\n",
    "actual = y_test_fav\n",
    "home_odd = X_test_fav.MaxAway\n",
    "dc_odd = X_test_fav.dc_home"
   ]
  },
  {
   "cell_type": "markdown",
   "id": "4b853a46",
   "metadata": {},
   "source": [
    "#### 3.1 Dummy-Classifier"
   ]
  },
  {
   "cell_type": "code",
   "execution_count": 116,
   "id": "21ddeccf",
   "metadata": {},
   "outputs": [],
   "source": [
    "# create a Dummy-Model\n",
    "model_dummy_fav = DummyClassifier(strategy = 'most_frequent')"
   ]
  },
  {
   "cell_type": "code",
   "execution_count": 117,
   "id": "449a17ca",
   "metadata": {},
   "outputs": [
    {
     "data": {
      "text/plain": [
       "DummyClassifier(strategy='most_frequent')"
      ]
     },
     "execution_count": 117,
     "metadata": {},
     "output_type": "execute_result"
    }
   ],
   "source": [
    "# fit the model\n",
    "model_dummy_fav.fit(X_train_fav, y_train_fav)"
   ]
  },
  {
   "cell_type": "code",
   "execution_count": 118,
   "id": "0e298b9e",
   "metadata": {},
   "outputs": [],
   "source": [
    "# predict the test data / assign the predicted-variable for the profit metric\n",
    "y_pred_dummy_fav = model_dummy_fav.predict(X_test_fav)\n",
    "predicted = y_pred_dummy_fav.tolist()"
   ]
  },
  {
   "cell_type": "code",
   "execution_count": 119,
   "id": "75dcf063",
   "metadata": {},
   "outputs": [
    {
     "name": "stdout",
     "output_type": "stream",
     "text": [
      "              precision    recall  f1-score   support\n",
      "\n",
      "          1X       0.00      0.00      0.00        75\n",
      "           2       0.67      1.00      0.81       155\n",
      "\n",
      "    accuracy                           0.67       230\n",
      "   macro avg       0.34      0.50      0.40       230\n",
      "weighted avg       0.45      0.67      0.54       230\n",
      "\n"
     ]
    }
   ],
   "source": [
    "# print the classification report\n",
    "print(classification_report(y_test_fav, y_pred_dummy_fav))"
   ]
  },
  {
   "cell_type": "code",
   "execution_count": 120,
   "id": "c8eb7a6a",
   "metadata": {},
   "outputs": [
    {
     "name": "stdout",
     "output_type": "stream",
     "text": [
      "18.73 units in 230 games\n",
      "8.14 % gain per game\n"
     ]
    }
   ],
   "source": [
    "# print the result of the profit metric\n",
    "profit_metric_fav(actual, predicted, away_odd, dc_odd)"
   ]
  },
  {
   "cell_type": "markdown",
   "id": "1954965a",
   "metadata": {},
   "source": [
    "#### 3.2 Logistic Regression"
   ]
  },
  {
   "cell_type": "code",
   "execution_count": 121,
   "id": "96e02c6a",
   "metadata": {},
   "outputs": [],
   "source": [
    "# create a Logistic Regression Model\n",
    "logreg_fav = LogisticRegression()"
   ]
  },
  {
   "cell_type": "code",
   "execution_count": 122,
   "id": "405ea7d3",
   "metadata": {},
   "outputs": [
    {
     "data": {
      "text/plain": [
       "LogisticRegression()"
      ]
     },
     "execution_count": 122,
     "metadata": {},
     "output_type": "execute_result"
    }
   ],
   "source": [
    "# fit the model\n",
    "logreg_fav.fit(X_train_fav, y_train_fav)"
   ]
  },
  {
   "cell_type": "code",
   "execution_count": 123,
   "id": "b4860d58",
   "metadata": {},
   "outputs": [],
   "source": [
    "# predict the test data / assign the predicted-variable for the profit metric\n",
    "y_pred_logreg_fav = logreg_fav.predict(X_test_fav)\n",
    "predicted = y_pred_logreg_fav.tolist()"
   ]
  },
  {
   "cell_type": "code",
   "execution_count": 124,
   "id": "5308640e",
   "metadata": {},
   "outputs": [
    {
     "name": "stdout",
     "output_type": "stream",
     "text": [
      "              precision    recall  f1-score   support\n",
      "\n",
      "          1X       0.48      0.20      0.28        75\n",
      "           2       0.70      0.90      0.79       155\n",
      "\n",
      "    accuracy                           0.67       230\n",
      "   macro avg       0.59      0.55      0.53       230\n",
      "weighted avg       0.63      0.67      0.62       230\n",
      "\n"
     ]
    }
   ],
   "source": [
    "# print the classification report\n",
    "print(classification_report(y_test_fav, y_pred_logreg_fav))"
   ]
  },
  {
   "cell_type": "code",
   "execution_count": 125,
   "id": "cdf74e75",
   "metadata": {},
   "outputs": [
    {
     "name": "stdout",
     "output_type": "stream",
     "text": [
      "21.37 units in 230 games\n",
      "9.29 % gain per game\n"
     ]
    }
   ],
   "source": [
    "# print the result of the profit metric\n",
    "profit_metric_fav(actual, predicted, away_odd, dc_odd)"
   ]
  },
  {
   "cell_type": "markdown",
   "id": "960c4426",
   "metadata": {},
   "source": [
    "#### 3.3 Dimensionality Reduction"
   ]
  },
  {
   "cell_type": "markdown",
   "id": "af6a2092",
   "metadata": {},
   "source": [
    "##### Data scaling\n",
    "PCA requires scaling/normalization of the data to work properly."
   ]
  },
  {
   "cell_type": "code",
   "execution_count": 126,
   "id": "06dcc22a",
   "metadata": {},
   "outputs": [],
   "source": [
    "# scale train data with standard scaler\n",
    "X_train_fav_scaled = scaler.fit_transform(X_train_fav)\n",
    "df_fav_scaled = pd.DataFrame(data=X_train_fav_scaled,columns=X_train_fav.columns)"
   ]
  },
  {
   "cell_type": "markdown",
   "id": "69b5f12e",
   "metadata": {},
   "source": [
    "##### Principal Component Analysis"
   ]
  },
  {
   "cell_type": "code",
   "execution_count": 127,
   "id": "99cea058",
   "metadata": {},
   "outputs": [],
   "source": [
    "# create a PCA object\n",
    "pca_fav = PCA(n_components=None)"
   ]
  },
  {
   "cell_type": "code",
   "execution_count": 128,
   "id": "561bca2a",
   "metadata": {},
   "outputs": [],
   "source": [
    "# fit the PCA object\n",
    "df_fav_scaled_pca = pca_fav.fit(df_fav_scaled)"
   ]
  },
  {
   "cell_type": "code",
   "execution_count": 129,
   "id": "4163b89b",
   "metadata": {},
   "outputs": [
    {
     "data": {
      "image/png": "[encoded data removed]",
      "text/plain": [
       "<Figure size 720x432 with 1 Axes>"
      ]
     },
     "metadata": {
      "needs_background": "light"
     },
     "output_type": "display_data"
    }
   ],
   "source": [
    "# plot the explained variance ratio for each principal component\n",
    "plt.figure(figsize=(10,6))\n",
    "plt.scatter(x=[i+1 for i in range(len(df_fav_scaled_pca.explained_variance_ratio_))],\n",
    "            y=df_fav_scaled_pca.explained_variance_ratio_,\n",
    "            s=200, alpha=0.75,c='orange',edgecolor='k')\n",
    "plt.grid(True)\n",
    "plt.title(\"Explained variance ratio of the \\nfitted principal component vector\\n\",fontsize=25)\n",
    "plt.xlabel(\"Principal components\",fontsize=15)\n",
    "plt.xticks([i+1 for i in range(len(df_fav_scaled_pca.explained_variance_ratio_))],fontsize=15)\n",
    "plt.yticks(fontsize=15)\n",
    "plt.ylabel(\"Explained variance ratio\",fontsize=15)\n",
    "plt.show()"
   ]
  },
  {
   "cell_type": "code",
   "execution_count": 130,
   "id": "bf642027",
   "metadata": {},
   "outputs": [],
   "source": [
    "# transform the scaled data set using the fitted PCA object\n",
    "X_train_fav_scaled_trans = pca_fav.transform(df_fav_scaled)"
   ]
  },
  {
   "cell_type": "code",
   "execution_count": 131,
   "id": "9a751ed9",
   "metadata": {},
   "outputs": [],
   "source": [
    "# put it in a data frame\n",
    "X_train_fav_scaled_trans = pd.DataFrame(data=X_train_fav_scaled_trans)"
   ]
  },
  {
   "cell_type": "code",
   "execution_count": 132,
   "id": "96ac63d5",
   "metadata": {},
   "outputs": [],
   "source": [
    "# assign the most meaningful variables\n",
    "variables_fav = [0,1,2,3,4,5,6]"
   ]
  },
  {
   "cell_type": "markdown",
   "id": "1f01a31c",
   "metadata": {},
   "source": [
    "#### 3.4 Logistic Regression (PCA)"
   ]
  },
  {
   "cell_type": "code",
   "execution_count": 133,
   "id": "43deea1a",
   "metadata": {},
   "outputs": [
    {
     "data": {
      "text/plain": [
       "LogisticRegression()"
      ]
     },
     "execution_count": 133,
     "metadata": {},
     "output_type": "execute_result"
    }
   ],
   "source": [
    "# create a Logistic Regression Model / fit the model (PCA data)\n",
    "logreg_fav_pca = LogisticRegression()\n",
    "logreg_fav_pca.fit(X_train_fav_scaled_trans[variables_fav], y_train_fav)"
   ]
  },
  {
   "cell_type": "code",
   "execution_count": 134,
   "id": "cac983ba",
   "metadata": {},
   "outputs": [],
   "source": [
    "# scale test data with standard scaler / transform the scaled data set using the fitted PCA object\n",
    "X_test_fav_scaled = scaler.transform(X_test_fav)\n",
    "X_test_fav_scaled_trans = pca_fav.transform(X_test_fav_scaled)"
   ]
  },
  {
   "cell_type": "code",
   "execution_count": 135,
   "id": "55742e99",
   "metadata": {},
   "outputs": [],
   "source": [
    "# put it in a data frame\n",
    "X_test_fav_scaled_trans = pd.DataFrame(data=X_test_fav_scaled_trans)"
   ]
  },
  {
   "cell_type": "code",
   "execution_count": 136,
   "id": "705876a6",
   "metadata": {},
   "outputs": [],
   "source": [
    "# predict the test data / assign the predicted-variable for the profit metric\n",
    "y_pred_logreg_fav_pca = logreg_fav_pca.predict(X_test_fav_scaled_trans[[0,1,2,3,4,5,6]])\n",
    "predicted = y_pred_logreg_fav_pca.tolist()"
   ]
  },
  {
   "cell_type": "code",
   "execution_count": 137,
   "id": "44a7a990",
   "metadata": {},
   "outputs": [
    {
     "name": "stdout",
     "output_type": "stream",
     "text": [
      "              precision    recall  f1-score   support\n",
      "\n",
      "          1X       0.45      0.12      0.19        75\n",
      "           2       0.69      0.93      0.79       155\n",
      "\n",
      "    accuracy                           0.67       230\n",
      "   macro avg       0.57      0.52      0.49       230\n",
      "weighted avg       0.61      0.67      0.59       230\n",
      "\n"
     ]
    }
   ],
   "source": [
    "# print the classification report\n",
    "print(classification_report(y_test_fav, y_pred_logreg_fav_pca))"
   ]
  },
  {
   "cell_type": "code",
   "execution_count": 138,
   "id": "4086a12f",
   "metadata": {},
   "outputs": [
    {
     "name": "stdout",
     "output_type": "stream",
     "text": [
      "16.35 units in 230 games\n",
      "7.11 % gain per game\n"
     ]
    }
   ],
   "source": [
    "# print the result of the profit metric\n",
    "profit_metric_fav(actual, predicted, away_odd, dc_odd)"
   ]
  },
  {
   "cell_type": "markdown",
   "id": "f35d1808",
   "metadata": {},
   "source": [
    "#### 3.5 Support Vector Machine (PCA)"
   ]
  },
  {
   "cell_type": "code",
   "execution_count": 139,
   "id": "0ebe74e0",
   "metadata": {},
   "outputs": [],
   "source": [
    "# create a SVM-Model\n",
    "model_fav_svm_pca = SVC(kernel='linear', verbose = 1)"
   ]
  },
  {
   "cell_type": "code",
   "execution_count": 140,
   "id": "2fd1353e",
   "metadata": {},
   "outputs": [
    {
     "name": "stdout",
     "output_type": "stream",
     "text": [
      "[LibSVM]"
     ]
    },
    {
     "data": {
      "text/plain": [
       "SVC(kernel='linear', verbose=1)"
      ]
     },
     "execution_count": 140,
     "metadata": {},
     "output_type": "execute_result"
    }
   ],
   "source": [
    "# fit the model\n",
    "model_fav_svm_pca.fit(X_train_fav_scaled_trans[variables_fav], y_train_fav)"
   ]
  },
  {
   "cell_type": "code",
   "execution_count": 141,
   "id": "e8e5363d",
   "metadata": {},
   "outputs": [],
   "source": [
    "# predict the test data\n",
    "y_pred_fav_svm_pca = model_fav_svm_pca.predict(X_test_fav_scaled_trans[[0,1,2,3,4,5,6]])"
   ]
  },
  {
   "cell_type": "code",
   "execution_count": 142,
   "id": "cfc6f251",
   "metadata": {},
   "outputs": [
    {
     "name": "stdout",
     "output_type": "stream",
     "text": [
      "              precision    recall  f1-score   support\n",
      "\n",
      "          1X       0.00      0.00      0.00        75\n",
      "           2       0.67      1.00      0.81       155\n",
      "\n",
      "    accuracy                           0.67       230\n",
      "   macro avg       0.34      0.50      0.40       230\n",
      "weighted avg       0.45      0.67      0.54       230\n",
      "\n"
     ]
    }
   ],
   "source": [
    "# print the classification report\n",
    "print(classification_report(y_test_fav, y_pred_fav_svm_pca))"
   ]
  },
  {
   "cell_type": "code",
   "execution_count": 143,
   "id": "874b4ca2",
   "metadata": {},
   "outputs": [
    {
     "name": "stdout",
     "output_type": "stream",
     "text": [
      "18.73 units in 230 games\n",
      "8.14 % gain per game\n"
     ]
    }
   ],
   "source": [
    "# assign the predicted-variable for the profit metric / print the result of the profit metric\n",
    "predicted = y_pred_fav_svm_pca\n",
    "profit_metric_fav(actual, predicted, away_odd, dc_odd)"
   ]
  },
  {
   "cell_type": "markdown",
   "id": "6c58a8cf",
   "metadata": {},
   "source": [
    "#### 3.6 Random Forest (PCA)"
   ]
  },
  {
   "cell_type": "code",
   "execution_count": 144,
   "id": "95250614",
   "metadata": {},
   "outputs": [],
   "source": [
    "# create a Random Forest-Model\n",
    "model_fav_rf = RandomForestClassifier(n_estimators=120, \n",
    "                                      random_state=42, \n",
    "                                      max_features = 'sqrt',\n",
    "                                      n_jobs=-1, verbose = 1)"
   ]
  },
  {
   "cell_type": "code",
   "execution_count": 145,
   "id": "d7df1901",
   "metadata": {},
   "outputs": [
    {
     "name": "stderr",
     "output_type": "stream",
     "text": [
      "[Parallel(n_jobs=-1)]: Using backend ThreadingBackend with 4 concurrent workers.\n",
      "[Parallel(n_jobs=-1)]: Done  42 tasks      | elapsed:    0.1s\n",
      "[Parallel(n_jobs=-1)]: Done 120 out of 120 | elapsed:    0.2s finished\n"
     ]
    },
    {
     "data": {
      "text/plain": [
       "RandomForestClassifier(max_features='sqrt', n_estimators=120, n_jobs=-1,\n",
       "                       random_state=42, verbose=1)"
      ]
     },
     "execution_count": 145,
     "metadata": {},
     "output_type": "execute_result"
    }
   ],
   "source": [
    "# fit the model\n",
    "model_fav_rf.fit(X_train_fav_scaled_trans[variables_fav], y_train_fav)"
   ]
  },
  {
   "cell_type": "code",
   "execution_count": 146,
   "id": "553afd7c",
   "metadata": {},
   "outputs": [
    {
     "name": "stderr",
     "output_type": "stream",
     "text": [
      "[Parallel(n_jobs=4)]: Using backend ThreadingBackend with 4 concurrent workers.\n",
      "[Parallel(n_jobs=4)]: Done  42 tasks      | elapsed:    0.0s\n",
      "[Parallel(n_jobs=4)]: Done 120 out of 120 | elapsed:    0.0s finished\n"
     ]
    }
   ],
   "source": [
    "# predict the test data\n",
    "y_pred_fav_rf = model_fav_rf.predict(X_test_fav_scaled_trans[[0,1,2,3,4,5,6]])"
   ]
  },
  {
   "cell_type": "code",
   "execution_count": 147,
   "id": "33166693",
   "metadata": {},
   "outputs": [
    {
     "name": "stdout",
     "output_type": "stream",
     "text": [
      "              precision    recall  f1-score   support\n",
      "\n",
      "          1X       0.28      0.12      0.17        75\n",
      "           2       0.67      0.85      0.75       155\n",
      "\n",
      "    accuracy                           0.61       230\n",
      "   macro avg       0.47      0.49      0.46       230\n",
      "weighted avg       0.54      0.61      0.56       230\n",
      "\n"
     ]
    }
   ],
   "source": [
    "# print the classification report\n",
    "print(classification_report(y_test_fav, y_pred_fav_rf))"
   ]
  },
  {
   "cell_type": "code",
   "execution_count": 148,
   "id": "3e88c30b",
   "metadata": {},
   "outputs": [
    {
     "name": "stdout",
     "output_type": "stream",
     "text": [
      "11.68 units in 230 games\n",
      "5.08 % gain per game\n"
     ]
    }
   ],
   "source": [
    "# assign the predicted-variable for the profit metric / print the result of the profit metric\n",
    "predicted = y_pred_fav_rf\n",
    "profit_metric_fav(actual, predicted, away_odd, dc_odd)"
   ]
  },
  {
   "cell_type": "markdown",
   "id": "0baa21f7",
   "metadata": {},
   "source": [
    "#### 3.7 Extra Trees (PCA)"
   ]
  },
  {
   "cell_type": "code",
   "execution_count": 149,
   "id": "ef69b1ed",
   "metadata": {},
   "outputs": [],
   "source": [
    "# create a Extra Trees-Model\n",
    "model_fav_extra_pca = ExtraTreesClassifier(n_estimators=100, random_state=42)"
   ]
  },
  {
   "cell_type": "code",
   "execution_count": 150,
   "id": "ea54a839",
   "metadata": {},
   "outputs": [
    {
     "data": {
      "text/plain": [
       "ExtraTreesClassifier(random_state=42)"
      ]
     },
     "execution_count": 150,
     "metadata": {},
     "output_type": "execute_result"
    }
   ],
   "source": [
    "# fit the model\n",
    "model_fav_extra_pca.fit(X_train_fav_scaled_trans[variables_fav], y_train_fav)"
   ]
  },
  {
   "cell_type": "code",
   "execution_count": 151,
   "id": "bcac6cf5",
   "metadata": {},
   "outputs": [],
   "source": [
    "# predict the test data\n",
    "y_pred_fav_extra_pca = model_fav_extra_pca.predict(X_test_fav_scaled_trans[[0,1,2,3,4,5,6]])"
   ]
  },
  {
   "cell_type": "code",
   "execution_count": 152,
   "id": "c13a9abc",
   "metadata": {},
   "outputs": [
    {
     "name": "stdout",
     "output_type": "stream",
     "text": [
      "              precision    recall  f1-score   support\n",
      "\n",
      "          1X       0.25      0.12      0.16        75\n",
      "           2       0.66      0.83      0.73       155\n",
      "\n",
      "    accuracy                           0.60       230\n",
      "   macro avg       0.45      0.47      0.45       230\n",
      "weighted avg       0.53      0.60      0.55       230\n",
      "\n"
     ]
    }
   ],
   "source": [
    "# print the classification report\n",
    "print(classification_report(y_test_fav, y_pred_fav_extra_pca))"
   ]
  },
  {
   "cell_type": "code",
   "execution_count": 153,
   "id": "7774f2c7",
   "metadata": {},
   "outputs": [
    {
     "name": "stdout",
     "output_type": "stream",
     "text": [
      "7.99 units in 230 games\n",
      "3.48 % gain per game\n"
     ]
    }
   ],
   "source": [
    "# assign the predicted-variable for the profit metric / print the result of the profit metric\n",
    "predicted = y_pred_fav_extra_pca\n",
    "profit_metric_fav(actual, predicted, away_odd, dc_odd)"
   ]
  },
  {
   "cell_type": "markdown",
   "id": "91d4bd43",
   "metadata": {},
   "source": [
    "#### 3.8 KNN (PCA)"
   ]
  },
  {
   "cell_type": "code",
   "execution_count": 154,
   "id": "e21d9083",
   "metadata": {},
   "outputs": [],
   "source": [
    "# create a KNN-Model\n",
    "model_fav_knn_pca = KNeighborsClassifier(n_neighbors=5, metric='minkowski', n_jobs=-1)"
   ]
  },
  {
   "cell_type": "code",
   "execution_count": 155,
   "id": "101d60c4",
   "metadata": {},
   "outputs": [
    {
     "data": {
      "text/plain": [
       "KNeighborsClassifier(n_jobs=-1)"
      ]
     },
     "execution_count": 155,
     "metadata": {},
     "output_type": "execute_result"
    }
   ],
   "source": [
    "# fit the model\n",
    "model_fav_knn_pca.fit(X_train_fav_scaled_trans[variables_fav], y_train_fav)"
   ]
  },
  {
   "cell_type": "code",
   "execution_count": 156,
   "id": "888023fc",
   "metadata": {},
   "outputs": [],
   "source": [
    "# predict the test data\n",
    "y_pred_fav_knn_pca = model_fav_knn_pca.predict(X_test_fav_scaled_trans[[0,1,2,3,4,5,6]])"
   ]
  },
  {
   "cell_type": "code",
   "execution_count": 157,
   "id": "86aa75e1",
   "metadata": {},
   "outputs": [
    {
     "name": "stdout",
     "output_type": "stream",
     "text": [
      "              precision    recall  f1-score   support\n",
      "\n",
      "          1X       0.38      0.23      0.28        75\n",
      "           2       0.69      0.82      0.75       155\n",
      "\n",
      "    accuracy                           0.63       230\n",
      "   macro avg       0.53      0.52      0.52       230\n",
      "weighted avg       0.59      0.63      0.60       230\n",
      "\n"
     ]
    }
   ],
   "source": [
    "# print the classification report\n",
    "print(classification_report(y_test_fav, y_pred_fav_knn_pca))"
   ]
  },
  {
   "cell_type": "code",
   "execution_count": 158,
   "id": "9e2f13bf",
   "metadata": {},
   "outputs": [
    {
     "name": "stdout",
     "output_type": "stream",
     "text": [
      "15.46 units in 230 games\n",
      "6.72 % gain per game\n"
     ]
    }
   ],
   "source": [
    "# assign the predicted-variable for the profit metric / print the result of the profit metric\n",
    "predicted = y_pred_fav_knn_pca\n",
    "profit_metric_fav(actual, predicted, away_odd, dc_odd)"
   ]
  },
  {
   "cell_type": "markdown",
   "id": "bd595d0c",
   "metadata": {},
   "source": [
    "#### 3.9 AdaBoost (PCA)"
   ]
  },
  {
   "cell_type": "code",
   "execution_count": 159,
   "id": "7746f938",
   "metadata": {},
   "outputs": [],
   "source": [
    "# create a AdaBoost-Model\n",
    "model_fav_ada_pca = AdaBoostClassifier()"
   ]
  },
  {
   "cell_type": "code",
   "execution_count": 160,
   "id": "86e07b38",
   "metadata": {},
   "outputs": [
    {
     "data": {
      "text/plain": [
       "AdaBoostClassifier()"
      ]
     },
     "execution_count": 160,
     "metadata": {},
     "output_type": "execute_result"
    }
   ],
   "source": [
    "# fit the model\n",
    "model_fav_ada_pca.fit(X_train_fav_scaled_trans[variables_fav], y_train_fav)"
   ]
  },
  {
   "cell_type": "code",
   "execution_count": 161,
   "id": "a2dd1a2b",
   "metadata": {},
   "outputs": [],
   "source": [
    "# predict the test data\n",
    "y_pred_fav_ada_pca = model_fav_ada_pca.predict(X_test_fav_scaled_trans[[0,1,2,3,4,5,6]])"
   ]
  },
  {
   "cell_type": "code",
   "execution_count": 162,
   "id": "6130d385",
   "metadata": {},
   "outputs": [
    {
     "name": "stdout",
     "output_type": "stream",
     "text": [
      "              precision    recall  f1-score   support\n",
      "\n",
      "          1X       0.27      0.17      0.21        75\n",
      "           2       0.66      0.77      0.71       155\n",
      "\n",
      "    accuracy                           0.57       230\n",
      "   macro avg       0.46      0.47      0.46       230\n",
      "weighted avg       0.53      0.57      0.55       230\n",
      "\n"
     ]
    }
   ],
   "source": [
    "# print the classification report\n",
    "print(classification_report(y_test_fav, y_pred_fav_ada_pca))"
   ]
  },
  {
   "cell_type": "code",
   "execution_count": 163,
   "id": "ed2b05eb",
   "metadata": {},
   "outputs": [
    {
     "name": "stdout",
     "output_type": "stream",
     "text": [
      "4.43 units in 230 games\n",
      "1.93 % gain per game\n"
     ]
    }
   ],
   "source": [
    "# assign the predicted-variable for the profit metric / print the result of the profit metric\n",
    "predicted = y_pred_fav_ada_pca\n",
    "profit_metric_fav(actual, predicted, away_odd, dc_odd)"
   ]
  },
  {
   "cell_type": "markdown",
   "id": "ceb0fd33",
   "metadata": {},
   "source": [
    "#### 3.10 XGBoost (PCA)"
   ]
  },
  {
   "cell_type": "code",
   "execution_count": 164,
   "id": "643bfe48",
   "metadata": {},
   "outputs": [],
   "source": [
    "# create a XGBoost-Model\n",
    "model_fav_xgb_pca = xgb.XGBClassifier()"
   ]
  },
  {
   "cell_type": "code",
   "execution_count": 165,
   "id": "38e766d1",
   "metadata": {},
   "outputs": [
    {
     "name": "stdout",
     "output_type": "stream",
     "text": [
      "[12:04:18] WARNING: /Users/travis/build/dmlc/xgboost/src/learner.cc:1095: Starting in XGBoost 1.3.0, the default evaluation metric used with the objective 'binary:logistic' was changed from 'error' to 'logloss'. Explicitly set eval_metric if you'd like to restore the old behavior.\n"
     ]
    },
    {
     "data": {
      "text/plain": [
       "XGBClassifier(base_score=0.5, booster='gbtree', colsample_bylevel=1,\n",
       "              colsample_bynode=1, colsample_bytree=1, gamma=0, gpu_id=-1,\n",
       "              importance_type='gain', interaction_constraints='',\n",
       "              learning_rate=0.300000012, max_delta_step=0, max_depth=6,\n",
       "              min_child_weight=1, missing=nan, monotone_constraints='()',\n",
       "              n_estimators=100, n_jobs=4, num_parallel_tree=1, random_state=0,\n",
       "              reg_alpha=0, reg_lambda=1, scale_pos_weight=1, subsample=1,\n",
       "              tree_method='exact', validate_parameters=1, verbosity=None)"
      ]
     },
     "execution_count": 165,
     "metadata": {},
     "output_type": "execute_result"
    }
   ],
   "source": [
    "# fit the model\n",
    "model_fav_xgb_pca.fit(X_train_fav_scaled_trans[variables_fav], y_train_fav)"
   ]
  },
  {
   "cell_type": "code",
   "execution_count": 166,
   "id": "397426ff",
   "metadata": {},
   "outputs": [],
   "source": [
    "# predict the test data\n",
    "y_pred_fav_xgb_pca = model_fav_xgb_pca.predict(X_test_fav_scaled_trans[[0,1,2,3,4,5,6]])"
   ]
  },
  {
   "cell_type": "code",
   "execution_count": 167,
   "id": "a594d2d9",
   "metadata": {},
   "outputs": [
    {
     "name": "stdout",
     "output_type": "stream",
     "text": [
      "              precision    recall  f1-score   support\n",
      "\n",
      "          1X       0.30      0.17      0.22        75\n",
      "           2       0.67      0.81      0.73       155\n",
      "\n",
      "    accuracy                           0.60       230\n",
      "   macro avg       0.49      0.49      0.48       230\n",
      "weighted avg       0.55      0.60      0.56       230\n",
      "\n"
     ]
    }
   ],
   "source": [
    "# print the classification report\n",
    "print(classification_report(y_test_fav, y_pred_fav_xgb_pca))"
   ]
  },
  {
   "cell_type": "code",
   "execution_count": 168,
   "id": "9c249cf1",
   "metadata": {},
   "outputs": [
    {
     "name": "stdout",
     "output_type": "stream",
     "text": [
      "10.31 units in 230 games\n",
      "4.48 % gain per game\n"
     ]
    }
   ],
   "source": [
    "# assign the predicted-variable for the profit metric / print the result of the profit metric\n",
    "predicted = y_pred_fav_xgb_pca\n",
    "profit_metric_fav(actual, predicted, away_odd, dc_odd)"
   ]
  }
 ],
 "metadata": {
  "kernelspec": {
   "display_name": "Python 3",
   "language": "python",
   "name": "python3"
  },
  "language_info": {
   "codemirror_mode": {
    "name": "ipython",
    "version": 3
   },
   "file_extension": ".py",
   "mimetype": "text/x-python",
   "name": "python",
   "nbconvert_exporter": "python",
   "pygments_lexer": "ipython3",
   "version": "3.8.5"
  }
 },
 "nbformat": 4,
 "nbformat_minor": 5
}
